{
 "cells": [
  {
   "cell_type": "markdown",
   "id": "71a95a2c",
   "metadata": {},
   "source": [
    "# Librerias y dependencias"
   ]
  },
  {
   "cell_type": "code",
   "execution_count": 17,
   "id": "83f036de",
   "metadata": {},
   "outputs": [
    {
     "data": {
      "text/html": [
       "    <style>\n",
       "        .bk-notebook-logo {\n",
       "            display: block;\n",
       "            width: 20px;\n",
       "            height: 20px;\n",
       "            background-image: url(data:image/png;base64,iVBORw0KGgoAAAANSUhEUgAAABQAAAAUCAYAAACNiR0NAAAABHNCSVQICAgIfAhkiAAAAAlwSFlzAAALEgAACxIB0t1+/AAAABx0RVh0U29mdHdhcmUAQWRvYmUgRmlyZXdvcmtzIENTNui8sowAAAOkSURBVDiNjZRtaJVlGMd/1/08zzln5zjP1LWcU9N0NkN8m2CYjpgQYQXqSs0I84OLIC0hkEKoPtiH3gmKoiJDU7QpLgoLjLIQCpEsNJ1vqUOdO7ppbuec5+V+rj4ctwzd8IIbbi6u+8f1539dt3A78eXC7QizUF7gyV1fD1Yqg4JWz84yffhm0qkFqBogB9rM8tZdtwVsPUhWhGcFJngGeWrPzHm5oaMmkfEg1usvLFyc8jLRqDOMru7AyC8saQr7GG7f5fvDeH7Ej8CM66nIF+8yngt6HWaKh7k49Soy9nXurCi1o3qUbS3zWfrYeQDTB/Qj6kX6Ybhw4B+bOYoLKCC9H3Nu/leUTZ1JdRWkkn2ldcCamzrcf47KKXdAJllSlxAOkRgyHsGC/zRday5Qld9DyoM4/q/rUoy/CXh3jzOu3bHUVZeU+DEn8FInkPBFlu3+nW3Nw0mk6vCDiWg8CeJaxEwuHS3+z5RgY+YBR6V1Z1nxSOfoaPa4LASWxxdNp+VWTk7+4vzaou8v8PN+xo+KY2xsw6une2frhw05CTYOmQvsEhjhWjn0bmXPjpE1+kplmmkP3suftwTubK9Vq22qKmrBhpY4jvd5afdRA3wGjFAgcnTK2s4hY0/GPNIb0nErGMCRxWOOX64Z8RAC4oCXdklmEvcL8o0BfkNK4lUg9HTl+oPlQxdNo3Mg4Nv175e/1LDGzZen30MEjRUtmXSfiTVu1kK8W4txyV6BMKlbgk3lMwYCiusNy9fVfvvwMxv8Ynl6vxoByANLTWplvuj/nF9m2+PDtt1eiHPBr1oIfhCChQMBw6Aw0UulqTKZdfVvfG7VcfIqLG9bcldL/+pdWTLxLUy8Qq38heUIjh4XlzZxzQm19lLFlr8vdQ97rjZVOLf8nclzckbcD4wxXMidpX30sFd37Fv/GtwwhzhxGVAprjbg0gCAEeIgwCZyTV2Z1REEW8O4py0wsjeloKoMr6iCY6dP92H6Vw/oTyICIthibxjm/DfN9lVz8IqtqKYLUXfoKVMVQVVJOElGjrnnUt9T9wbgp8AyYKaGlqingHZU/uG2NTZSVqwHQTWkx9hxjkpWDaCg6Ckj5qebgBVbT3V3NNXMSiWSDdGV3hrtzla7J+duwPOToIg42ChPQOQjspnSlp1V+Gjdged7+8UN5CRAV7a5EdFNwCjEaBR27b3W890TE7g24NAP/mMDXRWrGoFPQI9ls/MWO2dWFAar/xcOIImbbpA3zgAAAABJRU5ErkJggg==);\n",
       "        }\n",
       "    </style>\n",
       "    <div>\n",
       "        <a href=\"https://bokeh.org\" target=\"_blank\" class=\"bk-notebook-logo\"></a>\n",
       "        <span id=\"bb52b708-3fbe-4998-b1df-ab80ece292ee\">Loading BokehJS ...</span>\n",
       "    </div>\n"
      ]
     },
     "metadata": {},
     "output_type": "display_data"
    },
    {
     "data": {
      "application/javascript": "'use strict';\n(function(root) {\n  function now() {\n    return new Date();\n  }\n\n  const force = true;\n\n  if (typeof root._bokeh_onload_callbacks === \"undefined\" || force === true) {\n    root._bokeh_onload_callbacks = [];\n    root._bokeh_is_loading = undefined;\n  }\n\nconst JS_MIME_TYPE = 'application/javascript';\n  const HTML_MIME_TYPE = 'text/html';\n  const EXEC_MIME_TYPE = 'application/vnd.bokehjs_exec.v0+json';\n  const CLASS_NAME = 'output_bokeh rendered_html';\n\n  /**\n   * Render data to the DOM node\n   */\n  function render(props, node) {\n    const script = document.createElement(\"script\");\n    node.appendChild(script);\n  }\n\n  /**\n   * Handle when an output is cleared or removed\n   */\n  function handleClearOutput(event, handle) {\n    function drop(id) {\n      const view = Bokeh.index.get_by_id(id)\n      if (view != null) {\n        view.model.document.clear()\n        Bokeh.index.delete(view)\n      }\n    }\n\n    const cell = handle.cell;\n\n    const id = cell.output_area._bokeh_element_id;\n    const server_id = cell.output_area._bokeh_server_id;\n\n    // Clean up Bokeh references\n    if (id != null) {\n      drop(id)\n    }\n\n    if (server_id !== undefined) {\n      // Clean up Bokeh references\n      const cmd_clean = \"from bokeh.io.state import curstate; print(curstate().uuid_to_server['\" + server_id + \"'].get_sessions()[0].document.roots[0]._id)\";\n      cell.notebook.kernel.execute(cmd_clean, {\n        iopub: {\n          output: function(msg) {\n            const id = msg.content.text.trim()\n            drop(id)\n          }\n        }\n      });\n      // Destroy server and session\n      const cmd_destroy = \"import bokeh.io.notebook as ion; ion.destroy_server('\" + server_id + \"')\";\n      cell.notebook.kernel.execute(cmd_destroy);\n    }\n  }\n\n  /**\n   * Handle when a new output is added\n   */\n  function handleAddOutput(event, handle) {\n    const output_area = handle.output_area;\n    const output = handle.output;\n\n    // limit handleAddOutput to display_data with EXEC_MIME_TYPE content only\n    if ((output.output_type != \"display_data\") || (!Object.prototype.hasOwnProperty.call(output.data, EXEC_MIME_TYPE))) {\n      return\n    }\n\n    const toinsert = output_area.element.find(\".\" + CLASS_NAME.split(' ')[0]);\n\n    if (output.metadata[EXEC_MIME_TYPE][\"id\"] !== undefined) {\n      toinsert[toinsert.length - 1].firstChild.textContent = output.data[JS_MIME_TYPE];\n      // store reference to embed id on output_area\n      output_area._bokeh_element_id = output.metadata[EXEC_MIME_TYPE][\"id\"];\n    }\n    if (output.metadata[EXEC_MIME_TYPE][\"server_id\"] !== undefined) {\n      const bk_div = document.createElement(\"div\");\n      bk_div.innerHTML = output.data[HTML_MIME_TYPE];\n      const script_attrs = bk_div.children[0].attributes;\n      for (let i = 0; i < script_attrs.length; i++) {\n        toinsert[toinsert.length - 1].firstChild.setAttribute(script_attrs[i].name, script_attrs[i].value);\n        toinsert[toinsert.length - 1].firstChild.textContent = bk_div.children[0].textContent\n      }\n      // store reference to server id on output_area\n      output_area._bokeh_server_id = output.metadata[EXEC_MIME_TYPE][\"server_id\"];\n    }\n  }\n\n  function register_renderer(events, OutputArea) {\n\n    function append_mime(data, metadata, element) {\n      // create a DOM node to render to\n      const toinsert = this.create_output_subarea(\n        metadata,\n        CLASS_NAME,\n        EXEC_MIME_TYPE\n      );\n      this.keyboard_manager.register_events(toinsert);\n      // Render to node\n      const props = {data: data, metadata: metadata[EXEC_MIME_TYPE]};\n      render(props, toinsert[toinsert.length - 1]);\n      element.append(toinsert);\n      return toinsert\n    }\n\n    /* Handle when an output is cleared or removed */\n    events.on('clear_output.CodeCell', handleClearOutput);\n    events.on('delete.Cell', handleClearOutput);\n\n    /* Handle when a new output is added */\n    events.on('output_added.OutputArea', handleAddOutput);\n\n    /**\n     * Register the mime type and append_mime function with output_area\n     */\n    OutputArea.prototype.register_mime_type(EXEC_MIME_TYPE, append_mime, {\n      /* Is output safe? */\n      safe: true,\n      /* Index of renderer in `output_area.display_order` */\n      index: 0\n    });\n  }\n\n  // register the mime type if in Jupyter Notebook environment and previously unregistered\n  if (root.Jupyter !== undefined) {\n    const events = require('base/js/events');\n    const OutputArea = require('notebook/js/outputarea').OutputArea;\n\n    if (OutputArea.prototype.mime_types().indexOf(EXEC_MIME_TYPE) == -1) {\n      register_renderer(events, OutputArea);\n    }\n  }\n  if (typeof (root._bokeh_timeout) === \"undefined\" || force === true) {\n    root._bokeh_timeout = Date.now() + 5000;\n    root._bokeh_failed_load = false;\n  }\n\n  const NB_LOAD_WARNING = {'data': {'text/html':\n     \"<div style='background-color: #fdd'>\\n\"+\n     \"<p>\\n\"+\n     \"BokehJS does not appear to have successfully loaded. If loading BokehJS from CDN, this \\n\"+\n     \"may be due to a slow or bad network connection. Possible fixes:\\n\"+\n     \"</p>\\n\"+\n     \"<ul>\\n\"+\n     \"<li>re-rerun `output_notebook()` to attempt to load from CDN again, or</li>\\n\"+\n     \"<li>use INLINE resources instead, as so:</li>\\n\"+\n     \"</ul>\\n\"+\n     \"<code>\\n\"+\n     \"from bokeh.resources import INLINE\\n\"+\n     \"output_notebook(resources=INLINE)\\n\"+\n     \"</code>\\n\"+\n     \"</div>\"}};\n\n  function display_loaded(error = null) {\n    const el = document.getElementById(\"bb52b708-3fbe-4998-b1df-ab80ece292ee\");\n    if (el != null) {\n      const html = (() => {\n        if (typeof root.Bokeh === \"undefined\") {\n          if (error == null) {\n            return \"BokehJS is loading ...\";\n          } else {\n            return \"BokehJS failed to load.\";\n          }\n        } else {\n          const prefix = `BokehJS ${root.Bokeh.version}`;\n          if (error == null) {\n            return `${prefix} successfully loaded.`;\n          } else {\n            return `${prefix} <b>encountered errors</b> while loading and may not function as expected.`;\n          }\n        }\n      })();\n      el.innerHTML = html;\n\n      if (error != null) {\n        const wrapper = document.createElement(\"div\");\n        wrapper.style.overflow = \"auto\";\n        wrapper.style.height = \"5em\";\n        wrapper.style.resize = \"vertical\";\n        const content = document.createElement(\"div\");\n        content.style.fontFamily = \"monospace\";\n        content.style.whiteSpace = \"pre-wrap\";\n        content.style.backgroundColor = \"rgb(255, 221, 221)\";\n        content.textContent = error.stack ?? error.toString();\n        wrapper.append(content);\n        el.append(wrapper);\n      }\n    } else if (Date.now() < root._bokeh_timeout) {\n      setTimeout(() => display_loaded(error), 100);\n    }\n  }\n\n  function run_callbacks() {\n    try {\n      root._bokeh_onload_callbacks.forEach(function(callback) {\n        if (callback != null)\n          callback();\n      });\n    } finally {\n      delete root._bokeh_onload_callbacks\n    }\n    console.debug(\"Bokeh: all callbacks have finished\");\n  }\n\n  function load_libs(css_urls, js_urls, callback) {\n    if (css_urls == null) css_urls = [];\n    if (js_urls == null) js_urls = [];\n\n    root._bokeh_onload_callbacks.push(callback);\n    if (root._bokeh_is_loading > 0) {\n      console.debug(\"Bokeh: BokehJS is being loaded, scheduling callback at\", now());\n      return null;\n    }\n    if (js_urls == null || js_urls.length === 0) {\n      run_callbacks();\n      return null;\n    }\n    console.debug(\"Bokeh: BokehJS not loaded, scheduling load and callback at\", now());\n    root._bokeh_is_loading = css_urls.length + js_urls.length;\n\n    function on_load() {\n      root._bokeh_is_loading--;\n      if (root._bokeh_is_loading === 0) {\n        console.debug(\"Bokeh: all BokehJS libraries/stylesheets loaded\");\n        run_callbacks()\n      }\n    }\n\n    function on_error(url) {\n      console.error(\"failed to load \" + url);\n    }\n\n    for (let i = 0; i < css_urls.length; i++) {\n      const url = css_urls[i];\n      const element = document.createElement(\"link\");\n      element.onload = on_load;\n      element.onerror = on_error.bind(null, url);\n      element.rel = \"stylesheet\";\n      element.type = \"text/css\";\n      element.href = url;\n      console.debug(\"Bokeh: injecting link tag for BokehJS stylesheet: \", url);\n      document.body.appendChild(element);\n    }\n\n    for (let i = 0; i < js_urls.length; i++) {\n      const url = js_urls[i];\n      const element = document.createElement('script');\n      element.onload = on_load;\n      element.onerror = on_error.bind(null, url);\n      element.async = false;\n      element.src = url;\n      console.debug(\"Bokeh: injecting script tag for BokehJS library: \", url);\n      document.head.appendChild(element);\n    }\n  };\n\n  function inject_raw_css(css) {\n    const element = document.createElement(\"style\");\n    element.appendChild(document.createTextNode(css));\n    document.body.appendChild(element);\n  }\n\n  const js_urls = [\"https://cdn.bokeh.org/bokeh/release/bokeh-3.8.0.min.js\", \"https://cdn.bokeh.org/bokeh/release/bokeh-gl-3.8.0.min.js\", \"https://cdn.bokeh.org/bokeh/release/bokeh-widgets-3.8.0.min.js\", \"https://cdn.bokeh.org/bokeh/release/bokeh-tables-3.8.0.min.js\", \"https://cdn.bokeh.org/bokeh/release/bokeh-mathjax-3.8.0.min.js\"];\n  const css_urls = [];\n\n  const inline_js = [    function(Bokeh) {\n      Bokeh.set_log_level(\"info\");\n    },\nfunction(Bokeh) {\n    }\n  ];\n\n  function run_inline_js() {\n    if (root.Bokeh !== undefined || force === true) {\n      try {\n            for (let i = 0; i < inline_js.length; i++) {\n      inline_js[i].call(root, root.Bokeh);\n    }\n\n      } catch (error) {display_loaded(error);throw error;\n      }if (force === true) {\n        display_loaded();\n      }} else if (Date.now() < root._bokeh_timeout) {\n      setTimeout(run_inline_js, 100);\n    } else if (!root._bokeh_failed_load) {\n      console.log(\"Bokeh: BokehJS failed to load within specified timeout.\");\n      root._bokeh_failed_load = true;\n    } else if (force !== true) {\n      const cell = $(document.getElementById(\"bb52b708-3fbe-4998-b1df-ab80ece292ee\")).parents('.cell').data().cell;\n      cell.output_area.append_execute_result(NB_LOAD_WARNING)\n    }\n  }\n\n  if (root._bokeh_is_loading === 0) {\n    console.debug(\"Bokeh: BokehJS loaded, going straight to plotting\");\n    run_inline_js();\n  } else {\n    load_libs(css_urls, js_urls, function() {\n      console.debug(\"Bokeh: BokehJS plotting callback run at\", now());\n      run_inline_js();\n    });\n  }\n}(window));",
      "application/vnd.bokehjs_load.v0+json": ""
     },
     "metadata": {},
     "output_type": "display_data"
    }
   ],
   "source": [
    "# Manipulacion de datos\n",
    "import pandas as pd\n",
    "\n",
    "# Visualizacion mediante graficas\n",
    "from bokeh.io import output_notebook, show\n",
    "from bokeh.plotting import figure\n",
    "from bokeh.models import (ColumnDataSource, HoverTool)\n",
    "from bokeh.transform import factor_cmap\n",
    "from bokeh.palettes import Viridis256\n",
    "\n",
    "# inicializacion de Bokeh para entornos Jupyter notebook\n",
    "output_notebook()"
   ]
  },
  {
   "cell_type": "markdown",
   "id": "98a5004e",
   "metadata": {},
   "source": [
    "# Carga del dataframe"
   ]
  },
  {
   "cell_type": "code",
   "execution_count": 26,
   "id": "ca480f00",
   "metadata": {},
   "outputs": [],
   "source": [
    "# Load dataset\n",
    "df = pd.read_csv('./Datasets/Dataset_procesado.csv')"
   ]
  },
  {
   "cell_type": "markdown",
   "id": "5f273dba",
   "metadata": {},
   "source": [
    "# Analisis grafico"
   ]
  },
  {
   "cell_type": "markdown",
   "id": "d0a3f325",
   "metadata": {},
   "source": [
    "## Tiempo"
   ]
  },
  {
   "cell_type": "code",
   "execution_count": 35,
   "id": "4cce8305",
   "metadata": {},
   "outputs": [
    {
     "data": {
      "text/html": [
       "\n",
       "  <div id=\"ce807579-4489-4c0e-aae4-1cc1f4a1ab3d\" data-root-id=\"p4157\" style=\"display: contents;\"></div>\n"
      ]
     },
     "metadata": {},
     "output_type": "display_data"
    },
    {
     "data": {
      "application/javascript": "(function(root) {\n  function embed_document(root) {\n  const docs_json = {\"e1e056cb-b6b3-4a0c-bf3c-2a0362e663f2\":{\"version\":\"3.8.0\",\"title\":\"Bokeh Application\",\"config\":{\"type\":\"object\",\"name\":\"DocumentConfig\",\"id\":\"p4202\",\"attributes\":{\"notifications\":{\"type\":\"object\",\"name\":\"Notifications\",\"id\":\"p4203\"}}},\"roots\":[{\"type\":\"object\",\"name\":\"Figure\",\"id\":\"p4157\",\"attributes\":{\"height\":350,\"x_range\":{\"type\":\"object\",\"name\":\"FactorRange\",\"id\":\"p4167\",\"attributes\":{\"factors\":[\"Mar\",\"Abr\",\"May\",\"Jun\",\"Jul\",\"Ago\",\"Sep\",\"Oct\",\"Nov\",\"Dic\"]}},\"y_range\":{\"type\":\"object\",\"name\":\"DataRange1d\",\"id\":\"p4159\"},\"x_scale\":{\"type\":\"object\",\"name\":\"CategoricalScale\",\"id\":\"p4168\"},\"y_scale\":{\"type\":\"object\",\"name\":\"LinearScale\",\"id\":\"p4169\"},\"title\":{\"type\":\"object\",\"name\":\"Title\",\"id\":\"p4160\",\"attributes\":{\"text\":\"Distribuci\\u00f3n Mensual de Visitas - A\\u00f1o 2023 (Mar-Dec)\",\"text_font_size\":\"14pt\"}},\"renderers\":[{\"type\":\"object\",\"name\":\"GlyphRenderer\",\"id\":\"p4198\",\"attributes\":{\"data_source\":{\"type\":\"object\",\"name\":\"ColumnDataSource\",\"id\":\"p4154\",\"attributes\":{\"selected\":{\"type\":\"object\",\"name\":\"Selection\",\"id\":\"p4155\",\"attributes\":{\"indices\":[],\"line_indices\":[]}},\"selection_policy\":{\"type\":\"object\",\"name\":\"UnionRenderers\",\"id\":\"p4156\"},\"data\":{\"type\":\"map\",\"entries\":[[\"index\",{\"type\":\"ndarray\",\"array\":{\"type\":\"bytes\",\"data\":\"H4sIAAEAAAAC/w3DiQ0AIAwEoNP6df+FhYQkGU7L5fZ4fbYfAnnvjSgAAAA=\"},\"shape\":[10],\"dtype\":\"int32\",\"order\":\"little\"}],[\"Mes_Num\",{\"type\":\"ndarray\",\"array\":{\"type\":\"bytes\",\"data\":\"H4sIAAEAAAAC/w3DiQkAIAwEsAPfqvvPawJpSbrD6XJbHq/PD/Rg3/IoAAAA\"},\"shape\":[10],\"dtype\":\"int32\",\"order\":\"little\"}],[\"Cantidad\",{\"type\":\"ndarray\",\"array\":{\"type\":\"bytes\",\"data\":\"H4sIAAEAAAAC//NkYGDIAmJvIJ4ExG+AOJmRgUESiGcB2UuAuAWIARxxoV4oAAAA\"},\"shape\":[10],\"dtype\":\"int32\",\"order\":\"little\"}],[\"Mes\",{\"type\":\"ndarray\",\"array\":[\"Mar\",\"Abr\",\"May\",\"Jun\",\"Jul\",\"Ago\",\"Sep\",\"Oct\",\"Nov\",\"Dic\"],\"shape\":[10],\"dtype\":\"object\",\"order\":\"little\"}]]}}},\"view\":{\"type\":\"object\",\"name\":\"CDSView\",\"id\":\"p4199\",\"attributes\":{\"filter\":{\"type\":\"object\",\"name\":\"AllIndices\",\"id\":\"p4200\"}}},\"glyph\":{\"type\":\"object\",\"name\":\"VBar\",\"id\":\"p4195\",\"attributes\":{\"x\":{\"type\":\"field\",\"field\":\"Mes\"},\"width\":{\"type\":\"value\",\"value\":0.8},\"top\":{\"type\":\"field\",\"field\":\"Cantidad\"},\"line_color\":{\"type\":\"value\",\"value\":\"navy\"},\"line_alpha\":{\"type\":\"value\",\"value\":0.7},\"fill_color\":{\"type\":\"value\",\"value\":\"navy\"},\"fill_alpha\":{\"type\":\"value\",\"value\":0.7},\"hatch_color\":{\"type\":\"value\",\"value\":\"navy\"},\"hatch_alpha\":{\"type\":\"value\",\"value\":0.7}}},\"nonselection_glyph\":{\"type\":\"object\",\"name\":\"VBar\",\"id\":\"p4196\",\"attributes\":{\"x\":{\"type\":\"field\",\"field\":\"Mes\"},\"width\":{\"type\":\"value\",\"value\":0.8},\"top\":{\"type\":\"field\",\"field\":\"Cantidad\"},\"line_color\":{\"type\":\"value\",\"value\":\"navy\"},\"line_alpha\":{\"type\":\"value\",\"value\":0.1},\"fill_color\":{\"type\":\"value\",\"value\":\"navy\"},\"fill_alpha\":{\"type\":\"value\",\"value\":0.1},\"hatch_color\":{\"type\":\"value\",\"value\":\"navy\"},\"hatch_alpha\":{\"type\":\"value\",\"value\":0.1}}},\"muted_glyph\":{\"type\":\"object\",\"name\":\"VBar\",\"id\":\"p4197\",\"attributes\":{\"x\":{\"type\":\"field\",\"field\":\"Mes\"},\"width\":{\"type\":\"value\",\"value\":0.8},\"top\":{\"type\":\"field\",\"field\":\"Cantidad\"},\"line_color\":{\"type\":\"value\",\"value\":\"navy\"},\"line_alpha\":{\"type\":\"value\",\"value\":0.2},\"fill_color\":{\"type\":\"value\",\"value\":\"navy\"},\"fill_alpha\":{\"type\":\"value\",\"value\":0.2},\"hatch_color\":{\"type\":\"value\",\"value\":\"navy\"},\"hatch_alpha\":{\"type\":\"value\",\"value\":0.2}}}}}],\"toolbar\":{\"type\":\"object\",\"name\":\"Toolbar\",\"id\":\"p4166\",\"attributes\":{\"tools\":[{\"type\":\"object\",\"name\":\"PanTool\",\"id\":\"p4180\"},{\"type\":\"object\",\"name\":\"WheelZoomTool\",\"id\":\"p4181\",\"attributes\":{\"renderers\":\"auto\"}},{\"type\":\"object\",\"name\":\"BoxZoomTool\",\"id\":\"p4182\",\"attributes\":{\"dimensions\":\"both\",\"overlay\":{\"type\":\"object\",\"name\":\"BoxAnnotation\",\"id\":\"p4183\",\"attributes\":{\"syncable\":false,\"line_color\":\"black\",\"line_alpha\":1.0,\"line_width\":2,\"line_dash\":[4,4],\"fill_color\":\"lightgrey\",\"fill_alpha\":0.5,\"level\":\"overlay\",\"visible\":false,\"left\":{\"type\":\"number\",\"value\":\"nan\"},\"right\":{\"type\":\"number\",\"value\":\"nan\"},\"top\":{\"type\":\"number\",\"value\":\"nan\"},\"bottom\":{\"type\":\"number\",\"value\":\"nan\"},\"left_units\":\"canvas\",\"right_units\":\"canvas\",\"top_units\":\"canvas\",\"bottom_units\":\"canvas\",\"handles\":{\"type\":\"object\",\"name\":\"BoxInteractionHandles\",\"id\":\"p4189\",\"attributes\":{\"all\":{\"type\":\"object\",\"name\":\"AreaVisuals\",\"id\":\"p4188\",\"attributes\":{\"fill_color\":\"white\",\"hover_fill_color\":\"lightgray\"}}}}}}}},{\"type\":\"object\",\"name\":\"ResetTool\",\"id\":\"p4190\"},{\"type\":\"object\",\"name\":\"SaveTool\",\"id\":\"p4191\"},{\"type\":\"object\",\"name\":\"HoverTool\",\"id\":\"p4201\",\"attributes\":{\"renderers\":\"auto\",\"tooltips\":[[\"Mes\",\"@Mes\"],[\"Visitas\",\"@Cantidad\"]],\"sort_by\":null}}]}},\"left\":[{\"type\":\"object\",\"name\":\"LinearAxis\",\"id\":\"p4175\",\"attributes\":{\"ticker\":{\"type\":\"object\",\"name\":\"BasicTicker\",\"id\":\"p4176\",\"attributes\":{\"mantissas\":[1,2,5]}},\"formatter\":{\"type\":\"object\",\"name\":\"BasicTickFormatter\",\"id\":\"p4177\"},\"major_label_policy\":{\"type\":\"object\",\"name\":\"AllLabels\",\"id\":\"p4178\"}}}],\"below\":[{\"type\":\"object\",\"name\":\"CategoricalAxis\",\"id\":\"p4170\",\"attributes\":{\"ticker\":{\"type\":\"object\",\"name\":\"CategoricalTicker\",\"id\":\"p4171\"},\"formatter\":{\"type\":\"object\",\"name\":\"CategoricalTickFormatter\",\"id\":\"p4172\"},\"major_label_policy\":{\"type\":\"object\",\"name\":\"AllLabels\",\"id\":\"p4173\"}}}],\"center\":[{\"type\":\"object\",\"name\":\"Grid\",\"id\":\"p4174\",\"attributes\":{\"axis\":{\"id\":\"p4170\"}}},{\"type\":\"object\",\"name\":\"Grid\",\"id\":\"p4179\",\"attributes\":{\"dimension\":1,\"axis\":{\"id\":\"p4175\"}}}]}}]}};\n  const render_items = [{\"docid\":\"e1e056cb-b6b3-4a0c-bf3c-2a0362e663f2\",\"roots\":{\"p4157\":\"ce807579-4489-4c0e-aae4-1cc1f4a1ab3d\"},\"root_ids\":[\"p4157\"]}];\n  void root.Bokeh.embed.embed_items_notebook(docs_json, render_items);\n  }\n  if (root.Bokeh !== undefined) {\n    embed_document(root);\n  } else {\n    let attempts = 0;\n    const timer = setInterval(function(root) {\n      if (root.Bokeh !== undefined) {\n        clearInterval(timer);\n        embed_document(root);\n      } else {\n        attempts++;\n        if (attempts > 100) {\n          clearInterval(timer);\n          console.log(\"Bokeh: ERROR: Unable to run BokehJS code because BokehJS library is missing\");\n        }\n      }\n    }, 10, root)\n  }\n})(window);",
      "application/vnd.bokehjs_exec.v0+json": ""
     },
     "metadata": {
      "application/vnd.bokehjs_exec.v0+json": {
       "id": "p4157"
      }
     },
     "output_type": "display_data"
    },
    {
     "data": {
      "text/html": [
       "\n",
       "  <div id=\"f9ae7fac-67f6-46c9-af02-c3285cc805e1\" data-root-id=\"p4210\" style=\"display: contents;\"></div>\n"
      ]
     },
     "metadata": {},
     "output_type": "display_data"
    },
    {
     "data": {
      "application/javascript": "(function(root) {\n  function embed_document(root) {\n  const docs_json = {\"32f55072-ba83-4436-b85a-8986768bc8ae\":{\"version\":\"3.8.0\",\"title\":\"Bokeh Application\",\"config\":{\"type\":\"object\",\"name\":\"DocumentConfig\",\"id\":\"p4255\",\"attributes\":{\"notifications\":{\"type\":\"object\",\"name\":\"Notifications\",\"id\":\"p4256\"}}},\"roots\":[{\"type\":\"object\",\"name\":\"Figure\",\"id\":\"p4210\",\"attributes\":{\"height\":350,\"x_range\":{\"type\":\"object\",\"name\":\"FactorRange\",\"id\":\"p4220\",\"attributes\":{\"factors\":[\"Abr\",\"May\",\"Jun\",\"Jul\",\"Ago\",\"Sep\",\"Oct\"]}},\"y_range\":{\"type\":\"object\",\"name\":\"DataRange1d\",\"id\":\"p4212\"},\"x_scale\":{\"type\":\"object\",\"name\":\"CategoricalScale\",\"id\":\"p4221\"},\"y_scale\":{\"type\":\"object\",\"name\":\"LinearScale\",\"id\":\"p4222\"},\"title\":{\"type\":\"object\",\"name\":\"Title\",\"id\":\"p4213\",\"attributes\":{\"text\":\"Distribuci\\u00f3n Mensual de Visitas - A\\u00f1o 2024 (Ene-Nov)\",\"text_font_size\":\"14pt\"}},\"renderers\":[{\"type\":\"object\",\"name\":\"GlyphRenderer\",\"id\":\"p4251\",\"attributes\":{\"data_source\":{\"type\":\"object\",\"name\":\"ColumnDataSource\",\"id\":\"p4207\",\"attributes\":{\"selected\":{\"type\":\"object\",\"name\":\"Selection\",\"id\":\"p4208\",\"attributes\":{\"indices\":[],\"line_indices\":[]}},\"selection_policy\":{\"type\":\"object\",\"name\":\"UnionRenderers\",\"id\":\"p4209\"},\"data\":{\"type\":\"map\",\"entries\":[[\"index\",{\"type\":\"ndarray\",\"array\":{\"type\":\"bytes\",\"data\":\"H4sIAAEAAAAC/2NgYGBgBGImIGYGYhYgZgViNiAGAHe63owcAAAA\"},\"shape\":[7],\"dtype\":\"int32\",\"order\":\"little\"}],[\"Mes_Num\",{\"type\":\"ndarray\",\"array\":{\"type\":\"bytes\",\"data\":\"H4sIAAEAAAAC/2NhYGBgBWI2IGYHYg4g5gRiLiAGAPSQoGEcAAAA\"},\"shape\":[7],\"dtype\":\"int32\",\"order\":\"little\"}],[\"Cantidad\",{\"type\":\"ndarray\",\"array\":{\"type\":\"bytes\",\"data\":\"H4sIAAEAAAAC/3vCwMCwGIgnA7EHENsD8QQgLgViAJnJx4AcAAAA\"},\"shape\":[7],\"dtype\":\"int32\",\"order\":\"little\"}],[\"Mes\",{\"type\":\"ndarray\",\"array\":[\"Abr\",\"May\",\"Jun\",\"Jul\",\"Ago\",\"Sep\",\"Oct\"],\"shape\":[7],\"dtype\":\"object\",\"order\":\"little\"}]]}}},\"view\":{\"type\":\"object\",\"name\":\"CDSView\",\"id\":\"p4252\",\"attributes\":{\"filter\":{\"type\":\"object\",\"name\":\"AllIndices\",\"id\":\"p4253\"}}},\"glyph\":{\"type\":\"object\",\"name\":\"VBar\",\"id\":\"p4248\",\"attributes\":{\"x\":{\"type\":\"field\",\"field\":\"Mes\"},\"width\":{\"type\":\"value\",\"value\":0.8},\"top\":{\"type\":\"field\",\"field\":\"Cantidad\"},\"line_color\":{\"type\":\"value\",\"value\":\"darkgreen\"},\"line_alpha\":{\"type\":\"value\",\"value\":0.7},\"fill_color\":{\"type\":\"value\",\"value\":\"darkgreen\"},\"fill_alpha\":{\"type\":\"value\",\"value\":0.7},\"hatch_color\":{\"type\":\"value\",\"value\":\"darkgreen\"},\"hatch_alpha\":{\"type\":\"value\",\"value\":0.7}}},\"nonselection_glyph\":{\"type\":\"object\",\"name\":\"VBar\",\"id\":\"p4249\",\"attributes\":{\"x\":{\"type\":\"field\",\"field\":\"Mes\"},\"width\":{\"type\":\"value\",\"value\":0.8},\"top\":{\"type\":\"field\",\"field\":\"Cantidad\"},\"line_color\":{\"type\":\"value\",\"value\":\"darkgreen\"},\"line_alpha\":{\"type\":\"value\",\"value\":0.1},\"fill_color\":{\"type\":\"value\",\"value\":\"darkgreen\"},\"fill_alpha\":{\"type\":\"value\",\"value\":0.1},\"hatch_color\":{\"type\":\"value\",\"value\":\"darkgreen\"},\"hatch_alpha\":{\"type\":\"value\",\"value\":0.1}}},\"muted_glyph\":{\"type\":\"object\",\"name\":\"VBar\",\"id\":\"p4250\",\"attributes\":{\"x\":{\"type\":\"field\",\"field\":\"Mes\"},\"width\":{\"type\":\"value\",\"value\":0.8},\"top\":{\"type\":\"field\",\"field\":\"Cantidad\"},\"line_color\":{\"type\":\"value\",\"value\":\"darkgreen\"},\"line_alpha\":{\"type\":\"value\",\"value\":0.2},\"fill_color\":{\"type\":\"value\",\"value\":\"darkgreen\"},\"fill_alpha\":{\"type\":\"value\",\"value\":0.2},\"hatch_color\":{\"type\":\"value\",\"value\":\"darkgreen\"},\"hatch_alpha\":{\"type\":\"value\",\"value\":0.2}}}}}],\"toolbar\":{\"type\":\"object\",\"name\":\"Toolbar\",\"id\":\"p4219\",\"attributes\":{\"tools\":[{\"type\":\"object\",\"name\":\"PanTool\",\"id\":\"p4233\"},{\"type\":\"object\",\"name\":\"WheelZoomTool\",\"id\":\"p4234\",\"attributes\":{\"renderers\":\"auto\"}},{\"type\":\"object\",\"name\":\"BoxZoomTool\",\"id\":\"p4235\",\"attributes\":{\"dimensions\":\"both\",\"overlay\":{\"type\":\"object\",\"name\":\"BoxAnnotation\",\"id\":\"p4236\",\"attributes\":{\"syncable\":false,\"line_color\":\"black\",\"line_alpha\":1.0,\"line_width\":2,\"line_dash\":[4,4],\"fill_color\":\"lightgrey\",\"fill_alpha\":0.5,\"level\":\"overlay\",\"visible\":false,\"left\":{\"type\":\"number\",\"value\":\"nan\"},\"right\":{\"type\":\"number\",\"value\":\"nan\"},\"top\":{\"type\":\"number\",\"value\":\"nan\"},\"bottom\":{\"type\":\"number\",\"value\":\"nan\"},\"left_units\":\"canvas\",\"right_units\":\"canvas\",\"top_units\":\"canvas\",\"bottom_units\":\"canvas\",\"handles\":{\"type\":\"object\",\"name\":\"BoxInteractionHandles\",\"id\":\"p4242\",\"attributes\":{\"all\":{\"type\":\"object\",\"name\":\"AreaVisuals\",\"id\":\"p4241\",\"attributes\":{\"fill_color\":\"white\",\"hover_fill_color\":\"lightgray\"}}}}}}}},{\"type\":\"object\",\"name\":\"ResetTool\",\"id\":\"p4243\"},{\"type\":\"object\",\"name\":\"SaveTool\",\"id\":\"p4244\"},{\"type\":\"object\",\"name\":\"HoverTool\",\"id\":\"p4254\",\"attributes\":{\"renderers\":\"auto\",\"tooltips\":[[\"Mes\",\"@Mes\"],[\"Visitas\",\"@Cantidad\"]],\"sort_by\":null}}]}},\"left\":[{\"type\":\"object\",\"name\":\"LinearAxis\",\"id\":\"p4228\",\"attributes\":{\"ticker\":{\"type\":\"object\",\"name\":\"BasicTicker\",\"id\":\"p4229\",\"attributes\":{\"mantissas\":[1,2,5]}},\"formatter\":{\"type\":\"object\",\"name\":\"BasicTickFormatter\",\"id\":\"p4230\"},\"major_label_policy\":{\"type\":\"object\",\"name\":\"AllLabels\",\"id\":\"p4231\"}}}],\"below\":[{\"type\":\"object\",\"name\":\"CategoricalAxis\",\"id\":\"p4223\",\"attributes\":{\"ticker\":{\"type\":\"object\",\"name\":\"CategoricalTicker\",\"id\":\"p4224\"},\"formatter\":{\"type\":\"object\",\"name\":\"CategoricalTickFormatter\",\"id\":\"p4225\"},\"major_label_policy\":{\"type\":\"object\",\"name\":\"AllLabels\",\"id\":\"p4226\"}}}],\"center\":[{\"type\":\"object\",\"name\":\"Grid\",\"id\":\"p4227\",\"attributes\":{\"axis\":{\"id\":\"p4223\"}}},{\"type\":\"object\",\"name\":\"Grid\",\"id\":\"p4232\",\"attributes\":{\"dimension\":1,\"axis\":{\"id\":\"p4228\"}}}]}}]}};\n  const render_items = [{\"docid\":\"32f55072-ba83-4436-b85a-8986768bc8ae\",\"roots\":{\"p4210\":\"f9ae7fac-67f6-46c9-af02-c3285cc805e1\"},\"root_ids\":[\"p4210\"]}];\n  void root.Bokeh.embed.embed_items_notebook(docs_json, render_items);\n  }\n  if (root.Bokeh !== undefined) {\n    embed_document(root);\n  } else {\n    let attempts = 0;\n    const timer = setInterval(function(root) {\n      if (root.Bokeh !== undefined) {\n        clearInterval(timer);\n        embed_document(root);\n      } else {\n        attempts++;\n        if (attempts > 100) {\n          clearInterval(timer);\n          console.log(\"Bokeh: ERROR: Unable to run BokehJS code because BokehJS library is missing\");\n        }\n      }\n    }, 10, root)\n  }\n})(window);",
      "application/vnd.bokehjs_exec.v0+json": ""
     },
     "metadata": {
      "application/vnd.bokehjs_exec.v0+json": {
       "id": "p4210"
      }
     },
     "output_type": "display_data"
    },
    {
     "data": {
      "text/html": [
       "\n",
       "  <div id=\"f85de7d3-7379-43c3-b40e-762c911aa7a7\" data-root-id=\"p4263\" style=\"display: contents;\"></div>\n"
      ]
     },
     "metadata": {},
     "output_type": "display_data"
    },
    {
     "data": {
      "application/javascript": "(function(root) {\n  function embed_document(root) {\n  const docs_json = {\"732ccdaf-8a5c-4fa6-b192-2b20e1890c41\":{\"version\":\"3.8.0\",\"title\":\"Bokeh Application\",\"config\":{\"type\":\"object\",\"name\":\"DocumentConfig\",\"id\":\"p4308\",\"attributes\":{\"notifications\":{\"type\":\"object\",\"name\":\"Notifications\",\"id\":\"p4309\"}}},\"roots\":[{\"type\":\"object\",\"name\":\"Figure\",\"id\":\"p4263\",\"attributes\":{\"height\":350,\"x_range\":{\"type\":\"object\",\"name\":\"FactorRange\",\"id\":\"p4273\",\"attributes\":{\"factors\":[\"2,023\",\"2,024\"]}},\"y_range\":{\"type\":\"object\",\"name\":\"DataRange1d\",\"id\":\"p4265\"},\"x_scale\":{\"type\":\"object\",\"name\":\"CategoricalScale\",\"id\":\"p4274\"},\"y_scale\":{\"type\":\"object\",\"name\":\"LinearScale\",\"id\":\"p4275\"},\"title\":{\"type\":\"object\",\"name\":\"Title\",\"id\":\"p4266\",\"attributes\":{\"text\":\"Total de Visitas por A\\u00f1o (Datos Parciales: 2023 Mar-Dec, 2024 Ene-Nov)\",\"text_font_size\":\"14pt\"}},\"renderers\":[{\"type\":\"object\",\"name\":\"GlyphRenderer\",\"id\":\"p4304\",\"attributes\":{\"data_source\":{\"type\":\"object\",\"name\":\"ColumnDataSource\",\"id\":\"p4260\",\"attributes\":{\"selected\":{\"type\":\"object\",\"name\":\"Selection\",\"id\":\"p4261\",\"attributes\":{\"indices\":[],\"line_indices\":[]}},\"selection_policy\":{\"type\":\"object\",\"name\":\"UnionRenderers\",\"id\":\"p4262\"},\"data\":{\"type\":\"map\",\"entries\":[[\"index\",{\"type\":\"ndarray\",\"array\":{\"type\":\"bytes\",\"data\":\"H4sIAAEAAAAC/2NgYGBgBGIADLie3QgAAAA=\"},\"shape\":[2],\"dtype\":\"int32\",\"order\":\"little\"}],[\"A\\u00f1o\",{\"type\":\"ndarray\",\"array\":[\"2,023\",\"2,024\"],\"shape\":[2],\"dtype\":\"object\",\"order\":\"little\"}],[\"Cantidad\",{\"type\":\"ndarray\",\"array\":{\"type\":\"bytes\",\"data\":\"H4sIAAEAAAAC/9vFxsCwjJmBAQC82IIrCAAAAA==\"},\"shape\":[2],\"dtype\":\"int32\",\"order\":\"little\"}]]}}},\"view\":{\"type\":\"object\",\"name\":\"CDSView\",\"id\":\"p4305\",\"attributes\":{\"filter\":{\"type\":\"object\",\"name\":\"AllIndices\",\"id\":\"p4306\"}}},\"glyph\":{\"type\":\"object\",\"name\":\"VBar\",\"id\":\"p4301\",\"attributes\":{\"x\":{\"type\":\"field\",\"field\":\"A\\u00f1o\"},\"width\":{\"type\":\"value\",\"value\":0.6},\"top\":{\"type\":\"field\",\"field\":\"Cantidad\"},\"line_color\":{\"type\":\"value\",\"value\":\"coral\"},\"line_alpha\":{\"type\":\"value\",\"value\":0.7},\"fill_color\":{\"type\":\"value\",\"value\":\"coral\"},\"fill_alpha\":{\"type\":\"value\",\"value\":0.7},\"hatch_color\":{\"type\":\"value\",\"value\":\"coral\"},\"hatch_alpha\":{\"type\":\"value\",\"value\":0.7}}},\"nonselection_glyph\":{\"type\":\"object\",\"name\":\"VBar\",\"id\":\"p4302\",\"attributes\":{\"x\":{\"type\":\"field\",\"field\":\"A\\u00f1o\"},\"width\":{\"type\":\"value\",\"value\":0.6},\"top\":{\"type\":\"field\",\"field\":\"Cantidad\"},\"line_color\":{\"type\":\"value\",\"value\":\"coral\"},\"line_alpha\":{\"type\":\"value\",\"value\":0.1},\"fill_color\":{\"type\":\"value\",\"value\":\"coral\"},\"fill_alpha\":{\"type\":\"value\",\"value\":0.1},\"hatch_color\":{\"type\":\"value\",\"value\":\"coral\"},\"hatch_alpha\":{\"type\":\"value\",\"value\":0.1}}},\"muted_glyph\":{\"type\":\"object\",\"name\":\"VBar\",\"id\":\"p4303\",\"attributes\":{\"x\":{\"type\":\"field\",\"field\":\"A\\u00f1o\"},\"width\":{\"type\":\"value\",\"value\":0.6},\"top\":{\"type\":\"field\",\"field\":\"Cantidad\"},\"line_color\":{\"type\":\"value\",\"value\":\"coral\"},\"line_alpha\":{\"type\":\"value\",\"value\":0.2},\"fill_color\":{\"type\":\"value\",\"value\":\"coral\"},\"fill_alpha\":{\"type\":\"value\",\"value\":0.2},\"hatch_color\":{\"type\":\"value\",\"value\":\"coral\"},\"hatch_alpha\":{\"type\":\"value\",\"value\":0.2}}}}}],\"toolbar\":{\"type\":\"object\",\"name\":\"Toolbar\",\"id\":\"p4272\",\"attributes\":{\"tools\":[{\"type\":\"object\",\"name\":\"PanTool\",\"id\":\"p4286\"},{\"type\":\"object\",\"name\":\"WheelZoomTool\",\"id\":\"p4287\",\"attributes\":{\"renderers\":\"auto\"}},{\"type\":\"object\",\"name\":\"BoxZoomTool\",\"id\":\"p4288\",\"attributes\":{\"dimensions\":\"both\",\"overlay\":{\"type\":\"object\",\"name\":\"BoxAnnotation\",\"id\":\"p4289\",\"attributes\":{\"syncable\":false,\"line_color\":\"black\",\"line_alpha\":1.0,\"line_width\":2,\"line_dash\":[4,4],\"fill_color\":\"lightgrey\",\"fill_alpha\":0.5,\"level\":\"overlay\",\"visible\":false,\"left\":{\"type\":\"number\",\"value\":\"nan\"},\"right\":{\"type\":\"number\",\"value\":\"nan\"},\"top\":{\"type\":\"number\",\"value\":\"nan\"},\"bottom\":{\"type\":\"number\",\"value\":\"nan\"},\"left_units\":\"canvas\",\"right_units\":\"canvas\",\"top_units\":\"canvas\",\"bottom_units\":\"canvas\",\"handles\":{\"type\":\"object\",\"name\":\"BoxInteractionHandles\",\"id\":\"p4295\",\"attributes\":{\"all\":{\"type\":\"object\",\"name\":\"AreaVisuals\",\"id\":\"p4294\",\"attributes\":{\"fill_color\":\"white\",\"hover_fill_color\":\"lightgray\"}}}}}}}},{\"type\":\"object\",\"name\":\"ResetTool\",\"id\":\"p4296\"},{\"type\":\"object\",\"name\":\"SaveTool\",\"id\":\"p4297\"},{\"type\":\"object\",\"name\":\"HoverTool\",\"id\":\"p4307\",\"attributes\":{\"renderers\":\"auto\",\"tooltips\":[[\"A\\u00f1o\",\"@A\\u00f1o\"],[\"Visitas\",\"@Cantidad\"]],\"sort_by\":null}}]}},\"left\":[{\"type\":\"object\",\"name\":\"LinearAxis\",\"id\":\"p4281\",\"attributes\":{\"ticker\":{\"type\":\"object\",\"name\":\"BasicTicker\",\"id\":\"p4282\",\"attributes\":{\"mantissas\":[1,2,5]}},\"formatter\":{\"type\":\"object\",\"name\":\"BasicTickFormatter\",\"id\":\"p4283\"},\"major_label_policy\":{\"type\":\"object\",\"name\":\"AllLabels\",\"id\":\"p4284\"}}}],\"below\":[{\"type\":\"object\",\"name\":\"CategoricalAxis\",\"id\":\"p4276\",\"attributes\":{\"ticker\":{\"type\":\"object\",\"name\":\"CategoricalTicker\",\"id\":\"p4277\"},\"formatter\":{\"type\":\"object\",\"name\":\"CategoricalTickFormatter\",\"id\":\"p4278\"},\"major_label_policy\":{\"type\":\"object\",\"name\":\"AllLabels\",\"id\":\"p4279\"}}}],\"center\":[{\"type\":\"object\",\"name\":\"Grid\",\"id\":\"p4280\",\"attributes\":{\"axis\":{\"id\":\"p4276\"}}},{\"type\":\"object\",\"name\":\"Grid\",\"id\":\"p4285\",\"attributes\":{\"dimension\":1,\"axis\":{\"id\":\"p4281\"}}}]}}]}};\n  const render_items = [{\"docid\":\"732ccdaf-8a5c-4fa6-b192-2b20e1890c41\",\"roots\":{\"p4263\":\"f85de7d3-7379-43c3-b40e-762c911aa7a7\"},\"root_ids\":[\"p4263\"]}];\n  void root.Bokeh.embed.embed_items_notebook(docs_json, render_items);\n  }\n  if (root.Bokeh !== undefined) {\n    embed_document(root);\n  } else {\n    let attempts = 0;\n    const timer = setInterval(function(root) {\n      if (root.Bokeh !== undefined) {\n        clearInterval(timer);\n        embed_document(root);\n      } else {\n        attempts++;\n        if (attempts > 100) {\n          clearInterval(timer);\n          console.log(\"Bokeh: ERROR: Unable to run BokehJS code because BokehJS library is missing\");\n        }\n      }\n    }, 10, root)\n  }\n})(window);",
      "application/vnd.bokehjs_exec.v0+json": ""
     },
     "metadata": {
      "application/vnd.bokehjs_exec.v0+json": {
       "id": "p4263"
      }
     },
     "output_type": "display_data"
    }
   ],
   "source": [
    "# Análisis mensual para 2023 (desde marzo)\n",
    "df_2023 = df[df['AÑO'] == '2,023']\n",
    "month_counts_2023 = df_2023['MES'].value_counts().sort_index()\n",
    "month_data_2023 = month_counts_2023.reset_index()\n",
    "\n",
    "# Mapear números de mes a nombres\n",
    "month_names = {1: 'Ene', 2: 'Feb', 3: 'Mar', 4: 'Abr', 5: 'May', 6: 'Jun', \n",
    "               7: 'Jul', 8: 'Ago', 9: 'Sep', 10: 'Oct', 11: 'Nov', 12: 'Dic'}\n",
    "month_data_2023['Mes_Nombre'] = month_data_2023['MES'].map(month_names)\n",
    "month_data_2023.columns = ['Mes_Num', 'Cantidad', 'Mes']\n",
    "source_month_2023 = ColumnDataSource(month_data_2023)\n",
    "\n",
    "p2_2023 = figure(x_range=month_data_2023['Mes'].tolist(), height=350, \n",
    "                title='Distribución Mensual de Visitas - Año 2023 (Mar-Dec)',\n",
    "                tools='pan,wheel_zoom,box_zoom,reset,save')\n",
    "\n",
    "p2_2023.vbar(x='Mes', top='Cantidad', width=0.8, source=source_month_2023, color='navy', alpha=0.7)\n",
    "p2_2023.add_tools(HoverTool(tooltips=[('Mes', '@Mes'), ('Visitas', '@Cantidad')]))\n",
    "p2_2023.title.text_font_size = \"14pt\"\n",
    "show(p2_2023)\n",
    "\n",
    "# Análisis mensual para 2024 (hasta noviembre)\n",
    "df_2024 = df[df['AÑO'] == '2,024']\n",
    "month_counts_2024 = df_2024['MES'].value_counts().sort_index()\n",
    "month_data_2024 = month_counts_2024.reset_index()\n",
    "\n",
    "# Mapear números de mes a nombres (usando el mismo diccionario)\n",
    "month_data_2024['Mes_Nombre'] = month_data_2024['MES'].map(month_names)\n",
    "month_data_2024.columns = ['Mes_Num', 'Cantidad', 'Mes']\n",
    "source_month_2024 = ColumnDataSource(month_data_2024)\n",
    "\n",
    "p2_2024 = figure(x_range=month_data_2024['Mes'].tolist(), height=350, \n",
    "                title='Distribución Mensual de Visitas - Año 2024 (Ene-Nov)',\n",
    "                tools='pan,wheel_zoom,box_zoom,reset,save')\n",
    "\n",
    "p2_2024.vbar(x='Mes', top='Cantidad', width=0.8, source=source_month_2024, color='darkgreen', alpha=0.7)\n",
    "p2_2024.add_tools(HoverTool(tooltips=[('Mes', '@Mes'), ('Visitas', '@Cantidad')]))\n",
    "p2_2024.title.text_font_size = \"14pt\"\n",
    "show(p2_2024)\n",
    "\n",
    "# Resumen comparativo de totales por año (para contexto)\n",
    "year_counts = df['AÑO'].value_counts().sort_index()\n",
    "year_data = year_counts.reset_index()\n",
    "year_data.columns = ['Año', 'Cantidad']\n",
    "source_year = ColumnDataSource(year_data)\n",
    "\n",
    "p3 = figure(x_range=[str(x) for x in year_data['Año']], height=350, \n",
    "           title='Total de Visitas por Año (Datos Parciales: 2023 Mar-Dec, 2024 Ene-Nov)',\n",
    "           tools='pan,wheel_zoom,box_zoom,reset,save')\n",
    "\n",
    "p3.vbar(x='Año', top='Cantidad', width=0.6, source=source_year, color='coral', alpha=0.7)\n",
    "p3.add_tools(HoverTool(tooltips=[('Año', '@Año'), ('Visitas', '@Cantidad')]))\n",
    "p3.title.text_font_size = \"14pt\"\n",
    "show(p3)"
   ]
  },
  {
   "cell_type": "markdown",
   "id": "dac05328",
   "metadata": {},
   "source": [
    "## Ciudades"
   ]
  },
  {
   "cell_type": "code",
   "execution_count": 20,
   "id": "138df651",
   "metadata": {},
   "outputs": [
    {
     "data": {
      "text/html": [
       "\n",
       "  <div id=\"b35a0c93-daa6-4be3-b0ab-539750aff1b6\" data-root-id=\"p2469\" style=\"display: contents;\"></div>\n"
      ]
     },
     "metadata": {},
     "output_type": "display_data"
    },
    {
     "data": {
      "application/javascript": "(function(root) {\n  function embed_document(root) {\n  const docs_json = {\"0d91bf5e-24a0-417a-9b7b-adbde0238cfd\":{\"version\":\"3.8.0\",\"title\":\"Bokeh Application\",\"config\":{\"type\":\"object\",\"name\":\"DocumentConfig\",\"id\":\"p2514\",\"attributes\":{\"notifications\":{\"type\":\"object\",\"name\":\"Notifications\",\"id\":\"p2515\"}}},\"roots\":[{\"type\":\"object\",\"name\":\"Figure\",\"id\":\"p2469\",\"attributes\":{\"height\":400,\"x_range\":{\"type\":\"object\",\"name\":\"DataRange1d\",\"id\":\"p2471\"},\"y_range\":{\"type\":\"object\",\"name\":\"FactorRange\",\"id\":\"p2479\",\"attributes\":{\"factors\":[\"BOGOTA\",\"MEDELLIN\",\"DUITAMA\",\"TUNJA\",\"BUCARAMANGA\",\"VILLAVICENCIO\",\"CALI\",\"PAIPA\",\"YOPAL\",\"IBAGUE\"]}},\"x_scale\":{\"type\":\"object\",\"name\":\"LinearScale\",\"id\":\"p2480\"},\"y_scale\":{\"type\":\"object\",\"name\":\"CategoricalScale\",\"id\":\"p2481\"},\"title\":{\"type\":\"object\",\"name\":\"Title\",\"id\":\"p2472\",\"attributes\":{\"text\":\"Top 10 Ciudades de Procedencia (Datos Procesados)\",\"text_font_size\":\"14pt\"}},\"renderers\":[{\"type\":\"object\",\"name\":\"GlyphRenderer\",\"id\":\"p2510\",\"attributes\":{\"data_source\":{\"type\":\"object\",\"name\":\"ColumnDataSource\",\"id\":\"p2466\",\"attributes\":{\"selected\":{\"type\":\"object\",\"name\":\"Selection\",\"id\":\"p2467\",\"attributes\":{\"indices\":[],\"line_indices\":[]}},\"selection_policy\":{\"type\":\"object\",\"name\":\"UnionRenderers\",\"id\":\"p2468\"},\"data\":{\"type\":\"map\",\"entries\":[[\"index\",{\"type\":\"ndarray\",\"array\":{\"type\":\"bytes\",\"data\":\"H4sIAAEAAAAC/w3DiQ0AIAwEoNP6df+FhYQkGU7L5fZ4fbYfAnnvjSgAAAA=\"},\"shape\":[10],\"dtype\":\"int32\",\"order\":\"little\"}],[\"Ciudad\",{\"type\":\"ndarray\",\"array\":[\"BOGOTA\",\"MEDELLIN\",\"DUITAMA\",\"TUNJA\",\"BUCARAMANGA\",\"VILLAVICENCIO\",\"CALI\",\"PAIPA\",\"YOPAL\",\"IBAGUE\"],\"shape\":[10],\"dtype\":\"object\",\"order\":\"little\"}],[\"Cantidad\",{\"type\":\"ndarray\",\"array\":{\"type\":\"bytes\",\"data\":\"H4sIAAEAAAAC//vGxMCwhYGBYTIQlwJxOBBbALE5EBsDsQEQ6wAxAFUXMZkoAAAA\"},\"shape\":[10],\"dtype\":\"int32\",\"order\":\"little\"}]]}}},\"view\":{\"type\":\"object\",\"name\":\"CDSView\",\"id\":\"p2511\",\"attributes\":{\"filter\":{\"type\":\"object\",\"name\":\"AllIndices\",\"id\":\"p2512\"}}},\"glyph\":{\"type\":\"object\",\"name\":\"HBar\",\"id\":\"p2507\",\"attributes\":{\"y\":{\"type\":\"field\",\"field\":\"Ciudad\"},\"height\":{\"type\":\"value\",\"value\":0.8},\"right\":{\"type\":\"field\",\"field\":\"Cantidad\"},\"line_color\":{\"type\":\"value\",\"value\":\"green\"},\"line_alpha\":{\"type\":\"value\",\"value\":0.7},\"fill_color\":{\"type\":\"value\",\"value\":\"green\"},\"fill_alpha\":{\"type\":\"value\",\"value\":0.7},\"hatch_color\":{\"type\":\"value\",\"value\":\"green\"},\"hatch_alpha\":{\"type\":\"value\",\"value\":0.7}}},\"nonselection_glyph\":{\"type\":\"object\",\"name\":\"HBar\",\"id\":\"p2508\",\"attributes\":{\"y\":{\"type\":\"field\",\"field\":\"Ciudad\"},\"height\":{\"type\":\"value\",\"value\":0.8},\"right\":{\"type\":\"field\",\"field\":\"Cantidad\"},\"line_color\":{\"type\":\"value\",\"value\":\"green\"},\"line_alpha\":{\"type\":\"value\",\"value\":0.1},\"fill_color\":{\"type\":\"value\",\"value\":\"green\"},\"fill_alpha\":{\"type\":\"value\",\"value\":0.1},\"hatch_color\":{\"type\":\"value\",\"value\":\"green\"},\"hatch_alpha\":{\"type\":\"value\",\"value\":0.1}}},\"muted_glyph\":{\"type\":\"object\",\"name\":\"HBar\",\"id\":\"p2509\",\"attributes\":{\"y\":{\"type\":\"field\",\"field\":\"Ciudad\"},\"height\":{\"type\":\"value\",\"value\":0.8},\"right\":{\"type\":\"field\",\"field\":\"Cantidad\"},\"line_color\":{\"type\":\"value\",\"value\":\"green\"},\"line_alpha\":{\"type\":\"value\",\"value\":0.2},\"fill_color\":{\"type\":\"value\",\"value\":\"green\"},\"fill_alpha\":{\"type\":\"value\",\"value\":0.2},\"hatch_color\":{\"type\":\"value\",\"value\":\"green\"},\"hatch_alpha\":{\"type\":\"value\",\"value\":0.2}}}}}],\"toolbar\":{\"type\":\"object\",\"name\":\"Toolbar\",\"id\":\"p2478\",\"attributes\":{\"tools\":[{\"type\":\"object\",\"name\":\"PanTool\",\"id\":\"p2492\"},{\"type\":\"object\",\"name\":\"WheelZoomTool\",\"id\":\"p2493\",\"attributes\":{\"renderers\":\"auto\"}},{\"type\":\"object\",\"name\":\"BoxZoomTool\",\"id\":\"p2494\",\"attributes\":{\"dimensions\":\"both\",\"overlay\":{\"type\":\"object\",\"name\":\"BoxAnnotation\",\"id\":\"p2495\",\"attributes\":{\"syncable\":false,\"line_color\":\"black\",\"line_alpha\":1.0,\"line_width\":2,\"line_dash\":[4,4],\"fill_color\":\"lightgrey\",\"fill_alpha\":0.5,\"level\":\"overlay\",\"visible\":false,\"left\":{\"type\":\"number\",\"value\":\"nan\"},\"right\":{\"type\":\"number\",\"value\":\"nan\"},\"top\":{\"type\":\"number\",\"value\":\"nan\"},\"bottom\":{\"type\":\"number\",\"value\":\"nan\"},\"left_units\":\"canvas\",\"right_units\":\"canvas\",\"top_units\":\"canvas\",\"bottom_units\":\"canvas\",\"handles\":{\"type\":\"object\",\"name\":\"BoxInteractionHandles\",\"id\":\"p2501\",\"attributes\":{\"all\":{\"type\":\"object\",\"name\":\"AreaVisuals\",\"id\":\"p2500\",\"attributes\":{\"fill_color\":\"white\",\"hover_fill_color\":\"lightgray\"}}}}}}}},{\"type\":\"object\",\"name\":\"ResetTool\",\"id\":\"p2502\"},{\"type\":\"object\",\"name\":\"SaveTool\",\"id\":\"p2503\"},{\"type\":\"object\",\"name\":\"HoverTool\",\"id\":\"p2513\",\"attributes\":{\"renderers\":\"auto\",\"tooltips\":[[\"Ciudad\",\"@Ciudad\"],[\"Visitantes\",\"@Cantidad\"]],\"sort_by\":null}}]}},\"left\":[{\"type\":\"object\",\"name\":\"CategoricalAxis\",\"id\":\"p2487\",\"attributes\":{\"ticker\":{\"type\":\"object\",\"name\":\"CategoricalTicker\",\"id\":\"p2488\"},\"formatter\":{\"type\":\"object\",\"name\":\"CategoricalTickFormatter\",\"id\":\"p2489\"},\"major_label_policy\":{\"type\":\"object\",\"name\":\"AllLabels\",\"id\":\"p2490\"}}}],\"below\":[{\"type\":\"object\",\"name\":\"LinearAxis\",\"id\":\"p2482\",\"attributes\":{\"ticker\":{\"type\":\"object\",\"name\":\"BasicTicker\",\"id\":\"p2483\",\"attributes\":{\"mantissas\":[1,2,5]}},\"formatter\":{\"type\":\"object\",\"name\":\"BasicTickFormatter\",\"id\":\"p2484\"},\"major_label_policy\":{\"type\":\"object\",\"name\":\"AllLabels\",\"id\":\"p2485\"}}}],\"center\":[{\"type\":\"object\",\"name\":\"Grid\",\"id\":\"p2486\",\"attributes\":{\"axis\":{\"id\":\"p2482\"}}},{\"type\":\"object\",\"name\":\"Grid\",\"id\":\"p2491\",\"attributes\":{\"dimension\":1,\"axis\":{\"id\":\"p2487\"}}}]}}]}};\n  const render_items = [{\"docid\":\"0d91bf5e-24a0-417a-9b7b-adbde0238cfd\",\"roots\":{\"p2469\":\"b35a0c93-daa6-4be3-b0ab-539750aff1b6\"},\"root_ids\":[\"p2469\"]}];\n  void root.Bokeh.embed.embed_items_notebook(docs_json, render_items);\n  }\n  if (root.Bokeh !== undefined) {\n    embed_document(root);\n  } else {\n    let attempts = 0;\n    const timer = setInterval(function(root) {\n      if (root.Bokeh !== undefined) {\n        clearInterval(timer);\n        embed_document(root);\n      } else {\n        attempts++;\n        if (attempts > 100) {\n          clearInterval(timer);\n          console.log(\"Bokeh: ERROR: Unable to run BokehJS code because BokehJS library is missing\");\n        }\n      }\n    }, 10, root)\n  }\n})(window);",
      "application/vnd.bokehjs_exec.v0+json": ""
     },
     "metadata": {
      "application/vnd.bokehjs_exec.v0+json": {
       "id": "p2469"
      }
     },
     "output_type": "display_data"
    },
    {
     "data": {
      "text/html": [
       "\n",
       "  <div id=\"f220d6e6-2d8a-4766-84a5-91a060558482\" data-root-id=\"p2521\" style=\"display: contents;\"></div>\n"
      ]
     },
     "metadata": {},
     "output_type": "display_data"
    },
    {
     "data": {
      "application/javascript": "(function(root) {\n  function embed_document(root) {\n  const docs_json = {\"c5c6497d-6b55-4042-9899-afc06dcfe10f\":{\"version\":\"3.8.0\",\"title\":\"Bokeh Application\",\"config\":{\"type\":\"object\",\"name\":\"DocumentConfig\",\"id\":\"p2566\",\"attributes\":{\"notifications\":{\"type\":\"object\",\"name\":\"Notifications\",\"id\":\"p2567\"}}},\"roots\":[{\"type\":\"object\",\"name\":\"Figure\",\"id\":\"p2521\",\"attributes\":{\"height\":400,\"x_range\":{\"type\":\"object\",\"name\":\"DataRange1d\",\"id\":\"p2523\"},\"y_range\":{\"type\":\"object\",\"name\":\"FactorRange\",\"id\":\"p2531\",\"attributes\":{\"factors\":[\"PAIPA\",\"VILLA DE LEYVA\",\"DUITAMA\",\"AQUITANIA\",\"TUNJA\",\"IZA\",\"MONGUI\",\"TOTA\",\"NOBSA\",\"SOGAMOSO\"]}},\"x_scale\":{\"type\":\"object\",\"name\":\"LinearScale\",\"id\":\"p2532\"},\"y_scale\":{\"type\":\"object\",\"name\":\"CategoricalScale\",\"id\":\"p2533\"},\"title\":{\"type\":\"object\",\"name\":\"Title\",\"id\":\"p2524\",\"attributes\":{\"text\":\"Top 10 Ciudades de Destino (Datos Procesados)\",\"text_font_size\":\"14pt\"}},\"renderers\":[{\"type\":\"object\",\"name\":\"GlyphRenderer\",\"id\":\"p2562\",\"attributes\":{\"data_source\":{\"type\":\"object\",\"name\":\"ColumnDataSource\",\"id\":\"p2518\",\"attributes\":{\"selected\":{\"type\":\"object\",\"name\":\"Selection\",\"id\":\"p2519\",\"attributes\":{\"indices\":[],\"line_indices\":[]}},\"selection_policy\":{\"type\":\"object\",\"name\":\"UnionRenderers\",\"id\":\"p2520\"},\"data\":{\"type\":\"map\",\"entries\":[[\"index\",{\"type\":\"ndarray\",\"array\":{\"type\":\"bytes\",\"data\":\"H4sIAAEAAAAC/w3DiQ0AIAwEoNP6df+FhYQkGU7L5fZ4fbYfAnnvjSgAAAA=\"},\"shape\":[10],\"dtype\":\"int32\",\"order\":\"little\"}],[\"Ciudad\",{\"type\":\"ndarray\",\"array\":[\"PAIPA\",\"VILLA DE LEYVA\",\"DUITAMA\",\"AQUITANIA\",\"TUNJA\",\"IZA\",\"MONGUI\",\"TOTA\",\"NOBSA\",\"SOGAMOSO\"],\"shape\":[10],\"dtype\":\"object\",\"order\":\"little\"}],[\"Cantidad\",{\"type\":\"ndarray\",\"array\":{\"type\":\"bytes\",\"data\":\"H4sIAAEAAAAC/2NmYWCYycTA0APE3UBcD8S3GRkYqoFYB4gFgPgvAwMDAKpSldQoAAAA\"},\"shape\":[10],\"dtype\":\"int32\",\"order\":\"little\"}]]}}},\"view\":{\"type\":\"object\",\"name\":\"CDSView\",\"id\":\"p2563\",\"attributes\":{\"filter\":{\"type\":\"object\",\"name\":\"AllIndices\",\"id\":\"p2564\"}}},\"glyph\":{\"type\":\"object\",\"name\":\"HBar\",\"id\":\"p2559\",\"attributes\":{\"y\":{\"type\":\"field\",\"field\":\"Ciudad\"},\"height\":{\"type\":\"value\",\"value\":0.8},\"right\":{\"type\":\"field\",\"field\":\"Cantidad\"},\"line_color\":{\"type\":\"value\",\"value\":\"orange\"},\"line_alpha\":{\"type\":\"value\",\"value\":0.7},\"fill_color\":{\"type\":\"value\",\"value\":\"orange\"},\"fill_alpha\":{\"type\":\"value\",\"value\":0.7},\"hatch_color\":{\"type\":\"value\",\"value\":\"orange\"},\"hatch_alpha\":{\"type\":\"value\",\"value\":0.7}}},\"nonselection_glyph\":{\"type\":\"object\",\"name\":\"HBar\",\"id\":\"p2560\",\"attributes\":{\"y\":{\"type\":\"field\",\"field\":\"Ciudad\"},\"height\":{\"type\":\"value\",\"value\":0.8},\"right\":{\"type\":\"field\",\"field\":\"Cantidad\"},\"line_color\":{\"type\":\"value\",\"value\":\"orange\"},\"line_alpha\":{\"type\":\"value\",\"value\":0.1},\"fill_color\":{\"type\":\"value\",\"value\":\"orange\"},\"fill_alpha\":{\"type\":\"value\",\"value\":0.1},\"hatch_color\":{\"type\":\"value\",\"value\":\"orange\"},\"hatch_alpha\":{\"type\":\"value\",\"value\":0.1}}},\"muted_glyph\":{\"type\":\"object\",\"name\":\"HBar\",\"id\":\"p2561\",\"attributes\":{\"y\":{\"type\":\"field\",\"field\":\"Ciudad\"},\"height\":{\"type\":\"value\",\"value\":0.8},\"right\":{\"type\":\"field\",\"field\":\"Cantidad\"},\"line_color\":{\"type\":\"value\",\"value\":\"orange\"},\"line_alpha\":{\"type\":\"value\",\"value\":0.2},\"fill_color\":{\"type\":\"value\",\"value\":\"orange\"},\"fill_alpha\":{\"type\":\"value\",\"value\":0.2},\"hatch_color\":{\"type\":\"value\",\"value\":\"orange\"},\"hatch_alpha\":{\"type\":\"value\",\"value\":0.2}}}}}],\"toolbar\":{\"type\":\"object\",\"name\":\"Toolbar\",\"id\":\"p2530\",\"attributes\":{\"tools\":[{\"type\":\"object\",\"name\":\"PanTool\",\"id\":\"p2544\"},{\"type\":\"object\",\"name\":\"WheelZoomTool\",\"id\":\"p2545\",\"attributes\":{\"renderers\":\"auto\"}},{\"type\":\"object\",\"name\":\"BoxZoomTool\",\"id\":\"p2546\",\"attributes\":{\"dimensions\":\"both\",\"overlay\":{\"type\":\"object\",\"name\":\"BoxAnnotation\",\"id\":\"p2547\",\"attributes\":{\"syncable\":false,\"line_color\":\"black\",\"line_alpha\":1.0,\"line_width\":2,\"line_dash\":[4,4],\"fill_color\":\"lightgrey\",\"fill_alpha\":0.5,\"level\":\"overlay\",\"visible\":false,\"left\":{\"type\":\"number\",\"value\":\"nan\"},\"right\":{\"type\":\"number\",\"value\":\"nan\"},\"top\":{\"type\":\"number\",\"value\":\"nan\"},\"bottom\":{\"type\":\"number\",\"value\":\"nan\"},\"left_units\":\"canvas\",\"right_units\":\"canvas\",\"top_units\":\"canvas\",\"bottom_units\":\"canvas\",\"handles\":{\"type\":\"object\",\"name\":\"BoxInteractionHandles\",\"id\":\"p2553\",\"attributes\":{\"all\":{\"type\":\"object\",\"name\":\"AreaVisuals\",\"id\":\"p2552\",\"attributes\":{\"fill_color\":\"white\",\"hover_fill_color\":\"lightgray\"}}}}}}}},{\"type\":\"object\",\"name\":\"ResetTool\",\"id\":\"p2554\"},{\"type\":\"object\",\"name\":\"SaveTool\",\"id\":\"p2555\"},{\"type\":\"object\",\"name\":\"HoverTool\",\"id\":\"p2565\",\"attributes\":{\"renderers\":\"auto\",\"tooltips\":[[\"Ciudad\",\"@Ciudad\"],[\"Visitas\",\"@Cantidad\"]],\"sort_by\":null}}]}},\"left\":[{\"type\":\"object\",\"name\":\"CategoricalAxis\",\"id\":\"p2539\",\"attributes\":{\"ticker\":{\"type\":\"object\",\"name\":\"CategoricalTicker\",\"id\":\"p2540\"},\"formatter\":{\"type\":\"object\",\"name\":\"CategoricalTickFormatter\",\"id\":\"p2541\"},\"major_label_policy\":{\"type\":\"object\",\"name\":\"AllLabels\",\"id\":\"p2542\"}}}],\"below\":[{\"type\":\"object\",\"name\":\"LinearAxis\",\"id\":\"p2534\",\"attributes\":{\"ticker\":{\"type\":\"object\",\"name\":\"BasicTicker\",\"id\":\"p2535\",\"attributes\":{\"mantissas\":[1,2,5]}},\"formatter\":{\"type\":\"object\",\"name\":\"BasicTickFormatter\",\"id\":\"p2536\"},\"major_label_policy\":{\"type\":\"object\",\"name\":\"AllLabels\",\"id\":\"p2537\"}}}],\"center\":[{\"type\":\"object\",\"name\":\"Grid\",\"id\":\"p2538\",\"attributes\":{\"axis\":{\"id\":\"p2534\"}}},{\"type\":\"object\",\"name\":\"Grid\",\"id\":\"p2543\",\"attributes\":{\"dimension\":1,\"axis\":{\"id\":\"p2539\"}}}]}}]}};\n  const render_items = [{\"docid\":\"c5c6497d-6b55-4042-9899-afc06dcfe10f\",\"roots\":{\"p2521\":\"f220d6e6-2d8a-4766-84a5-91a060558482\"},\"root_ids\":[\"p2521\"]}];\n  void root.Bokeh.embed.embed_items_notebook(docs_json, render_items);\n  }\n  if (root.Bokeh !== undefined) {\n    embed_document(root);\n  } else {\n    let attempts = 0;\n    const timer = setInterval(function(root) {\n      if (root.Bokeh !== undefined) {\n        clearInterval(timer);\n        embed_document(root);\n      } else {\n        attempts++;\n        if (attempts > 100) {\n          clearInterval(timer);\n          console.log(\"Bokeh: ERROR: Unable to run BokehJS code because BokehJS library is missing\");\n        }\n      }\n    }, 10, root)\n  }\n})(window);",
      "application/vnd.bokehjs_exec.v0+json": ""
     },
     "metadata": {
      "application/vnd.bokehjs_exec.v0+json": {
       "id": "p2521"
      }
     },
     "output_type": "display_data"
    },
    {
     "data": {
      "text/html": [
       "\n",
       "  <div id=\"e72a704d-6e11-4456-90b5-a6083c0c7bba\" data-root-id=\"p2573\" style=\"display: contents;\"></div>\n"
      ]
     },
     "metadata": {},
     "output_type": "display_data"
    },
    {
     "data": {
      "application/javascript": "(function(root) {\n  function embed_document(root) {\n  const docs_json = {\"34e3493f-6b57-493c-916d-ed050f9dd9f5\":{\"version\":\"3.8.0\",\"title\":\"Bokeh Application\",\"config\":{\"type\":\"object\",\"name\":\"DocumentConfig\",\"id\":\"p2617\",\"attributes\":{\"notifications\":{\"type\":\"object\",\"name\":\"Notifications\",\"id\":\"p2618\"}}},\"roots\":[{\"type\":\"object\",\"name\":\"Figure\",\"id\":\"p2573\",\"attributes\":{\"height\":400,\"x_range\":{\"type\":\"object\",\"name\":\"DataRange1d\",\"id\":\"p2574\"},\"y_range\":{\"type\":\"object\",\"name\":\"DataRange1d\",\"id\":\"p2575\"},\"x_scale\":{\"type\":\"object\",\"name\":\"LinearScale\",\"id\":\"p2583\"},\"y_scale\":{\"type\":\"object\",\"name\":\"LinearScale\",\"id\":\"p2584\"},\"title\":{\"type\":\"object\",\"name\":\"Title\",\"id\":\"p2576\",\"attributes\":{\"text\":\"Distribuci\\u00f3n por N\\u00famero de Destinos Visitados\",\"text_font_size\":\"14pt\"}},\"renderers\":[{\"type\":\"object\",\"name\":\"GlyphRenderer\",\"id\":\"p2613\",\"attributes\":{\"data_source\":{\"type\":\"object\",\"name\":\"ColumnDataSource\",\"id\":\"p2570\",\"attributes\":{\"selected\":{\"type\":\"object\",\"name\":\"Selection\",\"id\":\"p2571\",\"attributes\":{\"indices\":[],\"line_indices\":[]}},\"selection_policy\":{\"type\":\"object\",\"name\":\"UnionRenderers\",\"id\":\"p2572\"},\"data\":{\"type\":\"map\",\"entries\":[[\"index\",{\"type\":\"ndarray\",\"array\":{\"type\":\"bytes\",\"data\":\"H4sIAAEAAAAC/2NgYGBgBGImIGYGYhYgBgA3BGtMFAAAAA==\"},\"shape\":[5],\"dtype\":\"int32\",\"order\":\"little\"}],[\"Num_Destinos\",{\"type\":\"ndarray\",\"array\":{\"type\":\"bytes\",\"data\":\"H4sIAAEAAAAC/2NkYGBgAmJmIGYBYlYgBgCQqRgpFAAAAA==\"},\"shape\":[5],\"dtype\":\"int32\",\"order\":\"little\"}],[\"Cantidad\",{\"type\":\"ndarray\",\"array\":{\"type\":\"bytes\",\"data\":\"H4sIAAEAAAAC/zvCzMBwjZGB4TAQ2wDxcSAGAPWlULoUAAAA\"},\"shape\":[5],\"dtype\":\"int32\",\"order\":\"little\"}]]}}},\"view\":{\"type\":\"object\",\"name\":\"CDSView\",\"id\":\"p2614\",\"attributes\":{\"filter\":{\"type\":\"object\",\"name\":\"AllIndices\",\"id\":\"p2615\"}}},\"glyph\":{\"type\":\"object\",\"name\":\"VBar\",\"id\":\"p2610\",\"attributes\":{\"x\":{\"type\":\"field\",\"field\":\"Num_Destinos\"},\"width\":{\"type\":\"value\",\"value\":0.8},\"top\":{\"type\":\"field\",\"field\":\"Cantidad\"},\"line_color\":{\"type\":\"value\",\"value\":\"coral\"},\"line_alpha\":{\"type\":\"value\",\"value\":0.8},\"fill_color\":{\"type\":\"value\",\"value\":\"coral\"},\"fill_alpha\":{\"type\":\"value\",\"value\":0.8},\"hatch_color\":{\"type\":\"value\",\"value\":\"coral\"},\"hatch_alpha\":{\"type\":\"value\",\"value\":0.8}}},\"nonselection_glyph\":{\"type\":\"object\",\"name\":\"VBar\",\"id\":\"p2611\",\"attributes\":{\"x\":{\"type\":\"field\",\"field\":\"Num_Destinos\"},\"width\":{\"type\":\"value\",\"value\":0.8},\"top\":{\"type\":\"field\",\"field\":\"Cantidad\"},\"line_color\":{\"type\":\"value\",\"value\":\"coral\"},\"line_alpha\":{\"type\":\"value\",\"value\":0.1},\"fill_color\":{\"type\":\"value\",\"value\":\"coral\"},\"fill_alpha\":{\"type\":\"value\",\"value\":0.1},\"hatch_color\":{\"type\":\"value\",\"value\":\"coral\"},\"hatch_alpha\":{\"type\":\"value\",\"value\":0.1}}},\"muted_glyph\":{\"type\":\"object\",\"name\":\"VBar\",\"id\":\"p2612\",\"attributes\":{\"x\":{\"type\":\"field\",\"field\":\"Num_Destinos\"},\"width\":{\"type\":\"value\",\"value\":0.8},\"top\":{\"type\":\"field\",\"field\":\"Cantidad\"},\"line_color\":{\"type\":\"value\",\"value\":\"coral\"},\"line_alpha\":{\"type\":\"value\",\"value\":0.2},\"fill_color\":{\"type\":\"value\",\"value\":\"coral\"},\"fill_alpha\":{\"type\":\"value\",\"value\":0.2},\"hatch_color\":{\"type\":\"value\",\"value\":\"coral\"},\"hatch_alpha\":{\"type\":\"value\",\"value\":0.2}}}}}],\"toolbar\":{\"type\":\"object\",\"name\":\"Toolbar\",\"id\":\"p2582\",\"attributes\":{\"tools\":[{\"type\":\"object\",\"name\":\"PanTool\",\"id\":\"p2595\"},{\"type\":\"object\",\"name\":\"WheelZoomTool\",\"id\":\"p2596\",\"attributes\":{\"renderers\":\"auto\"}},{\"type\":\"object\",\"name\":\"BoxZoomTool\",\"id\":\"p2597\",\"attributes\":{\"dimensions\":\"both\",\"overlay\":{\"type\":\"object\",\"name\":\"BoxAnnotation\",\"id\":\"p2598\",\"attributes\":{\"syncable\":false,\"line_color\":\"black\",\"line_alpha\":1.0,\"line_width\":2,\"line_dash\":[4,4],\"fill_color\":\"lightgrey\",\"fill_alpha\":0.5,\"level\":\"overlay\",\"visible\":false,\"left\":{\"type\":\"number\",\"value\":\"nan\"},\"right\":{\"type\":\"number\",\"value\":\"nan\"},\"top\":{\"type\":\"number\",\"value\":\"nan\"},\"bottom\":{\"type\":\"number\",\"value\":\"nan\"},\"left_units\":\"canvas\",\"right_units\":\"canvas\",\"top_units\":\"canvas\",\"bottom_units\":\"canvas\",\"handles\":{\"type\":\"object\",\"name\":\"BoxInteractionHandles\",\"id\":\"p2604\",\"attributes\":{\"all\":{\"type\":\"object\",\"name\":\"AreaVisuals\",\"id\":\"p2603\",\"attributes\":{\"fill_color\":\"white\",\"hover_fill_color\":\"lightgray\"}}}}}}}},{\"type\":\"object\",\"name\":\"ResetTool\",\"id\":\"p2605\"},{\"type\":\"object\",\"name\":\"SaveTool\",\"id\":\"p2606\"},{\"type\":\"object\",\"name\":\"HoverTool\",\"id\":\"p2616\",\"attributes\":{\"renderers\":\"auto\",\"tooltips\":[[\"Destinos\",\"@Num_Destinos\"],[\"Turistas\",\"@Cantidad\"]],\"sort_by\":null}}]}},\"left\":[{\"type\":\"object\",\"name\":\"LinearAxis\",\"id\":\"p2590\",\"attributes\":{\"ticker\":{\"type\":\"object\",\"name\":\"BasicTicker\",\"id\":\"p2591\",\"attributes\":{\"mantissas\":[1,2,5]}},\"formatter\":{\"type\":\"object\",\"name\":\"BasicTickFormatter\",\"id\":\"p2592\"},\"axis_label\":\"N\\u00famero de Turistas\",\"major_label_policy\":{\"type\":\"object\",\"name\":\"AllLabels\",\"id\":\"p2593\"}}}],\"below\":[{\"type\":\"object\",\"name\":\"LinearAxis\",\"id\":\"p2585\",\"attributes\":{\"ticker\":{\"type\":\"object\",\"name\":\"BasicTicker\",\"id\":\"p2586\",\"attributes\":{\"mantissas\":[1,2,5]}},\"formatter\":{\"type\":\"object\",\"name\":\"BasicTickFormatter\",\"id\":\"p2587\"},\"axis_label\":\"N\\u00famero de Destinos\",\"major_label_policy\":{\"type\":\"object\",\"name\":\"AllLabels\",\"id\":\"p2588\"}}}],\"center\":[{\"type\":\"object\",\"name\":\"Grid\",\"id\":\"p2589\",\"attributes\":{\"axis\":{\"id\":\"p2585\"}}},{\"type\":\"object\",\"name\":\"Grid\",\"id\":\"p2594\",\"attributes\":{\"dimension\":1,\"axis\":{\"id\":\"p2590\"}}}]}}]}};\n  const render_items = [{\"docid\":\"34e3493f-6b57-493c-916d-ed050f9dd9f5\",\"roots\":{\"p2573\":\"e72a704d-6e11-4456-90b5-a6083c0c7bba\"},\"root_ids\":[\"p2573\"]}];\n  void root.Bokeh.embed.embed_items_notebook(docs_json, render_items);\n  }\n  if (root.Bokeh !== undefined) {\n    embed_document(root);\n  } else {\n    let attempts = 0;\n    const timer = setInterval(function(root) {\n      if (root.Bokeh !== undefined) {\n        clearInterval(timer);\n        embed_document(root);\n      } else {\n        attempts++;\n        if (attempts > 100) {\n          clearInterval(timer);\n          console.log(\"Bokeh: ERROR: Unable to run BokehJS code because BokehJS library is missing\");\n        }\n      }\n    }, 10, root)\n  }\n})(window);",
      "application/vnd.bokehjs_exec.v0+json": ""
     },
     "metadata": {
      "application/vnd.bokehjs_exec.v0+json": {
       "id": "p2573"
      }
     },
     "output_type": "display_data"
    }
   ],
   "source": [
    "# Análisis de ciudades de origen (usar la columna correcta del dataset procesado)\n",
    "origin_counts = df['CIUDAD DE PROCEDENCIA'].value_counts()\n",
    "origin_data = origin_counts.head(10).reset_index()\n",
    "origin_data.columns = ['Ciudad', 'Cantidad']\n",
    "source_origin = ColumnDataSource(origin_data)\n",
    "\n",
    "p4 = figure(y_range=origin_data['Ciudad'], height=400, \n",
    "           title='Top 10 Ciudades de Procedencia (Datos Procesados)',\n",
    "           tools='pan,wheel_zoom,box_zoom,reset,save')\n",
    "\n",
    "p4.hbar(y='Ciudad', right='Cantidad', height=0.8, source=source_origin, \n",
    "        color='green', alpha=0.7)\n",
    "p4.add_tools(HoverTool(tooltips=[('Ciudad', '@Ciudad'), ('Visitantes', '@Cantidad')]))\n",
    "p4.title.text_font_size = \"14pt\"\n",
    "show(p4)\n",
    "\n",
    "# Análisis de ciudades de destino (usando datos procesados)\n",
    "destination_cols = ['CIUDAD DE DESTINO 1', 'CIUDAD DE DESTINO 2', \n",
    "                   'CIUDAD DE DESTINO 3', 'CIUDAD DE DESTINO 4', \n",
    "                   'CIUDAD DE DESTINO 5']\n",
    "\n",
    "# Recopilar todos los destinos, excluyendo NA\n",
    "all_destinations = []\n",
    "for col in destination_cols:\n",
    "    destinations = df[col].dropna()\n",
    "    destinations = destinations[destinations != 'NA']\n",
    "    all_destinations.extend(destinations.tolist())\n",
    "\n",
    "destination_counts = pd.Series(all_destinations).value_counts()\n",
    "destination_data = destination_counts.head(10).reset_index()\n",
    "destination_data.columns = ['Ciudad', 'Cantidad']\n",
    "source_dest = ColumnDataSource(destination_data)\n",
    "\n",
    "p5 = figure(y_range=destination_data['Ciudad'], height=400, \n",
    "           title='Top 10 Ciudades de Destino (Datos Procesados)',\n",
    "           tools='pan,wheel_zoom,box_zoom,reset,save')\n",
    "\n",
    "p5.hbar(y='Ciudad', right='Cantidad', height=0.8, source=source_dest, \n",
    "        color='orange', alpha=0.7)\n",
    "p5.add_tools(HoverTool(tooltips=[('Ciudad', '@Ciudad'), ('Visitas', '@Cantidad')]))\n",
    "p5.title.text_font_size = \"14pt\"\n",
    "show(p5)\n",
    "\n",
    "df['num_destinations'] = 0\n",
    "for col in destination_cols:\n",
    "    df['num_destinations'] += ((df[col].notna()) & (df[col] != 'NA')).astype(int)\n",
    "\n",
    "destination_popularity = df['num_destinations'].value_counts().sort_index()\n",
    "multi_dest_data = destination_popularity.reset_index()\n",
    "multi_dest_data.columns = ['Num_Destinos', 'Cantidad']\n",
    "source_multi = ColumnDataSource(multi_dest_data)\n",
    "\n",
    "p6 = figure(title=\"Distribución por Número de Destinos Visitados\",\n",
    "            x_axis_label='Número de Destinos', y_axis_label='Número de Turistas',\n",
    "            width=600, height=400,\n",
    "            tools=\"pan,wheel_zoom,box_zoom,reset,save\")\n",
    "\n",
    "p6.vbar(x='Num_Destinos', top='Cantidad', width=0.8, source=source_multi, \n",
    "         color='coral', alpha=0.8)\n",
    "p6.add_tools(HoverTool(tooltips=[('Destinos', '@Num_Destinos'), \n",
    "                                 ('Turistas', '@Cantidad')]))\n",
    "p6.title.text_font_size = \"14pt\"\n",
    "show(p6)"
   ]
  },
  {
   "cell_type": "markdown",
   "id": "87690a44",
   "metadata": {},
   "source": [
    "## Análisis Demográfico"
   ]
  },
  {
   "cell_type": "code",
   "execution_count": 21,
   "id": "4765b041",
   "metadata": {},
   "outputs": [
    {
     "data": {
      "text/html": [
       "\n",
       "  <div id=\"ac57263e-e0d4-4a1b-bb5c-83a49007f10b\" data-root-id=\"p2625\" style=\"display: contents;\"></div>\n"
      ]
     },
     "metadata": {},
     "output_type": "display_data"
    },
    {
     "data": {
      "application/javascript": "(function(root) {\n  function embed_document(root) {\n  const docs_json = {\"4d8cd481-1d01-4021-a601-42812eb74d87\":{\"version\":\"3.8.0\",\"title\":\"Bokeh Application\",\"config\":{\"type\":\"object\",\"name\":\"DocumentConfig\",\"id\":\"p2670\",\"attributes\":{\"notifications\":{\"type\":\"object\",\"name\":\"Notifications\",\"id\":\"p2671\"}}},\"roots\":[{\"type\":\"object\",\"name\":\"Figure\",\"id\":\"p2625\",\"attributes\":{\"height\":350,\"x_range\":{\"type\":\"object\",\"name\":\"FactorRange\",\"id\":\"p2635\",\"attributes\":{\"factors\":[\"Femenino\",\"Masculino\"]}},\"y_range\":{\"type\":\"object\",\"name\":\"DataRange1d\",\"id\":\"p2627\"},\"x_scale\":{\"type\":\"object\",\"name\":\"CategoricalScale\",\"id\":\"p2636\"},\"y_scale\":{\"type\":\"object\",\"name\":\"LinearScale\",\"id\":\"p2637\"},\"title\":{\"type\":\"object\",\"name\":\"Title\",\"id\":\"p2628\",\"attributes\":{\"text\":\"Distribuci\\u00f3n por G\\u00e9nero\",\"text_font_size\":\"14pt\"}},\"renderers\":[{\"type\":\"object\",\"name\":\"GlyphRenderer\",\"id\":\"p2666\",\"attributes\":{\"data_source\":{\"type\":\"object\",\"name\":\"ColumnDataSource\",\"id\":\"p2622\",\"attributes\":{\"selected\":{\"type\":\"object\",\"name\":\"Selection\",\"id\":\"p2623\",\"attributes\":{\"indices\":[],\"line_indices\":[]}},\"selection_policy\":{\"type\":\"object\",\"name\":\"UnionRenderers\",\"id\":\"p2624\"},\"data\":{\"type\":\"map\",\"entries\":[[\"index\",{\"type\":\"ndarray\",\"array\":{\"type\":\"bytes\",\"data\":\"H4sIAAEAAAAC/2NgYGBgBGIADLie3QgAAAA=\"},\"shape\":[2],\"dtype\":\"int32\",\"order\":\"little\"}],[\"Genero\",{\"type\":\"ndarray\",\"array\":[\"Femenino\",\"Masculino\"],\"shape\":[2],\"dtype\":\"object\",\"order\":\"little\"}],[\"Cantidad\",{\"type\":\"ndarray\",\"array\":{\"type\":\"bytes\",\"data\":\"H4sIAAEAAAAC/ytlZWB4ycLAAABUydR/CAAAAA==\"},\"shape\":[2],\"dtype\":\"int32\",\"order\":\"little\"}]]}}},\"view\":{\"type\":\"object\",\"name\":\"CDSView\",\"id\":\"p2667\",\"attributes\":{\"filter\":{\"type\":\"object\",\"name\":\"AllIndices\",\"id\":\"p2668\"}}},\"glyph\":{\"type\":\"object\",\"name\":\"VBar\",\"id\":\"p2663\",\"attributes\":{\"x\":{\"type\":\"field\",\"field\":\"Genero\"},\"width\":{\"type\":\"value\",\"value\":0.6},\"top\":{\"type\":\"field\",\"field\":\"Cantidad\"},\"line_color\":{\"type\":\"value\",\"value\":\"skyblue\"},\"line_alpha\":{\"type\":\"value\",\"value\":0.8},\"fill_color\":{\"type\":\"value\",\"value\":\"skyblue\"},\"fill_alpha\":{\"type\":\"value\",\"value\":0.8},\"hatch_color\":{\"type\":\"value\",\"value\":\"skyblue\"},\"hatch_alpha\":{\"type\":\"value\",\"value\":0.8}}},\"nonselection_glyph\":{\"type\":\"object\",\"name\":\"VBar\",\"id\":\"p2664\",\"attributes\":{\"x\":{\"type\":\"field\",\"field\":\"Genero\"},\"width\":{\"type\":\"value\",\"value\":0.6},\"top\":{\"type\":\"field\",\"field\":\"Cantidad\"},\"line_color\":{\"type\":\"value\",\"value\":\"skyblue\"},\"line_alpha\":{\"type\":\"value\",\"value\":0.1},\"fill_color\":{\"type\":\"value\",\"value\":\"skyblue\"},\"fill_alpha\":{\"type\":\"value\",\"value\":0.1},\"hatch_color\":{\"type\":\"value\",\"value\":\"skyblue\"},\"hatch_alpha\":{\"type\":\"value\",\"value\":0.1}}},\"muted_glyph\":{\"type\":\"object\",\"name\":\"VBar\",\"id\":\"p2665\",\"attributes\":{\"x\":{\"type\":\"field\",\"field\":\"Genero\"},\"width\":{\"type\":\"value\",\"value\":0.6},\"top\":{\"type\":\"field\",\"field\":\"Cantidad\"},\"line_color\":{\"type\":\"value\",\"value\":\"skyblue\"},\"line_alpha\":{\"type\":\"value\",\"value\":0.2},\"fill_color\":{\"type\":\"value\",\"value\":\"skyblue\"},\"fill_alpha\":{\"type\":\"value\",\"value\":0.2},\"hatch_color\":{\"type\":\"value\",\"value\":\"skyblue\"},\"hatch_alpha\":{\"type\":\"value\",\"value\":0.2}}}}}],\"toolbar\":{\"type\":\"object\",\"name\":\"Toolbar\",\"id\":\"p2634\",\"attributes\":{\"tools\":[{\"type\":\"object\",\"name\":\"PanTool\",\"id\":\"p2648\"},{\"type\":\"object\",\"name\":\"WheelZoomTool\",\"id\":\"p2649\",\"attributes\":{\"renderers\":\"auto\"}},{\"type\":\"object\",\"name\":\"BoxZoomTool\",\"id\":\"p2650\",\"attributes\":{\"dimensions\":\"both\",\"overlay\":{\"type\":\"object\",\"name\":\"BoxAnnotation\",\"id\":\"p2651\",\"attributes\":{\"syncable\":false,\"line_color\":\"black\",\"line_alpha\":1.0,\"line_width\":2,\"line_dash\":[4,4],\"fill_color\":\"lightgrey\",\"fill_alpha\":0.5,\"level\":\"overlay\",\"visible\":false,\"left\":{\"type\":\"number\",\"value\":\"nan\"},\"right\":{\"type\":\"number\",\"value\":\"nan\"},\"top\":{\"type\":\"number\",\"value\":\"nan\"},\"bottom\":{\"type\":\"number\",\"value\":\"nan\"},\"left_units\":\"canvas\",\"right_units\":\"canvas\",\"top_units\":\"canvas\",\"bottom_units\":\"canvas\",\"handles\":{\"type\":\"object\",\"name\":\"BoxInteractionHandles\",\"id\":\"p2657\",\"attributes\":{\"all\":{\"type\":\"object\",\"name\":\"AreaVisuals\",\"id\":\"p2656\",\"attributes\":{\"fill_color\":\"white\",\"hover_fill_color\":\"lightgray\"}}}}}}}},{\"type\":\"object\",\"name\":\"ResetTool\",\"id\":\"p2658\"},{\"type\":\"object\",\"name\":\"SaveTool\",\"id\":\"p2659\"},{\"type\":\"object\",\"name\":\"HoverTool\",\"id\":\"p2669\",\"attributes\":{\"renderers\":\"auto\",\"tooltips\":[[\"G\\u00e9nero\",\"@Genero\"],[\"Cantidad\",\"@Cantidad\"]],\"sort_by\":null}}]}},\"left\":[{\"type\":\"object\",\"name\":\"LinearAxis\",\"id\":\"p2643\",\"attributes\":{\"ticker\":{\"type\":\"object\",\"name\":\"BasicTicker\",\"id\":\"p2644\",\"attributes\":{\"mantissas\":[1,2,5]}},\"formatter\":{\"type\":\"object\",\"name\":\"BasicTickFormatter\",\"id\":\"p2645\"},\"major_label_policy\":{\"type\":\"object\",\"name\":\"AllLabels\",\"id\":\"p2646\"}}}],\"below\":[{\"type\":\"object\",\"name\":\"CategoricalAxis\",\"id\":\"p2638\",\"attributes\":{\"ticker\":{\"type\":\"object\",\"name\":\"CategoricalTicker\",\"id\":\"p2639\"},\"formatter\":{\"type\":\"object\",\"name\":\"CategoricalTickFormatter\",\"id\":\"p2640\"},\"major_label_policy\":{\"type\":\"object\",\"name\":\"AllLabels\",\"id\":\"p2641\"}}}],\"center\":[{\"type\":\"object\",\"name\":\"Grid\",\"id\":\"p2642\",\"attributes\":{\"axis\":{\"id\":\"p2638\"}}},{\"type\":\"object\",\"name\":\"Grid\",\"id\":\"p2647\",\"attributes\":{\"dimension\":1,\"axis\":{\"id\":\"p2643\"}}}]}}]}};\n  const render_items = [{\"docid\":\"4d8cd481-1d01-4021-a601-42812eb74d87\",\"roots\":{\"p2625\":\"ac57263e-e0d4-4a1b-bb5c-83a49007f10b\"},\"root_ids\":[\"p2625\"]}];\n  void root.Bokeh.embed.embed_items_notebook(docs_json, render_items);\n  }\n  if (root.Bokeh !== undefined) {\n    embed_document(root);\n  } else {\n    let attempts = 0;\n    const timer = setInterval(function(root) {\n      if (root.Bokeh !== undefined) {\n        clearInterval(timer);\n        embed_document(root);\n      } else {\n        attempts++;\n        if (attempts > 100) {\n          clearInterval(timer);\n          console.log(\"Bokeh: ERROR: Unable to run BokehJS code because BokehJS library is missing\");\n        }\n      }\n    }, 10, root)\n  }\n})(window);",
      "application/vnd.bokehjs_exec.v0+json": ""
     },
     "metadata": {
      "application/vnd.bokehjs_exec.v0+json": {
       "id": "p2625"
      }
     },
     "output_type": "display_data"
    },
    {
     "data": {
      "text/html": [
       "\n",
       "  <div id=\"b7ccc497-71b6-4df0-ad45-7a46ac74d6e7\" data-root-id=\"p2677\" style=\"display: contents;\"></div>\n"
      ]
     },
     "metadata": {},
     "output_type": "display_data"
    },
    {
     "data": {
      "application/javascript": "(function(root) {\n  function embed_document(root) {\n  const docs_json = {\"4675fc71-c836-4fb6-b141-7b4028a75751\":{\"version\":\"3.8.0\",\"title\":\"Bokeh Application\",\"config\":{\"type\":\"object\",\"name\":\"DocumentConfig\",\"id\":\"p2722\",\"attributes\":{\"notifications\":{\"type\":\"object\",\"name\":\"Notifications\",\"id\":\"p2723\"}}},\"roots\":[{\"type\":\"object\",\"name\":\"Figure\",\"id\":\"p2677\",\"attributes\":{\"height\":400,\"x_range\":{\"type\":\"object\",\"name\":\"DataRange1d\",\"id\":\"p2679\"},\"y_range\":{\"type\":\"object\",\"name\":\"FactorRange\",\"id\":\"p2687\",\"attributes\":{\"factors\":[\"Colombiano\",\"M\\u00e9xico\",\"Estados Unidos\",\"Espa\\u00f1a\",\"Extranjero\",\"Ecuador\",\"Argentina\",\"Venezuela\",\"Francia\",\"Per\\u00fa\"]}},\"x_scale\":{\"type\":\"object\",\"name\":\"LinearScale\",\"id\":\"p2688\"},\"y_scale\":{\"type\":\"object\",\"name\":\"CategoricalScale\",\"id\":\"p2689\"},\"title\":{\"type\":\"object\",\"name\":\"Title\",\"id\":\"p2680\",\"attributes\":{\"text\":\"Top 10 Pa\\u00edses de Procedencia\",\"text_font_size\":\"14pt\"}},\"renderers\":[{\"type\":\"object\",\"name\":\"GlyphRenderer\",\"id\":\"p2718\",\"attributes\":{\"data_source\":{\"type\":\"object\",\"name\":\"ColumnDataSource\",\"id\":\"p2674\",\"attributes\":{\"selected\":{\"type\":\"object\",\"name\":\"Selection\",\"id\":\"p2675\",\"attributes\":{\"indices\":[],\"line_indices\":[]}},\"selection_policy\":{\"type\":\"object\",\"name\":\"UnionRenderers\",\"id\":\"p2676\"},\"data\":{\"type\":\"map\",\"entries\":[[\"index\",{\"type\":\"ndarray\",\"array\":{\"type\":\"bytes\",\"data\":\"H4sIAAEAAAAC/w3DiQ0AIAwEoNP6df+FhYQkGU7L5fZ4fbYfAnnvjSgAAAA=\"},\"shape\":[10],\"dtype\":\"int32\",\"order\":\"little\"}],[\"Pais\",{\"type\":\"ndarray\",\"array\":[\"Colombiano\",\"M\\u00e9xico\",\"Estados Unidos\",\"Espa\\u00f1a\",\"Extranjero\",\"Ecuador\",\"Argentina\",\"Venezuela\",\"Francia\",\"Per\\u00fa\"],\"shape\":[10],\"dtype\":\"object\",\"order\":\"little\"}],[\"Cantidad\",{\"type\":\"ndarray\",\"array\":{\"type\":\"bytes\",\"data\":\"H4sIAAEAAAAC/9vOycAgycDAIAHEQkAsCMRcQAwUZuAAYnYgZgNiAAJ0TfcoAAAA\"},\"shape\":[10],\"dtype\":\"int32\",\"order\":\"little\"}]]}}},\"view\":{\"type\":\"object\",\"name\":\"CDSView\",\"id\":\"p2719\",\"attributes\":{\"filter\":{\"type\":\"object\",\"name\":\"AllIndices\",\"id\":\"p2720\"}}},\"glyph\":{\"type\":\"object\",\"name\":\"HBar\",\"id\":\"p2715\",\"attributes\":{\"y\":{\"type\":\"field\",\"field\":\"Pais\"},\"height\":{\"type\":\"value\",\"value\":0.8},\"right\":{\"type\":\"field\",\"field\":\"Cantidad\"},\"line_color\":{\"type\":\"value\",\"value\":\"red\"},\"line_alpha\":{\"type\":\"value\",\"value\":0.7},\"fill_color\":{\"type\":\"value\",\"value\":\"red\"},\"fill_alpha\":{\"type\":\"value\",\"value\":0.7},\"hatch_color\":{\"type\":\"value\",\"value\":\"red\"},\"hatch_alpha\":{\"type\":\"value\",\"value\":0.7}}},\"nonselection_glyph\":{\"type\":\"object\",\"name\":\"HBar\",\"id\":\"p2716\",\"attributes\":{\"y\":{\"type\":\"field\",\"field\":\"Pais\"},\"height\":{\"type\":\"value\",\"value\":0.8},\"right\":{\"type\":\"field\",\"field\":\"Cantidad\"},\"line_color\":{\"type\":\"value\",\"value\":\"red\"},\"line_alpha\":{\"type\":\"value\",\"value\":0.1},\"fill_color\":{\"type\":\"value\",\"value\":\"red\"},\"fill_alpha\":{\"type\":\"value\",\"value\":0.1},\"hatch_color\":{\"type\":\"value\",\"value\":\"red\"},\"hatch_alpha\":{\"type\":\"value\",\"value\":0.1}}},\"muted_glyph\":{\"type\":\"object\",\"name\":\"HBar\",\"id\":\"p2717\",\"attributes\":{\"y\":{\"type\":\"field\",\"field\":\"Pais\"},\"height\":{\"type\":\"value\",\"value\":0.8},\"right\":{\"type\":\"field\",\"field\":\"Cantidad\"},\"line_color\":{\"type\":\"value\",\"value\":\"red\"},\"line_alpha\":{\"type\":\"value\",\"value\":0.2},\"fill_color\":{\"type\":\"value\",\"value\":\"red\"},\"fill_alpha\":{\"type\":\"value\",\"value\":0.2},\"hatch_color\":{\"type\":\"value\",\"value\":\"red\"},\"hatch_alpha\":{\"type\":\"value\",\"value\":0.2}}}}}],\"toolbar\":{\"type\":\"object\",\"name\":\"Toolbar\",\"id\":\"p2686\",\"attributes\":{\"tools\":[{\"type\":\"object\",\"name\":\"PanTool\",\"id\":\"p2700\"},{\"type\":\"object\",\"name\":\"WheelZoomTool\",\"id\":\"p2701\",\"attributes\":{\"renderers\":\"auto\"}},{\"type\":\"object\",\"name\":\"BoxZoomTool\",\"id\":\"p2702\",\"attributes\":{\"dimensions\":\"both\",\"overlay\":{\"type\":\"object\",\"name\":\"BoxAnnotation\",\"id\":\"p2703\",\"attributes\":{\"syncable\":false,\"line_color\":\"black\",\"line_alpha\":1.0,\"line_width\":2,\"line_dash\":[4,4],\"fill_color\":\"lightgrey\",\"fill_alpha\":0.5,\"level\":\"overlay\",\"visible\":false,\"left\":{\"type\":\"number\",\"value\":\"nan\"},\"right\":{\"type\":\"number\",\"value\":\"nan\"},\"top\":{\"type\":\"number\",\"value\":\"nan\"},\"bottom\":{\"type\":\"number\",\"value\":\"nan\"},\"left_units\":\"canvas\",\"right_units\":\"canvas\",\"top_units\":\"canvas\",\"bottom_units\":\"canvas\",\"handles\":{\"type\":\"object\",\"name\":\"BoxInteractionHandles\",\"id\":\"p2709\",\"attributes\":{\"all\":{\"type\":\"object\",\"name\":\"AreaVisuals\",\"id\":\"p2708\",\"attributes\":{\"fill_color\":\"white\",\"hover_fill_color\":\"lightgray\"}}}}}}}},{\"type\":\"object\",\"name\":\"ResetTool\",\"id\":\"p2710\"},{\"type\":\"object\",\"name\":\"SaveTool\",\"id\":\"p2711\"},{\"type\":\"object\",\"name\":\"HoverTool\",\"id\":\"p2721\",\"attributes\":{\"renderers\":\"auto\",\"tooltips\":[[\"Pa\\u00eds\",\"@Pais\"],[\"Visitantes\",\"@Cantidad\"]],\"sort_by\":null}}]}},\"left\":[{\"type\":\"object\",\"name\":\"CategoricalAxis\",\"id\":\"p2695\",\"attributes\":{\"ticker\":{\"type\":\"object\",\"name\":\"CategoricalTicker\",\"id\":\"p2696\"},\"formatter\":{\"type\":\"object\",\"name\":\"CategoricalTickFormatter\",\"id\":\"p2697\"},\"major_label_policy\":{\"type\":\"object\",\"name\":\"AllLabels\",\"id\":\"p2698\"}}}],\"below\":[{\"type\":\"object\",\"name\":\"LinearAxis\",\"id\":\"p2690\",\"attributes\":{\"ticker\":{\"type\":\"object\",\"name\":\"BasicTicker\",\"id\":\"p2691\",\"attributes\":{\"mantissas\":[1,2,5]}},\"formatter\":{\"type\":\"object\",\"name\":\"BasicTickFormatter\",\"id\":\"p2692\"},\"major_label_policy\":{\"type\":\"object\",\"name\":\"AllLabels\",\"id\":\"p2693\"}}}],\"center\":[{\"type\":\"object\",\"name\":\"Grid\",\"id\":\"p2694\",\"attributes\":{\"axis\":{\"id\":\"p2690\"}}},{\"type\":\"object\",\"name\":\"Grid\",\"id\":\"p2699\",\"attributes\":{\"dimension\":1,\"axis\":{\"id\":\"p2695\"}}}]}}]}};\n  const render_items = [{\"docid\":\"4675fc71-c836-4fb6-b141-7b4028a75751\",\"roots\":{\"p2677\":\"b7ccc497-71b6-4df0-ad45-7a46ac74d6e7\"},\"root_ids\":[\"p2677\"]}];\n  void root.Bokeh.embed.embed_items_notebook(docs_json, render_items);\n  }\n  if (root.Bokeh !== undefined) {\n    embed_document(root);\n  } else {\n    let attempts = 0;\n    const timer = setInterval(function(root) {\n      if (root.Bokeh !== undefined) {\n        clearInterval(timer);\n        embed_document(root);\n      } else {\n        attempts++;\n        if (attempts > 100) {\n          clearInterval(timer);\n          console.log(\"Bokeh: ERROR: Unable to run BokehJS code because BokehJS library is missing\");\n        }\n      }\n    }, 10, root)\n  }\n})(window);",
      "application/vnd.bokehjs_exec.v0+json": ""
     },
     "metadata": {
      "application/vnd.bokehjs_exec.v0+json": {
       "id": "p2677"
      }
     },
     "output_type": "display_data"
    }
   ],
   "source": [
    "# Análisis por género\n",
    "gender_counts = df['SEXO'].value_counts()\n",
    "gender_data = gender_counts.reset_index()\n",
    "gender_data.columns = ['Genero', 'Cantidad']\n",
    "source_gender = ColumnDataSource(gender_data)\n",
    "\n",
    "p_gender = figure(x_range=gender_data['Genero'], height=350, \n",
    "                 title='Distribución por Género',\n",
    "                 tools='pan,wheel_zoom,box_zoom,reset,save')\n",
    "\n",
    "p_gender.vbar(x='Genero', top='Cantidad', width=0.6, source=source_gender, \n",
    "              color='skyblue', alpha=0.8)\n",
    "p_gender.add_tools(HoverTool(tooltips=[('Género', '@Genero'), ('Cantidad', '@Cantidad')]))\n",
    "p_gender.title.text_font_size = \"14pt\"\n",
    "show(p_gender)\n",
    "\n",
    "# Análisis de países de procedencia\n",
    "country_counts = df['PAIS DE PROCEDENCIA'].value_counts()\n",
    "country_data = country_counts.head(10).reset_index()\n",
    "country_data.columns = ['Pais', 'Cantidad']\n",
    "source_country = ColumnDataSource(country_data)\n",
    "\n",
    "p11 = figure(y_range=country_data['Pais'], height=400, \n",
    "           title='Top 10 Países de Procedencia',\n",
    "           tools='pan,wheel_zoom,box_zoom,reset,save')\n",
    "\n",
    "p11.hbar(y='Pais', right='Cantidad', height=0.8, source=source_country, \n",
    "         color='red', alpha=0.7)\n",
    "p11.add_tools(HoverTool(tooltips=[('País', '@Pais'), ('Visitantes', '@Cantidad')]))\n",
    "p11.title.text_font_size = \"14pt\"\n",
    "show(p11)"
   ]
  },
  {
   "cell_type": "markdown",
   "id": "b9599fb0",
   "metadata": {},
   "source": [
    "## Patrones de Comportamiento de Viaje\""
   ]
  },
  {
   "cell_type": "code",
   "execution_count": 22,
   "id": "f83b2ddb",
   "metadata": {},
   "outputs": [
    {
     "name": "stderr",
     "output_type": "stream",
     "text": [
      "WARNING:bokeh.core.validation.check:W-1008 (PALETTE_LENGTH_FACTORS_MISMATCH): Palette length does not match number of factors: ['GASTRONOMIA'] will be assigned to `nan_color` gray\n"
     ]
    },
    {
     "data": {
      "text/html": [
       "\n",
       "  <div id=\"e1910c2d-5799-4599-935b-e492d6415b4e\" data-root-id=\"p2729\" style=\"display: contents;\"></div>\n"
      ]
     },
     "metadata": {},
     "output_type": "display_data"
    },
    {
     "data": {
      "application/javascript": "(function(root) {\n  function embed_document(root) {\n  const docs_json = {\"f818575e-34bf-4b47-a79c-7051ff3b0e8c\":{\"version\":\"3.8.0\",\"title\":\"Bokeh Application\",\"config\":{\"type\":\"object\",\"name\":\"DocumentConfig\",\"id\":\"p2775\",\"attributes\":{\"notifications\":{\"type\":\"object\",\"name\":\"Notifications\",\"id\":\"p2776\"}}},\"roots\":[{\"type\":\"object\",\"name\":\"Figure\",\"id\":\"p2729\",\"attributes\":{\"height\":400,\"x_range\":{\"type\":\"object\",\"name\":\"FactorRange\",\"id\":\"p2739\",\"attributes\":{\"factors\":[\"TURISMO DE NATURALEZA Y AVENTURA\",\"TURISMO CULTURAL Y PATRIMONIAL\",\"TURISMO LOCAL Y SERVICIOS TURISTICOS\",\"VACACIONES Y RECREACION\",\"SALUD Y BIENESTAR\",\"EDUCACION Y FORMACION\",\"NEGOCIOS Y TRABAJO\",\"MOTIVOS PERSONALES Y FAMILIARES\",\"TURISMO RELIGIOSO\",\"GASTRONOMIA\"]}},\"y_range\":{\"type\":\"object\",\"name\":\"DataRange1d\",\"id\":\"p2731\"},\"x_scale\":{\"type\":\"object\",\"name\":\"CategoricalScale\",\"id\":\"p2740\"},\"y_scale\":{\"type\":\"object\",\"name\":\"LinearScale\",\"id\":\"p2741\"},\"title\":{\"type\":\"object\",\"name\":\"Title\",\"id\":\"p2732\",\"attributes\":{\"text\":\"Distribuci\\u00f3n de Motivos de Viaje Consolidados (Datos Procesados)\",\"text_font_size\":\"14pt\"}},\"renderers\":[{\"type\":\"object\",\"name\":\"GlyphRenderer\",\"id\":\"p2771\",\"attributes\":{\"data_source\":{\"type\":\"object\",\"name\":\"ColumnDataSource\",\"id\":\"p2726\",\"attributes\":{\"selected\":{\"type\":\"object\",\"name\":\"Selection\",\"id\":\"p2727\",\"attributes\":{\"indices\":[],\"line_indices\":[]}},\"selection_policy\":{\"type\":\"object\",\"name\":\"UnionRenderers\",\"id\":\"p2728\"},\"data\":{\"type\":\"map\",\"entries\":[[\"index\",{\"type\":\"ndarray\",\"array\":{\"type\":\"bytes\",\"data\":\"H4sIAAEAAAAC/w3DiQ0AIAwEoNP6df+FhYQkGU7L5fZ4fbYfAnnvjSgAAAA=\"},\"shape\":[10],\"dtype\":\"int32\",\"order\":\"little\"}],[\"Motivo\",{\"type\":\"ndarray\",\"array\":[\"TURISMO DE NATURALEZA Y AVENTURA\",\"TURISMO CULTURAL Y PATRIMONIAL\",\"TURISMO LOCAL Y SERVICIOS TURISTICOS\",\"VACACIONES Y RECREACION\",\"SALUD Y BIENESTAR\",\"EDUCACION Y FORMACION\",\"NEGOCIOS Y TRABAJO\",\"MOTIVOS PERSONALES Y FAMILIARES\",\"TURISMO RELIGIOSO\",\"GASTRONOMIA\"],\"shape\":[10],\"dtype\":\"object\",\"order\":\"little\"}],[\"Cantidad\",{\"type\":\"ndarray\",\"array\":{\"type\":\"bytes\",\"data\":\"H4sIAAEAAAAC/0tlYWA4x8zAIMPIwNDNwMCQAsR8QMwOxKxAzALFAOA+D9QoAAAA\"},\"shape\":[10],\"dtype\":\"int32\",\"order\":\"little\"}]]}}},\"view\":{\"type\":\"object\",\"name\":\"CDSView\",\"id\":\"p2772\",\"attributes\":{\"filter\":{\"type\":\"object\",\"name\":\"AllIndices\",\"id\":\"p2773\"}}},\"glyph\":{\"type\":\"object\",\"name\":\"VBar\",\"id\":\"p2768\",\"attributes\":{\"x\":{\"type\":\"field\",\"field\":\"Motivo\"},\"width\":{\"type\":\"value\",\"value\":0.8},\"top\":{\"type\":\"field\",\"field\":\"Cantidad\"},\"line_color\":{\"type\":\"field\",\"field\":\"Motivo\",\"transform\":{\"type\":\"object\",\"name\":\"CategoricalColorMapper\",\"id\":\"p2764\",\"attributes\":{\"palette\":[\"#440154\",\"#472A79\",\"#3C4D8A\",\"#2E6C8E\",\"#23898D\",\"#20A585\",\"#45BF6F\",\"#88D547\",\"#D7E219\"],\"factors\":[\"TURISMO DE NATURALEZA Y AVENTURA\",\"TURISMO CULTURAL Y PATRIMONIAL\",\"TURISMO LOCAL Y SERVICIOS TURISTICOS\",\"VACACIONES Y RECREACION\",\"SALUD Y BIENESTAR\",\"EDUCACION Y FORMACION\",\"NEGOCIOS Y TRABAJO\",\"MOTIVOS PERSONALES Y FAMILIARES\",\"TURISMO RELIGIOSO\",\"GASTRONOMIA\"]}}},\"fill_color\":{\"type\":\"field\",\"field\":\"Motivo\",\"transform\":{\"id\":\"p2764\"}},\"hatch_color\":{\"type\":\"field\",\"field\":\"Motivo\",\"transform\":{\"id\":\"p2764\"}}}},\"nonselection_glyph\":{\"type\":\"object\",\"name\":\"VBar\",\"id\":\"p2769\",\"attributes\":{\"x\":{\"type\":\"field\",\"field\":\"Motivo\"},\"width\":{\"type\":\"value\",\"value\":0.8},\"top\":{\"type\":\"field\",\"field\":\"Cantidad\"},\"line_color\":{\"type\":\"field\",\"field\":\"Motivo\",\"transform\":{\"id\":\"p2764\"}},\"line_alpha\":{\"type\":\"value\",\"value\":0.1},\"fill_color\":{\"type\":\"field\",\"field\":\"Motivo\",\"transform\":{\"id\":\"p2764\"}},\"fill_alpha\":{\"type\":\"value\",\"value\":0.1},\"hatch_color\":{\"type\":\"field\",\"field\":\"Motivo\",\"transform\":{\"id\":\"p2764\"}},\"hatch_alpha\":{\"type\":\"value\",\"value\":0.1}}},\"muted_glyph\":{\"type\":\"object\",\"name\":\"VBar\",\"id\":\"p2770\",\"attributes\":{\"x\":{\"type\":\"field\",\"field\":\"Motivo\"},\"width\":{\"type\":\"value\",\"value\":0.8},\"top\":{\"type\":\"field\",\"field\":\"Cantidad\"},\"line_color\":{\"type\":\"field\",\"field\":\"Motivo\",\"transform\":{\"id\":\"p2764\"}},\"line_alpha\":{\"type\":\"value\",\"value\":0.2},\"fill_color\":{\"type\":\"field\",\"field\":\"Motivo\",\"transform\":{\"id\":\"p2764\"}},\"fill_alpha\":{\"type\":\"value\",\"value\":0.2},\"hatch_color\":{\"type\":\"field\",\"field\":\"Motivo\",\"transform\":{\"id\":\"p2764\"}},\"hatch_alpha\":{\"type\":\"value\",\"value\":0.2}}}}}],\"toolbar\":{\"type\":\"object\",\"name\":\"Toolbar\",\"id\":\"p2738\",\"attributes\":{\"tools\":[{\"type\":\"object\",\"name\":\"PanTool\",\"id\":\"p2752\"},{\"type\":\"object\",\"name\":\"WheelZoomTool\",\"id\":\"p2753\",\"attributes\":{\"renderers\":\"auto\"}},{\"type\":\"object\",\"name\":\"BoxZoomTool\",\"id\":\"p2754\",\"attributes\":{\"dimensions\":\"both\",\"overlay\":{\"type\":\"object\",\"name\":\"BoxAnnotation\",\"id\":\"p2755\",\"attributes\":{\"syncable\":false,\"line_color\":\"black\",\"line_alpha\":1.0,\"line_width\":2,\"line_dash\":[4,4],\"fill_color\":\"lightgrey\",\"fill_alpha\":0.5,\"level\":\"overlay\",\"visible\":false,\"left\":{\"type\":\"number\",\"value\":\"nan\"},\"right\":{\"type\":\"number\",\"value\":\"nan\"},\"top\":{\"type\":\"number\",\"value\":\"nan\"},\"bottom\":{\"type\":\"number\",\"value\":\"nan\"},\"left_units\":\"canvas\",\"right_units\":\"canvas\",\"top_units\":\"canvas\",\"bottom_units\":\"canvas\",\"handles\":{\"type\":\"object\",\"name\":\"BoxInteractionHandles\",\"id\":\"p2761\",\"attributes\":{\"all\":{\"type\":\"object\",\"name\":\"AreaVisuals\",\"id\":\"p2760\",\"attributes\":{\"fill_color\":\"white\",\"hover_fill_color\":\"lightgray\"}}}}}}}},{\"type\":\"object\",\"name\":\"ResetTool\",\"id\":\"p2762\"},{\"type\":\"object\",\"name\":\"SaveTool\",\"id\":\"p2763\"},{\"type\":\"object\",\"name\":\"HoverTool\",\"id\":\"p2774\",\"attributes\":{\"renderers\":\"auto\",\"tooltips\":[[\"Motivo\",\"@Motivo\"],[\"Cantidad\",\"@Cantidad\"]],\"sort_by\":null}}]}},\"left\":[{\"type\":\"object\",\"name\":\"LinearAxis\",\"id\":\"p2747\",\"attributes\":{\"ticker\":{\"type\":\"object\",\"name\":\"BasicTicker\",\"id\":\"p2748\",\"attributes\":{\"mantissas\":[1,2,5]}},\"formatter\":{\"type\":\"object\",\"name\":\"BasicTickFormatter\",\"id\":\"p2749\"},\"major_label_policy\":{\"type\":\"object\",\"name\":\"AllLabels\",\"id\":\"p2750\"}}}],\"below\":[{\"type\":\"object\",\"name\":\"CategoricalAxis\",\"id\":\"p2742\",\"attributes\":{\"ticker\":{\"type\":\"object\",\"name\":\"CategoricalTicker\",\"id\":\"p2743\"},\"formatter\":{\"type\":\"object\",\"name\":\"CategoricalTickFormatter\",\"id\":\"p2744\"},\"major_label_orientation\":1.2,\"major_label_policy\":{\"type\":\"object\",\"name\":\"AllLabels\",\"id\":\"p2745\"}}}],\"center\":[{\"type\":\"object\",\"name\":\"Grid\",\"id\":\"p2746\",\"attributes\":{\"axis\":{\"id\":\"p2742\"}}},{\"type\":\"object\",\"name\":\"Grid\",\"id\":\"p2751\",\"attributes\":{\"dimension\":1,\"axis\":{\"id\":\"p2747\"}}}]}}]}};\n  const render_items = [{\"docid\":\"f818575e-34bf-4b47-a79c-7051ff3b0e8c\",\"roots\":{\"p2729\":\"e1910c2d-5799-4599-935b-e492d6415b4e\"},\"root_ids\":[\"p2729\"]}];\n  void root.Bokeh.embed.embed_items_notebook(docs_json, render_items);\n  }\n  if (root.Bokeh !== undefined) {\n    embed_document(root);\n  } else {\n    let attempts = 0;\n    const timer = setInterval(function(root) {\n      if (root.Bokeh !== undefined) {\n        clearInterval(timer);\n        embed_document(root);\n      } else {\n        attempts++;\n        if (attempts > 100) {\n          clearInterval(timer);\n          console.log(\"Bokeh: ERROR: Unable to run BokehJS code because BokehJS library is missing\");\n        }\n      }\n    }, 10, root)\n  }\n})(window);",
      "application/vnd.bokehjs_exec.v0+json": ""
     },
     "metadata": {
      "application/vnd.bokehjs_exec.v0+json": {
       "id": "p2729"
      }
     },
     "output_type": "display_data"
    },
    {
     "data": {
      "text/html": [
       "\n",
       "  <div id=\"a209c2ab-34a9-40f4-b29e-ab5af1becf23\" data-root-id=\"p2782\" style=\"display: contents;\"></div>\n"
      ]
     },
     "metadata": {},
     "output_type": "display_data"
    },
    {
     "data": {
      "application/javascript": "(function(root) {\n  function embed_document(root) {\n  const docs_json = {\"ef2135df-bc79-4393-8aff-9fcb12738641\":{\"version\":\"3.8.0\",\"title\":\"Bokeh Application\",\"config\":{\"type\":\"object\",\"name\":\"DocumentConfig\",\"id\":\"p2828\",\"attributes\":{\"notifications\":{\"type\":\"object\",\"name\":\"Notifications\",\"id\":\"p2829\"}}},\"roots\":[{\"type\":\"object\",\"name\":\"Figure\",\"id\":\"p2782\",\"attributes\":{\"height\":400,\"x_range\":{\"type\":\"object\",\"name\":\"FactorRange\",\"id\":\"p2792\",\"attributes\":{\"factors\":[\"VEHICULO PARTICULAR\",\"AUTOBUS\",\"MOTOCICLETA\",\"ALQUILER DE VEHICULO\",\"VEHICULO DE AMIGOS O FAMILIARES\",\"AVION\",\"MARITIMO\",\"VANS\",\"VEHICULO DEL TRABAJO\"]}},\"y_range\":{\"type\":\"object\",\"name\":\"DataRange1d\",\"id\":\"p2784\"},\"x_scale\":{\"type\":\"object\",\"name\":\"CategoricalScale\",\"id\":\"p2793\"},\"y_scale\":{\"type\":\"object\",\"name\":\"LinearScale\",\"id\":\"p2794\"},\"title\":{\"type\":\"object\",\"name\":\"Title\",\"id\":\"p2785\",\"attributes\":{\"text\":\"Distribuci\\u00f3n de Medios de Transporte Consolidados (Datos Procesados)\",\"text_font_size\":\"14pt\"}},\"renderers\":[{\"type\":\"object\",\"name\":\"GlyphRenderer\",\"id\":\"p2824\",\"attributes\":{\"data_source\":{\"type\":\"object\",\"name\":\"ColumnDataSource\",\"id\":\"p2779\",\"attributes\":{\"selected\":{\"type\":\"object\",\"name\":\"Selection\",\"id\":\"p2780\",\"attributes\":{\"indices\":[],\"line_indices\":[]}},\"selection_policy\":{\"type\":\"object\",\"name\":\"UnionRenderers\",\"id\":\"p2781\"},\"data\":{\"type\":\"map\",\"entries\":[[\"index\",{\"type\":\"ndarray\",\"array\":{\"type\":\"bytes\",\"data\":\"H4sIAAEAAAAC/w3DARIAMATAsBrG/1+suQtA+Dldbn+P1wc0VuHUJAAAAA==\"},\"shape\":[9],\"dtype\":\"int32\",\"order\":\"little\"}],[\"Transporte\",{\"type\":\"ndarray\",\"array\":[\"VEHICULO PARTICULAR\",\"AUTOBUS\",\"MOTOCICLETA\",\"ALQUILER DE VEHICULO\",\"VEHICULO DE AMIGOS O FAMILIARES\",\"AVION\",\"MARITIMO\",\"VANS\",\"VEHICULO DEL TRABAJO\"],\"shape\":[9],\"dtype\":\"object\",\"order\":\"little\"}],[\"Cantidad\",{\"type\":\"ndarray\",\"array\":{\"type\":\"bytes\",\"data\":\"H4sIAAEAAAAC/ytnY2CwY2ZgMGVgYDAGYl0gFgZiRiQMAJPDzNAkAAAA\"},\"shape\":[9],\"dtype\":\"int32\",\"order\":\"little\"}]]}}},\"view\":{\"type\":\"object\",\"name\":\"CDSView\",\"id\":\"p2825\",\"attributes\":{\"filter\":{\"type\":\"object\",\"name\":\"AllIndices\",\"id\":\"p2826\"}}},\"glyph\":{\"type\":\"object\",\"name\":\"VBar\",\"id\":\"p2821\",\"attributes\":{\"x\":{\"type\":\"field\",\"field\":\"Transporte\"},\"width\":{\"type\":\"value\",\"value\":0.8},\"top\":{\"type\":\"field\",\"field\":\"Cantidad\"},\"line_color\":{\"type\":\"field\",\"field\":\"Transporte\",\"transform\":{\"type\":\"object\",\"name\":\"CategoricalColorMapper\",\"id\":\"p2817\",\"attributes\":{\"palette\":[\"#1f77b4\",\"#aec7e8\",\"#ff7f0e\",\"#ffbb78\",\"#2ca02c\",\"#98df8a\",\"#d62728\",\"#ff9896\",\"#9467bd\"],\"factors\":[\"VEHICULO PARTICULAR\",\"AUTOBUS\",\"MOTOCICLETA\",\"ALQUILER DE VEHICULO\",\"VEHICULO DE AMIGOS O FAMILIARES\",\"AVION\",\"MARITIMO\",\"VANS\",\"VEHICULO DEL TRABAJO\"]}}},\"line_alpha\":{\"type\":\"value\",\"value\":0.7},\"fill_color\":{\"type\":\"field\",\"field\":\"Transporte\",\"transform\":{\"id\":\"p2817\"}},\"fill_alpha\":{\"type\":\"value\",\"value\":0.7},\"hatch_color\":{\"type\":\"field\",\"field\":\"Transporte\",\"transform\":{\"id\":\"p2817\"}},\"hatch_alpha\":{\"type\":\"value\",\"value\":0.7}}},\"nonselection_glyph\":{\"type\":\"object\",\"name\":\"VBar\",\"id\":\"p2822\",\"attributes\":{\"x\":{\"type\":\"field\",\"field\":\"Transporte\"},\"width\":{\"type\":\"value\",\"value\":0.8},\"top\":{\"type\":\"field\",\"field\":\"Cantidad\"},\"line_color\":{\"type\":\"field\",\"field\":\"Transporte\",\"transform\":{\"id\":\"p2817\"}},\"line_alpha\":{\"type\":\"value\",\"value\":0.1},\"fill_color\":{\"type\":\"field\",\"field\":\"Transporte\",\"transform\":{\"id\":\"p2817\"}},\"fill_alpha\":{\"type\":\"value\",\"value\":0.1},\"hatch_color\":{\"type\":\"field\",\"field\":\"Transporte\",\"transform\":{\"id\":\"p2817\"}},\"hatch_alpha\":{\"type\":\"value\",\"value\":0.1}}},\"muted_glyph\":{\"type\":\"object\",\"name\":\"VBar\",\"id\":\"p2823\",\"attributes\":{\"x\":{\"type\":\"field\",\"field\":\"Transporte\"},\"width\":{\"type\":\"value\",\"value\":0.8},\"top\":{\"type\":\"field\",\"field\":\"Cantidad\"},\"line_color\":{\"type\":\"field\",\"field\":\"Transporte\",\"transform\":{\"id\":\"p2817\"}},\"line_alpha\":{\"type\":\"value\",\"value\":0.2},\"fill_color\":{\"type\":\"field\",\"field\":\"Transporte\",\"transform\":{\"id\":\"p2817\"}},\"fill_alpha\":{\"type\":\"value\",\"value\":0.2},\"hatch_color\":{\"type\":\"field\",\"field\":\"Transporte\",\"transform\":{\"id\":\"p2817\"}},\"hatch_alpha\":{\"type\":\"value\",\"value\":0.2}}}}}],\"toolbar\":{\"type\":\"object\",\"name\":\"Toolbar\",\"id\":\"p2791\",\"attributes\":{\"tools\":[{\"type\":\"object\",\"name\":\"PanTool\",\"id\":\"p2805\"},{\"type\":\"object\",\"name\":\"WheelZoomTool\",\"id\":\"p2806\",\"attributes\":{\"renderers\":\"auto\"}},{\"type\":\"object\",\"name\":\"BoxZoomTool\",\"id\":\"p2807\",\"attributes\":{\"dimensions\":\"both\",\"overlay\":{\"type\":\"object\",\"name\":\"BoxAnnotation\",\"id\":\"p2808\",\"attributes\":{\"syncable\":false,\"line_color\":\"black\",\"line_alpha\":1.0,\"line_width\":2,\"line_dash\":[4,4],\"fill_color\":\"lightgrey\",\"fill_alpha\":0.5,\"level\":\"overlay\",\"visible\":false,\"left\":{\"type\":\"number\",\"value\":\"nan\"},\"right\":{\"type\":\"number\",\"value\":\"nan\"},\"top\":{\"type\":\"number\",\"value\":\"nan\"},\"bottom\":{\"type\":\"number\",\"value\":\"nan\"},\"left_units\":\"canvas\",\"right_units\":\"canvas\",\"top_units\":\"canvas\",\"bottom_units\":\"canvas\",\"handles\":{\"type\":\"object\",\"name\":\"BoxInteractionHandles\",\"id\":\"p2814\",\"attributes\":{\"all\":{\"type\":\"object\",\"name\":\"AreaVisuals\",\"id\":\"p2813\",\"attributes\":{\"fill_color\":\"white\",\"hover_fill_color\":\"lightgray\"}}}}}}}},{\"type\":\"object\",\"name\":\"ResetTool\",\"id\":\"p2815\"},{\"type\":\"object\",\"name\":\"SaveTool\",\"id\":\"p2816\"},{\"type\":\"object\",\"name\":\"HoverTool\",\"id\":\"p2827\",\"attributes\":{\"renderers\":\"auto\",\"tooltips\":[[\"Transporte\",\"@Transporte\"],[\"Cantidad\",\"@Cantidad\"]],\"sort_by\":null}}]}},\"left\":[{\"type\":\"object\",\"name\":\"LinearAxis\",\"id\":\"p2800\",\"attributes\":{\"ticker\":{\"type\":\"object\",\"name\":\"BasicTicker\",\"id\":\"p2801\",\"attributes\":{\"mantissas\":[1,2,5]}},\"formatter\":{\"type\":\"object\",\"name\":\"BasicTickFormatter\",\"id\":\"p2802\"},\"major_label_policy\":{\"type\":\"object\",\"name\":\"AllLabels\",\"id\":\"p2803\"}}}],\"below\":[{\"type\":\"object\",\"name\":\"CategoricalAxis\",\"id\":\"p2795\",\"attributes\":{\"ticker\":{\"type\":\"object\",\"name\":\"CategoricalTicker\",\"id\":\"p2796\"},\"formatter\":{\"type\":\"object\",\"name\":\"CategoricalTickFormatter\",\"id\":\"p2797\"},\"major_label_orientation\":1.2,\"major_label_policy\":{\"type\":\"object\",\"name\":\"AllLabels\",\"id\":\"p2798\"}}}],\"center\":[{\"type\":\"object\",\"name\":\"Grid\",\"id\":\"p2799\",\"attributes\":{\"axis\":{\"id\":\"p2795\"}}},{\"type\":\"object\",\"name\":\"Grid\",\"id\":\"p2804\",\"attributes\":{\"dimension\":1,\"axis\":{\"id\":\"p2800\"}}}]}}]}};\n  const render_items = [{\"docid\":\"ef2135df-bc79-4393-8aff-9fcb12738641\",\"roots\":{\"p2782\":\"a209c2ab-34a9-40f4-b29e-ab5af1becf23\"},\"root_ids\":[\"p2782\"]}];\n  void root.Bokeh.embed.embed_items_notebook(docs_json, render_items);\n  }\n  if (root.Bokeh !== undefined) {\n    embed_document(root);\n  } else {\n    let attempts = 0;\n    const timer = setInterval(function(root) {\n      if (root.Bokeh !== undefined) {\n        clearInterval(timer);\n        embed_document(root);\n      } else {\n        attempts++;\n        if (attempts > 100) {\n          clearInterval(timer);\n          console.log(\"Bokeh: ERROR: Unable to run BokehJS code because BokehJS library is missing\");\n        }\n      }\n    }, 10, root)\n  }\n})(window);",
      "application/vnd.bokehjs_exec.v0+json": ""
     },
     "metadata": {
      "application/vnd.bokehjs_exec.v0+json": {
       "id": "p2782"
      }
     },
     "output_type": "display_data"
    },
    {
     "name": "stderr",
     "output_type": "stream",
     "text": [
      "BokehDeprecationWarning: 'circle() method with size value' was deprecated in Bokeh 3.4.0 and will be removed, use 'scatter(size=...) instead' instead.\n"
     ]
    },
    {
     "data": {
      "text/html": [
       "\n",
       "  <div id=\"bd2f56ca-109c-44be-a570-18e57d4e7ad6\" data-root-id=\"p2835\" style=\"display: contents;\"></div>\n"
      ]
     },
     "metadata": {},
     "output_type": "display_data"
    },
    {
     "data": {
      "application/javascript": "(function(root) {\n  function embed_document(root) {\n  const docs_json = {\"7a46120d-2ef4-4c9d-8ed5-9aeb255c73f2\":{\"version\":\"3.8.0\",\"title\":\"Bokeh Application\",\"config\":{\"type\":\"object\",\"name\":\"DocumentConfig\",\"id\":\"p2888\",\"attributes\":{\"notifications\":{\"type\":\"object\",\"name\":\"Notifications\",\"id\":\"p2889\"}}},\"roots\":[{\"type\":\"object\",\"name\":\"Figure\",\"id\":\"p2835\",\"attributes\":{\"height\":400,\"x_range\":{\"type\":\"object\",\"name\":\"DataRange1d\",\"id\":\"p2836\"},\"y_range\":{\"type\":\"object\",\"name\":\"DataRange1d\",\"id\":\"p2837\"},\"x_scale\":{\"type\":\"object\",\"name\":\"LinearScale\",\"id\":\"p2845\"},\"y_scale\":{\"type\":\"object\",\"name\":\"LinearScale\",\"id\":\"p2846\"},\"title\":{\"type\":\"object\",\"name\":\"Title\",\"id\":\"p2838\",\"attributes\":{\"text\":\"Distribuci\\u00f3n de Duraci\\u00f3n del Viaje (D\\u00edas)\",\"text_font_size\":\"14pt\"}},\"renderers\":[{\"type\":\"object\",\"name\":\"GlyphRenderer\",\"id\":\"p2875\",\"attributes\":{\"data_source\":{\"type\":\"object\",\"name\":\"ColumnDataSource\",\"id\":\"p2832\",\"attributes\":{\"selected\":{\"type\":\"object\",\"name\":\"Selection\",\"id\":\"p2833\",\"attributes\":{\"indices\":[],\"line_indices\":[]}},\"selection_policy\":{\"type\":\"object\",\"name\":\"UnionRenderers\",\"id\":\"p2834\"},\"data\":{\"type\":\"map\",\"entries\":[[\"index\",{\"type\":\"ndarray\",\"array\":{\"type\":\"bytes\",\"data\":\"H4sIAAEAAAAC/2NgYGBgBGImIGYGYhYgZgViNiBmB2IA3CMHeSAAAAA=\"},\"shape\":[8],\"dtype\":\"int32\",\"order\":\"little\"}],[\"Dias\",{\"type\":\"ndarray\",\"array\":{\"type\":\"bytes\",\"data\":\"H4sIAAEAAAAC/2NgYGBgBGImIGYGYhYgZgVidiDmB2IArQsZcCAAAAA=\"},\"shape\":[8],\"dtype\":\"int32\",\"order\":\"little\"}],[\"Cantidad\",{\"type\":\"ndarray\",\"array\":{\"type\":\"bytes\",\"data\":\"H4sIAAEAAAAC/2NiYGDYwcTAIMnMwFAKpB8C+a+A2ByIxYAYACGgMF8gAAAA\"},\"shape\":[8],\"dtype\":\"int32\",\"order\":\"little\"}]]}}},\"view\":{\"type\":\"object\",\"name\":\"CDSView\",\"id\":\"p2876\",\"attributes\":{\"filter\":{\"type\":\"object\",\"name\":\"AllIndices\",\"id\":\"p2877\"}}},\"glyph\":{\"type\":\"object\",\"name\":\"Line\",\"id\":\"p2872\",\"attributes\":{\"x\":{\"type\":\"field\",\"field\":\"Dias\"},\"y\":{\"type\":\"field\",\"field\":\"Cantidad\"},\"line_color\":\"purple\",\"line_width\":3}},\"nonselection_glyph\":{\"type\":\"object\",\"name\":\"Line\",\"id\":\"p2873\",\"attributes\":{\"x\":{\"type\":\"field\",\"field\":\"Dias\"},\"y\":{\"type\":\"field\",\"field\":\"Cantidad\"},\"line_color\":\"purple\",\"line_alpha\":0.1,\"line_width\":3}},\"muted_glyph\":{\"type\":\"object\",\"name\":\"Line\",\"id\":\"p2874\",\"attributes\":{\"x\":{\"type\":\"field\",\"field\":\"Dias\"},\"y\":{\"type\":\"field\",\"field\":\"Cantidad\"},\"line_color\":\"purple\",\"line_alpha\":0.2,\"line_width\":3}}}},{\"type\":\"object\",\"name\":\"GlyphRenderer\",\"id\":\"p2884\",\"attributes\":{\"data_source\":{\"id\":\"p2832\"},\"view\":{\"type\":\"object\",\"name\":\"CDSView\",\"id\":\"p2885\",\"attributes\":{\"filter\":{\"type\":\"object\",\"name\":\"AllIndices\",\"id\":\"p2886\"}}},\"glyph\":{\"type\":\"object\",\"name\":\"Scatter\",\"id\":\"p2881\",\"attributes\":{\"x\":{\"type\":\"field\",\"field\":\"Dias\"},\"y\":{\"type\":\"field\",\"field\":\"Cantidad\"},\"size\":{\"type\":\"value\",\"value\":8},\"line_color\":{\"type\":\"value\",\"value\":\"purple\"},\"line_alpha\":{\"type\":\"value\",\"value\":0.7},\"fill_color\":{\"type\":\"value\",\"value\":\"purple\"},\"fill_alpha\":{\"type\":\"value\",\"value\":0.7},\"hatch_color\":{\"type\":\"value\",\"value\":\"purple\"},\"hatch_alpha\":{\"type\":\"value\",\"value\":0.7}}},\"nonselection_glyph\":{\"type\":\"object\",\"name\":\"Scatter\",\"id\":\"p2882\",\"attributes\":{\"x\":{\"type\":\"field\",\"field\":\"Dias\"},\"y\":{\"type\":\"field\",\"field\":\"Cantidad\"},\"size\":{\"type\":\"value\",\"value\":8},\"line_color\":{\"type\":\"value\",\"value\":\"purple\"},\"line_alpha\":{\"type\":\"value\",\"value\":0.1},\"fill_color\":{\"type\":\"value\",\"value\":\"purple\"},\"fill_alpha\":{\"type\":\"value\",\"value\":0.1},\"hatch_color\":{\"type\":\"value\",\"value\":\"purple\"},\"hatch_alpha\":{\"type\":\"value\",\"value\":0.1}}},\"muted_glyph\":{\"type\":\"object\",\"name\":\"Scatter\",\"id\":\"p2883\",\"attributes\":{\"x\":{\"type\":\"field\",\"field\":\"Dias\"},\"y\":{\"type\":\"field\",\"field\":\"Cantidad\"},\"size\":{\"type\":\"value\",\"value\":8},\"line_color\":{\"type\":\"value\",\"value\":\"purple\"},\"line_alpha\":{\"type\":\"value\",\"value\":0.2},\"fill_color\":{\"type\":\"value\",\"value\":\"purple\"},\"fill_alpha\":{\"type\":\"value\",\"value\":0.2},\"hatch_color\":{\"type\":\"value\",\"value\":\"purple\"},\"hatch_alpha\":{\"type\":\"value\",\"value\":0.2}}}}}],\"toolbar\":{\"type\":\"object\",\"name\":\"Toolbar\",\"id\":\"p2844\",\"attributes\":{\"tools\":[{\"type\":\"object\",\"name\":\"PanTool\",\"id\":\"p2857\"},{\"type\":\"object\",\"name\":\"WheelZoomTool\",\"id\":\"p2858\",\"attributes\":{\"renderers\":\"auto\"}},{\"type\":\"object\",\"name\":\"BoxZoomTool\",\"id\":\"p2859\",\"attributes\":{\"dimensions\":\"both\",\"overlay\":{\"type\":\"object\",\"name\":\"BoxAnnotation\",\"id\":\"p2860\",\"attributes\":{\"syncable\":false,\"line_color\":\"black\",\"line_alpha\":1.0,\"line_width\":2,\"line_dash\":[4,4],\"fill_color\":\"lightgrey\",\"fill_alpha\":0.5,\"level\":\"overlay\",\"visible\":false,\"left\":{\"type\":\"number\",\"value\":\"nan\"},\"right\":{\"type\":\"number\",\"value\":\"nan\"},\"top\":{\"type\":\"number\",\"value\":\"nan\"},\"bottom\":{\"type\":\"number\",\"value\":\"nan\"},\"left_units\":\"canvas\",\"right_units\":\"canvas\",\"top_units\":\"canvas\",\"bottom_units\":\"canvas\",\"handles\":{\"type\":\"object\",\"name\":\"BoxInteractionHandles\",\"id\":\"p2866\",\"attributes\":{\"all\":{\"type\":\"object\",\"name\":\"AreaVisuals\",\"id\":\"p2865\",\"attributes\":{\"fill_color\":\"white\",\"hover_fill_color\":\"lightgray\"}}}}}}}},{\"type\":\"object\",\"name\":\"ResetTool\",\"id\":\"p2867\"},{\"type\":\"object\",\"name\":\"SaveTool\",\"id\":\"p2868\"},{\"type\":\"object\",\"name\":\"HoverTool\",\"id\":\"p2887\",\"attributes\":{\"renderers\":\"auto\",\"tooltips\":[[\"D\\u00edas\",\"@Dias\"],[\"Cantidad\",\"@Cantidad\"]],\"sort_by\":null}}]}},\"left\":[{\"type\":\"object\",\"name\":\"LinearAxis\",\"id\":\"p2852\",\"attributes\":{\"ticker\":{\"type\":\"object\",\"name\":\"BasicTicker\",\"id\":\"p2853\",\"attributes\":{\"mantissas\":[1,2,5]}},\"formatter\":{\"type\":\"object\",\"name\":\"BasicTickFormatter\",\"id\":\"p2854\"},\"major_label_policy\":{\"type\":\"object\",\"name\":\"AllLabels\",\"id\":\"p2855\"}}}],\"below\":[{\"type\":\"object\",\"name\":\"LinearAxis\",\"id\":\"p2847\",\"attributes\":{\"ticker\":{\"type\":\"object\",\"name\":\"BasicTicker\",\"id\":\"p2848\",\"attributes\":{\"mantissas\":[1,2,5]}},\"formatter\":{\"type\":\"object\",\"name\":\"BasicTickFormatter\",\"id\":\"p2849\"},\"major_label_policy\":{\"type\":\"object\",\"name\":\"AllLabels\",\"id\":\"p2850\"}}}],\"center\":[{\"type\":\"object\",\"name\":\"Grid\",\"id\":\"p2851\",\"attributes\":{\"axis\":{\"id\":\"p2847\"}}},{\"type\":\"object\",\"name\":\"Grid\",\"id\":\"p2856\",\"attributes\":{\"dimension\":1,\"axis\":{\"id\":\"p2852\"}}}]}}]}};\n  const render_items = [{\"docid\":\"7a46120d-2ef4-4c9d-8ed5-9aeb255c73f2\",\"roots\":{\"p2835\":\"bd2f56ca-109c-44be-a570-18e57d4e7ad6\"},\"root_ids\":[\"p2835\"]}];\n  void root.Bokeh.embed.embed_items_notebook(docs_json, render_items);\n  }\n  if (root.Bokeh !== undefined) {\n    embed_document(root);\n  } else {\n    let attempts = 0;\n    const timer = setInterval(function(root) {\n      if (root.Bokeh !== undefined) {\n        clearInterval(timer);\n        embed_document(root);\n      } else {\n        attempts++;\n        if (attempts > 100) {\n          clearInterval(timer);\n          console.log(\"Bokeh: ERROR: Unable to run BokehJS code because BokehJS library is missing\");\n        }\n      }\n    }, 10, root)\n  }\n})(window);",
      "application/vnd.bokehjs_exec.v0+json": ""
     },
     "metadata": {
      "application/vnd.bokehjs_exec.v0+json": {
       "id": "p2835"
      }
     },
     "output_type": "display_data"
    },
    {
     "data": {
      "text/html": [
       "\n",
       "  <div id=\"f9d104d5-162a-4e5e-a6b1-7e0f53c9b5a7\" data-root-id=\"p2896\" style=\"display: contents;\"></div>\n"
      ]
     },
     "metadata": {},
     "output_type": "display_data"
    },
    {
     "data": {
      "application/javascript": "(function(root) {\n  function embed_document(root) {\n  const docs_json = {\"161d387a-e4ed-435a-8ee6-b7ffca235c5b\":{\"version\":\"3.8.0\",\"title\":\"Bokeh Application\",\"config\":{\"type\":\"object\",\"name\":\"DocumentConfig\",\"id\":\"p2940\",\"attributes\":{\"notifications\":{\"type\":\"object\",\"name\":\"Notifications\",\"id\":\"p2941\"}}},\"roots\":[{\"type\":\"object\",\"name\":\"Figure\",\"id\":\"p2896\",\"attributes\":{\"height\":400,\"x_range\":{\"type\":\"object\",\"name\":\"DataRange1d\",\"id\":\"p2897\"},\"y_range\":{\"type\":\"object\",\"name\":\"DataRange1d\",\"id\":\"p2898\"},\"x_scale\":{\"type\":\"object\",\"name\":\"LinearScale\",\"id\":\"p2906\"},\"y_scale\":{\"type\":\"object\",\"name\":\"LinearScale\",\"id\":\"p2907\"},\"title\":{\"type\":\"object\",\"name\":\"Title\",\"id\":\"p2899\",\"attributes\":{\"text\":\"Distribuci\\u00f3n del Tama\\u00f1o de Grupos de Viaje\",\"text_font_size\":\"14pt\"}},\"renderers\":[{\"type\":\"object\",\"name\":\"GlyphRenderer\",\"id\":\"p2936\",\"attributes\":{\"data_source\":{\"type\":\"object\",\"name\":\"ColumnDataSource\",\"id\":\"p2893\",\"attributes\":{\"selected\":{\"type\":\"object\",\"name\":\"Selection\",\"id\":\"p2894\",\"attributes\":{\"indices\":[],\"line_indices\":[]}},\"selection_policy\":{\"type\":\"object\",\"name\":\"UnionRenderers\",\"id\":\"p2895\"},\"data\":{\"type\":\"map\",\"entries\":[[\"index\",{\"type\":\"ndarray\",\"array\":{\"type\":\"bytes\",\"data\":\"H4sIAAEAAAAC/w3DCxKBUAAAwEciKqGoqJQ+9z+i3ZkNIYSdeyMPxh49mXj2Ympm7tXCm3cfllY+fVnb2Pr2Y2fv4NfRyZ+zi6ubf0GULvGcAAAA\"},\"shape\":[39],\"dtype\":\"int32\",\"order\":\"little\"}],[\"Tama\\u00f1o_Grupo\",{\"type\":\"ndarray\",\"array\":{\"type\":\"bytes\",\"data\":\"H4sIAAEAAAAC/w3DCxKBUAAAwCcp+qhQQhqidP8T2p3ZTQghcmvszsTUvQczcwtLj1bWNp48e7G182rvzbsPB5+Ovnw7+fHr7OLP1T/0qYcgnAAAAA==\"},\"shape\":[39],\"dtype\":\"int32\",\"order\":\"little\"}],[\"Cantidad\",{\"type\":\"ndarray\",\"array\":{\"type\":\"bytes\",\"data\":\"H4sIAAEAAAAC/zXNuQ2AMBBE0bHNfUSQkUABdEKMqII+aJiYb2kIntYaz2ovSW+UpiCtzIP5kJ24sWBHgw0VavSgqgIdorOE0f381zor/c47gwXvze78veSbHz2wJVmcAAAA\"},\"shape\":[39],\"dtype\":\"int32\",\"order\":\"little\"}]]}}},\"view\":{\"type\":\"object\",\"name\":\"CDSView\",\"id\":\"p2937\",\"attributes\":{\"filter\":{\"type\":\"object\",\"name\":\"AllIndices\",\"id\":\"p2938\"}}},\"glyph\":{\"type\":\"object\",\"name\":\"VBar\",\"id\":\"p2933\",\"attributes\":{\"x\":{\"type\":\"field\",\"field\":\"Tama\\u00f1o_Grupo\"},\"width\":{\"type\":\"value\",\"value\":0.8},\"top\":{\"type\":\"field\",\"field\":\"Cantidad\"},\"line_color\":{\"type\":\"value\",\"value\":\"teal\"},\"line_alpha\":{\"type\":\"value\",\"value\":0.7},\"fill_color\":{\"type\":\"value\",\"value\":\"teal\"},\"fill_alpha\":{\"type\":\"value\",\"value\":0.7},\"hatch_color\":{\"type\":\"value\",\"value\":\"teal\"},\"hatch_alpha\":{\"type\":\"value\",\"value\":0.7}}},\"nonselection_glyph\":{\"type\":\"object\",\"name\":\"VBar\",\"id\":\"p2934\",\"attributes\":{\"x\":{\"type\":\"field\",\"field\":\"Tama\\u00f1o_Grupo\"},\"width\":{\"type\":\"value\",\"value\":0.8},\"top\":{\"type\":\"field\",\"field\":\"Cantidad\"},\"line_color\":{\"type\":\"value\",\"value\":\"teal\"},\"line_alpha\":{\"type\":\"value\",\"value\":0.1},\"fill_color\":{\"type\":\"value\",\"value\":\"teal\"},\"fill_alpha\":{\"type\":\"value\",\"value\":0.1},\"hatch_color\":{\"type\":\"value\",\"value\":\"teal\"},\"hatch_alpha\":{\"type\":\"value\",\"value\":0.1}}},\"muted_glyph\":{\"type\":\"object\",\"name\":\"VBar\",\"id\":\"p2935\",\"attributes\":{\"x\":{\"type\":\"field\",\"field\":\"Tama\\u00f1o_Grupo\"},\"width\":{\"type\":\"value\",\"value\":0.8},\"top\":{\"type\":\"field\",\"field\":\"Cantidad\"},\"line_color\":{\"type\":\"value\",\"value\":\"teal\"},\"line_alpha\":{\"type\":\"value\",\"value\":0.2},\"fill_color\":{\"type\":\"value\",\"value\":\"teal\"},\"fill_alpha\":{\"type\":\"value\",\"value\":0.2},\"hatch_color\":{\"type\":\"value\",\"value\":\"teal\"},\"hatch_alpha\":{\"type\":\"value\",\"value\":0.2}}}}}],\"toolbar\":{\"type\":\"object\",\"name\":\"Toolbar\",\"id\":\"p2905\",\"attributes\":{\"tools\":[{\"type\":\"object\",\"name\":\"PanTool\",\"id\":\"p2918\"},{\"type\":\"object\",\"name\":\"WheelZoomTool\",\"id\":\"p2919\",\"attributes\":{\"renderers\":\"auto\"}},{\"type\":\"object\",\"name\":\"BoxZoomTool\",\"id\":\"p2920\",\"attributes\":{\"dimensions\":\"both\",\"overlay\":{\"type\":\"object\",\"name\":\"BoxAnnotation\",\"id\":\"p2921\",\"attributes\":{\"syncable\":false,\"line_color\":\"black\",\"line_alpha\":1.0,\"line_width\":2,\"line_dash\":[4,4],\"fill_color\":\"lightgrey\",\"fill_alpha\":0.5,\"level\":\"overlay\",\"visible\":false,\"left\":{\"type\":\"number\",\"value\":\"nan\"},\"right\":{\"type\":\"number\",\"value\":\"nan\"},\"top\":{\"type\":\"number\",\"value\":\"nan\"},\"bottom\":{\"type\":\"number\",\"value\":\"nan\"},\"left_units\":\"canvas\",\"right_units\":\"canvas\",\"top_units\":\"canvas\",\"bottom_units\":\"canvas\",\"handles\":{\"type\":\"object\",\"name\":\"BoxInteractionHandles\",\"id\":\"p2927\",\"attributes\":{\"all\":{\"type\":\"object\",\"name\":\"AreaVisuals\",\"id\":\"p2926\",\"attributes\":{\"fill_color\":\"white\",\"hover_fill_color\":\"lightgray\"}}}}}}}},{\"type\":\"object\",\"name\":\"ResetTool\",\"id\":\"p2928\"},{\"type\":\"object\",\"name\":\"SaveTool\",\"id\":\"p2929\"},{\"type\":\"object\",\"name\":\"HoverTool\",\"id\":\"p2939\",\"attributes\":{\"renderers\":\"auto\",\"tooltips\":[[\"Tama\\u00f1o de Grupo\",\"@Tama\\u00f1o_Grupo\"],[\"N\\u00famero de Grupos\",\"@Cantidad\"]],\"sort_by\":null}}]}},\"left\":[{\"type\":\"object\",\"name\":\"LinearAxis\",\"id\":\"p2913\",\"attributes\":{\"ticker\":{\"type\":\"object\",\"name\":\"BasicTicker\",\"id\":\"p2914\",\"attributes\":{\"mantissas\":[1,2,5]}},\"formatter\":{\"type\":\"object\",\"name\":\"BasicTickFormatter\",\"id\":\"p2915\"},\"major_label_policy\":{\"type\":\"object\",\"name\":\"AllLabels\",\"id\":\"p2916\"}}}],\"below\":[{\"type\":\"object\",\"name\":\"LinearAxis\",\"id\":\"p2908\",\"attributes\":{\"ticker\":{\"type\":\"object\",\"name\":\"BasicTicker\",\"id\":\"p2909\",\"attributes\":{\"mantissas\":[1,2,5]}},\"formatter\":{\"type\":\"object\",\"name\":\"BasicTickFormatter\",\"id\":\"p2910\"},\"major_label_policy\":{\"type\":\"object\",\"name\":\"AllLabels\",\"id\":\"p2911\"}}}],\"center\":[{\"type\":\"object\",\"name\":\"Grid\",\"id\":\"p2912\",\"attributes\":{\"axis\":{\"id\":\"p2908\"}}},{\"type\":\"object\",\"name\":\"Grid\",\"id\":\"p2917\",\"attributes\":{\"dimension\":1,\"axis\":{\"id\":\"p2913\"}}}]}}]}};\n  const render_items = [{\"docid\":\"161d387a-e4ed-435a-8ee6-b7ffca235c5b\",\"roots\":{\"p2896\":\"f9d104d5-162a-4e5e-a6b1-7e0f53c9b5a7\"},\"root_ids\":[\"p2896\"]}];\n  void root.Bokeh.embed.embed_items_notebook(docs_json, render_items);\n  }\n  if (root.Bokeh !== undefined) {\n    embed_document(root);\n  } else {\n    let attempts = 0;\n    const timer = setInterval(function(root) {\n      if (root.Bokeh !== undefined) {\n        clearInterval(timer);\n        embed_document(root);\n      } else {\n        attempts++;\n        if (attempts > 100) {\n          clearInterval(timer);\n          console.log(\"Bokeh: ERROR: Unable to run BokehJS code because BokehJS library is missing\");\n        }\n      }\n    }, 10, root)\n  }\n})(window);",
      "application/vnd.bokehjs_exec.v0+json": ""
     },
     "metadata": {
      "application/vnd.bokehjs_exec.v0+json": {
       "id": "p2896"
      }
     },
     "output_type": "display_data"
    }
   ],
   "source": [
    "# Análisis de motivos de viaje (usando datos procesados y consolidados)\n",
    "travel_reason = df['MOTIVO'].value_counts()\n",
    "reason_data = travel_reason.reset_index()\n",
    "reason_data.columns = ['Motivo', 'Cantidad']\n",
    "source_reason = ColumnDataSource(reason_data)\n",
    "\n",
    "p7 = figure(x_range=reason_data['Motivo'], height=400, \n",
    "           title='Distribución de Motivos de Viaje Consolidados (Datos Procesados)',\n",
    "           tools='pan,wheel_zoom,box_zoom,reset,save')\n",
    "\n",
    "p7.vbar(x='Motivo', top='Cantidad', width=0.8, source=source_reason,\n",
    "        color=factor_cmap('Motivo', palette=Viridis256[::30], \n",
    "                         factors=reason_data['Motivo'].tolist()))\n",
    "p7.add_tools(HoverTool(tooltips=[('Motivo', '@Motivo'), ('Cantidad', '@Cantidad')]))\n",
    "p7.xaxis.major_label_orientation = 1.2\n",
    "p7.title.text_font_size = \"14pt\"\n",
    "show(p7)\n",
    "\n",
    "# Análisis de medios de transporte (usando datos procesados y consolidados)\n",
    "from bokeh.palettes import Category20\n",
    "\n",
    "transport = df['TRANSPORTE'].value_counts()\n",
    "transport_data = transport.reset_index()\n",
    "transport_data.columns = ['Transporte', 'Cantidad']\n",
    "source_transport = ColumnDataSource(transport_data)\n",
    "\n",
    "# Ensure we don't exceed the number of available colors\n",
    "num_categories = len(transport_data)\n",
    "colors = Category20[min(num_categories, len(Category20))]\n",
    "\n",
    "p8 = figure(x_range=transport_data['Transporte'], height=400, \n",
    "           title='Distribución de Medios de Transporte Consolidados (Datos Procesados)',\n",
    "           tools='pan,wheel_zoom,box_zoom,reset,save')\n",
    "\n",
    "p8.vbar(x='Transporte', top='Cantidad', width=0.8, source=source_transport, \n",
    "        color=factor_cmap('Transporte', palette=colors, \n",
    "                         factors=transport_data['Transporte'].tolist()), alpha=0.7)\n",
    "p8.add_tools(HoverTool(tooltips=[('Transporte', '@Transporte'), ('Cantidad', '@Cantidad')]))\n",
    "p8.xaxis.major_label_orientation = 1.2\n",
    "p8.title.text_font_size = \"14pt\"\n",
    "show(p8)\n",
    "\n",
    "# Trip duration analysis\n",
    "duration_stats = df['TIEMPO DE PERMANENCIA EN DIAS'].describe()\n",
    "duration_counts = df['TIEMPO DE PERMANENCIA EN DIAS'].value_counts().sort_index()\n",
    "duration_data = duration_counts.reset_index()\n",
    "duration_data.columns = ['Dias', 'Cantidad']\n",
    "source_duration = ColumnDataSource(duration_data)\n",
    "\n",
    "p9 = figure(height=400, title='Distribución de Duración del Viaje (Días)',\n",
    "           tools='pan,wheel_zoom,box_zoom,reset,save')\n",
    "\n",
    "p9.line(x='Dias', y='Cantidad', source=source_duration, line_width=3, color='purple')\n",
    "p9.circle(x='Dias', y='Cantidad', source=source_duration, size=8, color='purple', alpha=0.7)\n",
    "p9.add_tools(HoverTool(tooltips=[('Días', '@Dias'), ('Cantidad', '@Cantidad')]))\n",
    "p9.title.text_font_size = \"14pt\"\n",
    "show(p9)\n",
    "\n",
    "# Group size analysis (how many people travel together)\n",
    "travelers_stats = df['CANTIDAD DE VIAJEROS'].describe()\n",
    "travelers_counts = df['CANTIDAD DE VIAJEROS'].value_counts().sort_index()\n",
    "travelers_data = travelers_counts.reset_index()\n",
    "travelers_data.columns = ['Tamaño_Grupo', 'Cantidad']\n",
    "source_travelers = ColumnDataSource(travelers_data)\n",
    "\n",
    "p10 = figure(height=400, title='Distribución del Tamaño de Grupos de Viaje',\n",
    "           tools='pan,wheel_zoom,box_zoom,reset,save')\n",
    "\n",
    "p10.vbar(x='Tamaño_Grupo', top='Cantidad', width=0.8, source=source_travelers, color='teal', alpha=0.7)\n",
    "p10.add_tools(HoverTool(tooltips=[('Tamaño de Grupo', '@Tamaño_Grupo'), ('Número de Grupos', '@Cantidad')]))\n",
    "p10.title.text_font_size = \"14pt\"\n",
    "show(p10)\n"
   ]
  }
 ],
 "metadata": {
  "kernelspec": {
   "display_name": ".venv",
   "language": "python",
   "name": "python3"
  },
  "language_info": {
   "codemirror_mode": {
    "name": "ipython",
    "version": 3
   },
   "file_extension": ".py",
   "mimetype": "text/x-python",
   "name": "python",
   "nbconvert_exporter": "python",
   "pygments_lexer": "ipython3",
   "version": "3.12.2"
  }
 },
 "nbformat": 4,
 "nbformat_minor": 5
}
