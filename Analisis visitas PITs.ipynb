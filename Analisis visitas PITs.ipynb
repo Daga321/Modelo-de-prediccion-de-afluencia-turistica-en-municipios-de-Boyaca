{
 "cells": [
  {
   "cell_type": "markdown",
   "id": "71a95a2c",
   "metadata": {},
   "source": [
    "# Libraries and Dependencies"
   ]
  },
  {
   "cell_type": "code",
   "execution_count": null,
   "id": "83f036de",
   "metadata": {},
   "outputs": [
    {
     "data": {
      "text/html": [
       "    <style>\n",
       "        .bk-notebook-logo {\n",
       "            display: block;\n",
       "            width: 20px;\n",
       "            height: 20px;\n",
       "            background-image: url(data:image/png;base64,iVBORw0KGgoAAAANSUhEUgAAABQAAAAUCAYAAACNiR0NAAAABHNCSVQICAgIfAhkiAAAAAlwSFlzAAALEgAACxIB0t1+/AAAABx0RVh0U29mdHdhcmUAQWRvYmUgRmlyZXdvcmtzIENTNui8sowAAAOkSURBVDiNjZRtaJVlGMd/1/08zzln5zjP1LWcU9N0NkN8m2CYjpgQYQXqSs0I84OLIC0hkEKoPtiH3gmKoiJDU7QpLgoLjLIQCpEsNJ1vqUOdO7ppbuec5+V+rj4ctwzd8IIbbi6u+8f1539dt3A78eXC7QizUF7gyV1fD1Yqg4JWz84yffhm0qkFqBogB9rM8tZdtwVsPUhWhGcFJngGeWrPzHm5oaMmkfEg1usvLFyc8jLRqDOMru7AyC8saQr7GG7f5fvDeH7Ej8CM66nIF+8yngt6HWaKh7k49Soy9nXurCi1o3qUbS3zWfrYeQDTB/Qj6kX6Ybhw4B+bOYoLKCC9H3Nu/leUTZ1JdRWkkn2ldcCamzrcf47KKXdAJllSlxAOkRgyHsGC/zRday5Qld9DyoM4/q/rUoy/CXh3jzOu3bHUVZeU+DEn8FInkPBFlu3+nW3Nw0mk6vCDiWg8CeJaxEwuHS3+z5RgY+YBR6V1Z1nxSOfoaPa4LASWxxdNp+VWTk7+4vzaou8v8PN+xo+KY2xsw6une2frhw05CTYOmQvsEhjhWjn0bmXPjpE1+kplmmkP3suftwTubK9Vq22qKmrBhpY4jvd5afdRA3wGjFAgcnTK2s4hY0/GPNIb0nErGMCRxWOOX64Z8RAC4oCXdklmEvcL8o0BfkNK4lUg9HTl+oPlQxdNo3Mg4Nv175e/1LDGzZen30MEjRUtmXSfiTVu1kK8W4txyV6BMKlbgk3lMwYCiusNy9fVfvvwMxv8Ynl6vxoByANLTWplvuj/nF9m2+PDtt1eiHPBr1oIfhCChQMBw6Aw0UulqTKZdfVvfG7VcfIqLG9bcldL/+pdWTLxLUy8Qq38heUIjh4XlzZxzQm19lLFlr8vdQ97rjZVOLf8nclzckbcD4wxXMidpX30sFd37Fv/GtwwhzhxGVAprjbg0gCAEeIgwCZyTV2Z1REEW8O4py0wsjeloKoMr6iCY6dP92H6Vw/oTyICIthibxjm/DfN9lVz8IqtqKYLUXfoKVMVQVVJOElGjrnnUt9T9wbgp8AyYKaGlqingHZU/uG2NTZSVqwHQTWkx9hxjkpWDaCg6Ckj5qebgBVbT3V3NNXMSiWSDdGV3hrtzla7J+duwPOToIg42ChPQOQjspnSlp1V+Gjdged7+8UN5CRAV7a5EdFNwCjEaBR27b3W890TE7g24NAP/mMDXRWrGoFPQI9ls/MWO2dWFAar/xcOIImbbpA3zgAAAABJRU5ErkJggg==);\n",
       "        }\n",
       "    </style>\n",
       "    <div>\n",
       "        <a href=\"https://bokeh.org\" target=\"_blank\" class=\"bk-notebook-logo\"></a>\n",
       "        <span id=\"cb5cb428-a373-411a-b552-cb57bf71428f\">Loading BokehJS ...</span>\n",
       "    </div>\n"
      ]
     },
     "metadata": {},
     "output_type": "display_data"
    },
    {
     "data": {
      "application/javascript": "'use strict';\n(function(root) {\n  function now() {\n    return new Date();\n  }\n\n  const force = true;\n\n  if (typeof root._bokeh_onload_callbacks === \"undefined\" || force === true) {\n    root._bokeh_onload_callbacks = [];\n    root._bokeh_is_loading = undefined;\n  }\n\nconst JS_MIME_TYPE = 'application/javascript';\n  const HTML_MIME_TYPE = 'text/html';\n  const EXEC_MIME_TYPE = 'application/vnd.bokehjs_exec.v0+json';\n  const CLASS_NAME = 'output_bokeh rendered_html';\n\n  /**\n   * Render data to the DOM node\n   */\n  function render(props, node) {\n    const script = document.createElement(\"script\");\n    node.appendChild(script);\n  }\n\n  /**\n   * Handle when an output is cleared or removed\n   */\n  function handleClearOutput(event, handle) {\n    function drop(id) {\n      const view = Bokeh.index.get_by_id(id)\n      if (view != null) {\n        view.model.document.clear()\n        Bokeh.index.delete(view)\n      }\n    }\n\n    const cell = handle.cell;\n\n    const id = cell.output_area._bokeh_element_id;\n    const server_id = cell.output_area._bokeh_server_id;\n\n    // Clean up Bokeh references\n    if (id != null) {\n      drop(id)\n    }\n\n    if (server_id !== undefined) {\n      // Clean up Bokeh references\n      const cmd_clean = \"from bokeh.io.state import curstate; print(curstate().uuid_to_server['\" + server_id + \"'].get_sessions()[0].document.roots[0]._id)\";\n      cell.notebook.kernel.execute(cmd_clean, {\n        iopub: {\n          output: function(msg) {\n            const id = msg.content.text.trim()\n            drop(id)\n          }\n        }\n      });\n      // Destroy server and session\n      const cmd_destroy = \"import bokeh.io.notebook as ion; ion.destroy_server('\" + server_id + \"')\";\n      cell.notebook.kernel.execute(cmd_destroy);\n    }\n  }\n\n  /**\n   * Handle when a new output is added\n   */\n  function handleAddOutput(event, handle) {\n    const output_area = handle.output_area;\n    const output = handle.output;\n\n    // limit handleAddOutput to display_data with EXEC_MIME_TYPE content only\n    if ((output.output_type != \"display_data\") || (!Object.prototype.hasOwnProperty.call(output.data, EXEC_MIME_TYPE))) {\n      return\n    }\n\n    const toinsert = output_area.element.find(\".\" + CLASS_NAME.split(' ')[0]);\n\n    if (output.metadata[EXEC_MIME_TYPE][\"id\"] !== undefined) {\n      toinsert[toinsert.length - 1].firstChild.textContent = output.data[JS_MIME_TYPE];\n      // store reference to embed id on output_area\n      output_area._bokeh_element_id = output.metadata[EXEC_MIME_TYPE][\"id\"];\n    }\n    if (output.metadata[EXEC_MIME_TYPE][\"server_id\"] !== undefined) {\n      const bk_div = document.createElement(\"div\");\n      bk_div.innerHTML = output.data[HTML_MIME_TYPE];\n      const script_attrs = bk_div.children[0].attributes;\n      for (let i = 0; i < script_attrs.length; i++) {\n        toinsert[toinsert.length - 1].firstChild.setAttribute(script_attrs[i].name, script_attrs[i].value);\n        toinsert[toinsert.length - 1].firstChild.textContent = bk_div.children[0].textContent\n      }\n      // store reference to server id on output_area\n      output_area._bokeh_server_id = output.metadata[EXEC_MIME_TYPE][\"server_id\"];\n    }\n  }\n\n  function register_renderer(events, OutputArea) {\n\n    function append_mime(data, metadata, element) {\n      // create a DOM node to render to\n      const toinsert = this.create_output_subarea(\n        metadata,\n        CLASS_NAME,\n        EXEC_MIME_TYPE\n      );\n      this.keyboard_manager.register_events(toinsert);\n      // Render to node\n      const props = {data: data, metadata: metadata[EXEC_MIME_TYPE]};\n      render(props, toinsert[toinsert.length - 1]);\n      element.append(toinsert);\n      return toinsert\n    }\n\n    /* Handle when an output is cleared or removed */\n    events.on('clear_output.CodeCell', handleClearOutput);\n    events.on('delete.Cell', handleClearOutput);\n\n    /* Handle when a new output is added */\n    events.on('output_added.OutputArea', handleAddOutput);\n\n    /**\n     * Register the mime type and append_mime function with output_area\n     */\n    OutputArea.prototype.register_mime_type(EXEC_MIME_TYPE, append_mime, {\n      /* Is output safe? */\n      safe: true,\n      /* Index of renderer in `output_area.display_order` */\n      index: 0\n    });\n  }\n\n  // register the mime type if in Jupyter Notebook environment and previously unregistered\n  if (root.Jupyter !== undefined) {\n    const events = require('base/js/events');\n    const OutputArea = require('notebook/js/outputarea').OutputArea;\n\n    if (OutputArea.prototype.mime_types().indexOf(EXEC_MIME_TYPE) == -1) {\n      register_renderer(events, OutputArea);\n    }\n  }\n  if (typeof (root._bokeh_timeout) === \"undefined\" || force === true) {\n    root._bokeh_timeout = Date.now() + 5000;\n    root._bokeh_failed_load = false;\n  }\n\n  const NB_LOAD_WARNING = {'data': {'text/html':\n     \"<div style='background-color: #fdd'>\\n\"+\n     \"<p>\\n\"+\n     \"BokehJS does not appear to have successfully loaded. If loading BokehJS from CDN, this \\n\"+\n     \"may be due to a slow or bad network connection. Possible fixes:\\n\"+\n     \"</p>\\n\"+\n     \"<ul>\\n\"+\n     \"<li>re-rerun `output_notebook()` to attempt to load from CDN again, or</li>\\n\"+\n     \"<li>use INLINE resources instead, as so:</li>\\n\"+\n     \"</ul>\\n\"+\n     \"<code>\\n\"+\n     \"from bokeh.resources import INLINE\\n\"+\n     \"output_notebook(resources=INLINE)\\n\"+\n     \"</code>\\n\"+\n     \"</div>\"}};\n\n  function display_loaded(error = null) {\n    const el = document.getElementById(\"cb5cb428-a373-411a-b552-cb57bf71428f\");\n    if (el != null) {\n      const html = (() => {\n        if (typeof root.Bokeh === \"undefined\") {\n          if (error == null) {\n            return \"BokehJS is loading ...\";\n          } else {\n            return \"BokehJS failed to load.\";\n          }\n        } else {\n          const prefix = `BokehJS ${root.Bokeh.version}`;\n          if (error == null) {\n            return `${prefix} successfully loaded.`;\n          } else {\n            return `${prefix} <b>encountered errors</b> while loading and may not function as expected.`;\n          }\n        }\n      })();\n      el.innerHTML = html;\n\n      if (error != null) {\n        const wrapper = document.createElement(\"div\");\n        wrapper.style.overflow = \"auto\";\n        wrapper.style.height = \"5em\";\n        wrapper.style.resize = \"vertical\";\n        const content = document.createElement(\"div\");\n        content.style.fontFamily = \"monospace\";\n        content.style.whiteSpace = \"pre-wrap\";\n        content.style.backgroundColor = \"rgb(255, 221, 221)\";\n        content.textContent = error.stack ?? error.toString();\n        wrapper.append(content);\n        el.append(wrapper);\n      }\n    } else if (Date.now() < root._bokeh_timeout) {\n      setTimeout(() => display_loaded(error), 100);\n    }\n  }\n\n  function run_callbacks() {\n    try {\n      root._bokeh_onload_callbacks.forEach(function(callback) {\n        if (callback != null)\n          callback();\n      });\n    } finally {\n      delete root._bokeh_onload_callbacks\n    }\n    console.debug(\"Bokeh: all callbacks have finished\");\n  }\n\n  function load_libs(css_urls, js_urls, callback) {\n    if (css_urls == null) css_urls = [];\n    if (js_urls == null) js_urls = [];\n\n    root._bokeh_onload_callbacks.push(callback);\n    if (root._bokeh_is_loading > 0) {\n      console.debug(\"Bokeh: BokehJS is being loaded, scheduling callback at\", now());\n      return null;\n    }\n    if (js_urls == null || js_urls.length === 0) {\n      run_callbacks();\n      return null;\n    }\n    console.debug(\"Bokeh: BokehJS not loaded, scheduling load and callback at\", now());\n    root._bokeh_is_loading = css_urls.length + js_urls.length;\n\n    function on_load() {\n      root._bokeh_is_loading--;\n      if (root._bokeh_is_loading === 0) {\n        console.debug(\"Bokeh: all BokehJS libraries/stylesheets loaded\");\n        run_callbacks()\n      }\n    }\n\n    function on_error(url) {\n      console.error(\"failed to load \" + url);\n    }\n\n    for (let i = 0; i < css_urls.length; i++) {\n      const url = css_urls[i];\n      const element = document.createElement(\"link\");\n      element.onload = on_load;\n      element.onerror = on_error.bind(null, url);\n      element.rel = \"stylesheet\";\n      element.type = \"text/css\";\n      element.href = url;\n      console.debug(\"Bokeh: injecting link tag for BokehJS stylesheet: \", url);\n      document.body.appendChild(element);\n    }\n\n    for (let i = 0; i < js_urls.length; i++) {\n      const url = js_urls[i];\n      const element = document.createElement('script');\n      element.onload = on_load;\n      element.onerror = on_error.bind(null, url);\n      element.async = false;\n      element.src = url;\n      console.debug(\"Bokeh: injecting script tag for BokehJS library: \", url);\n      document.head.appendChild(element);\n    }\n  };\n\n  function inject_raw_css(css) {\n    const element = document.createElement(\"style\");\n    element.appendChild(document.createTextNode(css));\n    document.body.appendChild(element);\n  }\n\n  const js_urls = [\"https://cdn.bokeh.org/bokeh/release/bokeh-3.8.0.min.js\", \"https://cdn.bokeh.org/bokeh/release/bokeh-gl-3.8.0.min.js\", \"https://cdn.bokeh.org/bokeh/release/bokeh-widgets-3.8.0.min.js\", \"https://cdn.bokeh.org/bokeh/release/bokeh-tables-3.8.0.min.js\", \"https://cdn.bokeh.org/bokeh/release/bokeh-mathjax-3.8.0.min.js\"];\n  const css_urls = [];\n\n  const inline_js = [    function(Bokeh) {\n      Bokeh.set_log_level(\"info\");\n    },\nfunction(Bokeh) {\n    }\n  ];\n\n  function run_inline_js() {\n    if (root.Bokeh !== undefined || force === true) {\n      try {\n            for (let i = 0; i < inline_js.length; i++) {\n      inline_js[i].call(root, root.Bokeh);\n    }\n\n      } catch (error) {display_loaded(error);throw error;\n      }if (force === true) {\n        display_loaded();\n      }} else if (Date.now() < root._bokeh_timeout) {\n      setTimeout(run_inline_js, 100);\n    } else if (!root._bokeh_failed_load) {\n      console.log(\"Bokeh: BokehJS failed to load within specified timeout.\");\n      root._bokeh_failed_load = true;\n    } else if (force !== true) {\n      const cell = $(document.getElementById(\"cb5cb428-a373-411a-b552-cb57bf71428f\")).parents('.cell').data().cell;\n      cell.output_area.append_execute_result(NB_LOAD_WARNING)\n    }\n  }\n\n  if (root._bokeh_is_loading === 0) {\n    console.debug(\"Bokeh: BokehJS loaded, going straight to plotting\");\n    run_inline_js();\n  } else {\n    load_libs(css_urls, js_urls, function() {\n      console.debug(\"Bokeh: BokehJS plotting callback run at\", now());\n      run_inline_js();\n    });\n  }\n}(window));",
      "application/vnd.bokehjs_load.v0+json": ""
     },
     "metadata": {},
     "output_type": "display_data"
    }
   ],
   "source": [
    "# Data manipulation and analysis\n",
    "import pandas as pd\n",
    "import numpy as np\n",
    "\n",
    "# Bokeh visualization library\n",
    "from bokeh.io import output_notebook, show\n",
    "from bokeh.plotting import figure\n",
    "from bokeh.models import (ColumnDataSource, HoverTool, Select, CustomJS, \n",
    "                         LinearColorMapper, ColorBar)\n",
    "from bokeh.layouts import column, row\n",
    "from bokeh.transform import factor_cmap, transform\n",
    "from bokeh.palettes import Category10, Category20, Viridis256\n",
    "\n",
    "# Initialize Bokeh for Jupyter notebook\n",
    "output_notebook()"
   ]
  },
  {
   "cell_type": "markdown",
   "id": "0e415090",
   "metadata": {},
   "source": [
    "# Data Processing"
   ]
  },
  {
   "cell_type": "markdown",
   "id": "98a5004e",
   "metadata": {},
   "source": [
    "## Load and process"
   ]
  },
  {
   "cell_type": "code",
   "execution_count": 23,
   "id": "ca480f00",
   "metadata": {},
   "outputs": [],
   "source": [
    "# Load dataset\n",
    "df = pd.read_csv('Datos_de_las_Visitas_a_los_Puntos_de_Información_Turística_(PITS)_en_Boyacá_20250919.csv')\n",
    "\n",
    "# Apply normalization to city columns\n",
    "city_columns = ['CIUDAD DE PROCEDENCIA', 'CIUDAD DE DESTINO 1', 'CIUDAD DE DESTINO 2', \n",
    "                'CIUDAD DE DESTINO 3', 'CIUDAD DE DESTINO 4', 'CIUDAD DE DESTINO 5']\n",
    "\n",
    "# Create normalized versions of city columns\n",
    "for col in city_columns:\n",
    "    df[f'{col}_NORMALIZED'] = df[col].apply(normalize_text)\n",
    "\n",
    "# Apply manual mappings to normalized city columns\n",
    "for col in city_columns:\n",
    "    normalized_col = f'{col}_NORMALIZED'\n",
    "    df[f'{col}_CLEAN'] = df[normalized_col].apply(apply_city_mapping)\n",
    "\n",
    "# Apply normalization and mapping to travel motivation\n",
    "df['MOTIVO_NORMALIZED'] = df['MOTIVO DEL VIAJE'].apply(normalize_text)\n",
    "df['MOTIVO_CLEAN'] = df['MOTIVO_NORMALIZED'].apply(apply_travel_motivation_mapping)\n",
    "\n",
    "# Apply normalization and mapping to transportation mode\n",
    "df['TRANSPORTE_NORMALIZED'] = df['TIPO TRANSPORTE'].apply(normalize_text)\n",
    "df['TRANSPORTE_CLEAN'] = df['TRANSPORTE_NORMALIZED'].apply(apply_transportation_mapping)\n",
    "\n",
    "# Update working columns to use cleaned versions\n",
    "df['CIUDAD_ORIGEN_CLEAN'] = df['CIUDAD DE PROCEDENCIA_CLEAN']\n"
   ]
  },
  {
   "cell_type": "markdown",
   "id": "5f273dba",
   "metadata": {},
   "source": [
    "# Analize"
   ]
  },
  {
   "cell_type": "code",
   "execution_count": null,
   "id": "f83b2ddb",
   "metadata": {},
   "outputs": [
    {
     "data": {
      "text/html": [
       "\n",
       "  <div id=\"ef413649-1589-4fdf-9e9e-a7a114074809\" data-root-id=\"p4799\" style=\"display: contents;\"></div>\n"
      ]
     },
     "metadata": {},
     "output_type": "display_data"
    },
    {
     "data": {
      "application/javascript": "(function(root) {\n  function embed_document(root) {\n  const docs_json = {\"040f21fd-0418-4c36-a995-0300ee726fb3\":{\"version\":\"3.8.0\",\"title\":\"Bokeh Application\",\"config\":{\"type\":\"object\",\"name\":\"DocumentConfig\",\"id\":\"p4844\",\"attributes\":{\"notifications\":{\"type\":\"object\",\"name\":\"Notifications\",\"id\":\"p4845\"}}},\"roots\":[{\"type\":\"object\",\"name\":\"Figure\",\"id\":\"p4799\",\"attributes\":{\"height\":350,\"x_range\":{\"type\":\"object\",\"name\":\"FactorRange\",\"id\":\"p4809\",\"attributes\":{\"factors\":[\"3\",\"4\",\"5\",\"6\",\"7\",\"8\",\"9\",\"10\",\"11\",\"12\"]}},\"y_range\":{\"type\":\"object\",\"name\":\"DataRange1d\",\"id\":\"p4801\"},\"x_scale\":{\"type\":\"object\",\"name\":\"CategoricalScale\",\"id\":\"p4810\"},\"y_scale\":{\"type\":\"object\",\"name\":\"LinearScale\",\"id\":\"p4811\"},\"title\":{\"type\":\"object\",\"name\":\"Title\",\"id\":\"p4802\",\"attributes\":{\"text\":\"Distribuci\\u00f3n Mensual de Visitas\",\"text_font_size\":\"14pt\"}},\"renderers\":[{\"type\":\"object\",\"name\":\"GlyphRenderer\",\"id\":\"p4840\",\"attributes\":{\"data_source\":{\"type\":\"object\",\"name\":\"ColumnDataSource\",\"id\":\"p4796\",\"attributes\":{\"selected\":{\"type\":\"object\",\"name\":\"Selection\",\"id\":\"p4797\",\"attributes\":{\"indices\":[],\"line_indices\":[]}},\"selection_policy\":{\"type\":\"object\",\"name\":\"UnionRenderers\",\"id\":\"p4798\"},\"data\":{\"type\":\"map\",\"entries\":[[\"index\",{\"type\":\"ndarray\",\"array\":{\"type\":\"bytes\",\"data\":\"H4sIAAEAAAAC/w3DiQ0AIAwEoNP6df+FhYQkGU7L5fZ4fbYfAnnvjSgAAAA=\"},\"shape\":[10],\"dtype\":\"int32\",\"order\":\"little\"}],[\"Mes\",{\"type\":\"ndarray\",\"array\":{\"type\":\"bytes\",\"data\":\"H4sIAAEAAAAC/w3DiQkAIAwEsAPfqvvPawJpSbrD6XJbHq/PD/Rg3/IoAAAA\"},\"shape\":[10],\"dtype\":\"int32\",\"order\":\"little\"}],[\"Cantidad\",{\"type\":\"ndarray\",\"array\":{\"type\":\"bytes\",\"data\":\"H4sIAAEAAAAC//NkYGBoZmJgSADidUAsAsSVQGwIxNMZGRiEgfgKUA0A3H7uHigAAAA=\"},\"shape\":[10],\"dtype\":\"int32\",\"order\":\"little\"}]]}}},\"view\":{\"type\":\"object\",\"name\":\"CDSView\",\"id\":\"p4841\",\"attributes\":{\"filter\":{\"type\":\"object\",\"name\":\"AllIndices\",\"id\":\"p4842\"}}},\"glyph\":{\"type\":\"object\",\"name\":\"VBar\",\"id\":\"p4837\",\"attributes\":{\"x\":{\"type\":\"field\",\"field\":\"Mes\"},\"width\":{\"type\":\"value\",\"value\":0.8},\"top\":{\"type\":\"field\",\"field\":\"Cantidad\"},\"line_color\":{\"type\":\"value\",\"value\":\"navy\"},\"line_alpha\":{\"type\":\"value\",\"value\":0.7},\"fill_color\":{\"type\":\"value\",\"value\":\"navy\"},\"fill_alpha\":{\"type\":\"value\",\"value\":0.7},\"hatch_color\":{\"type\":\"value\",\"value\":\"navy\"},\"hatch_alpha\":{\"type\":\"value\",\"value\":0.7}}},\"nonselection_glyph\":{\"type\":\"object\",\"name\":\"VBar\",\"id\":\"p4838\",\"attributes\":{\"x\":{\"type\":\"field\",\"field\":\"Mes\"},\"width\":{\"type\":\"value\",\"value\":0.8},\"top\":{\"type\":\"field\",\"field\":\"Cantidad\"},\"line_color\":{\"type\":\"value\",\"value\":\"navy\"},\"line_alpha\":{\"type\":\"value\",\"value\":0.1},\"fill_color\":{\"type\":\"value\",\"value\":\"navy\"},\"fill_alpha\":{\"type\":\"value\",\"value\":0.1},\"hatch_color\":{\"type\":\"value\",\"value\":\"navy\"},\"hatch_alpha\":{\"type\":\"value\",\"value\":0.1}}},\"muted_glyph\":{\"type\":\"object\",\"name\":\"VBar\",\"id\":\"p4839\",\"attributes\":{\"x\":{\"type\":\"field\",\"field\":\"Mes\"},\"width\":{\"type\":\"value\",\"value\":0.8},\"top\":{\"type\":\"field\",\"field\":\"Cantidad\"},\"line_color\":{\"type\":\"value\",\"value\":\"navy\"},\"line_alpha\":{\"type\":\"value\",\"value\":0.2},\"fill_color\":{\"type\":\"value\",\"value\":\"navy\"},\"fill_alpha\":{\"type\":\"value\",\"value\":0.2},\"hatch_color\":{\"type\":\"value\",\"value\":\"navy\"},\"hatch_alpha\":{\"type\":\"value\",\"value\":0.2}}}}}],\"toolbar\":{\"type\":\"object\",\"name\":\"Toolbar\",\"id\":\"p4808\",\"attributes\":{\"tools\":[{\"type\":\"object\",\"name\":\"PanTool\",\"id\":\"p4822\"},{\"type\":\"object\",\"name\":\"WheelZoomTool\",\"id\":\"p4823\",\"attributes\":{\"renderers\":\"auto\"}},{\"type\":\"object\",\"name\":\"BoxZoomTool\",\"id\":\"p4824\",\"attributes\":{\"dimensions\":\"both\",\"overlay\":{\"type\":\"object\",\"name\":\"BoxAnnotation\",\"id\":\"p4825\",\"attributes\":{\"syncable\":false,\"line_color\":\"black\",\"line_alpha\":1.0,\"line_width\":2,\"line_dash\":[4,4],\"fill_color\":\"lightgrey\",\"fill_alpha\":0.5,\"level\":\"overlay\",\"visible\":false,\"left\":{\"type\":\"number\",\"value\":\"nan\"},\"right\":{\"type\":\"number\",\"value\":\"nan\"},\"top\":{\"type\":\"number\",\"value\":\"nan\"},\"bottom\":{\"type\":\"number\",\"value\":\"nan\"},\"left_units\":\"canvas\",\"right_units\":\"canvas\",\"top_units\":\"canvas\",\"bottom_units\":\"canvas\",\"handles\":{\"type\":\"object\",\"name\":\"BoxInteractionHandles\",\"id\":\"p4831\",\"attributes\":{\"all\":{\"type\":\"object\",\"name\":\"AreaVisuals\",\"id\":\"p4830\",\"attributes\":{\"fill_color\":\"white\",\"hover_fill_color\":\"lightgray\"}}}}}}}},{\"type\":\"object\",\"name\":\"ResetTool\",\"id\":\"p4832\"},{\"type\":\"object\",\"name\":\"SaveTool\",\"id\":\"p4833\"},{\"type\":\"object\",\"name\":\"HoverTool\",\"id\":\"p4843\",\"attributes\":{\"renderers\":\"auto\",\"tooltips\":[[\"Mes\",\"@Mes\"],[\"Visitas\",\"@Cantidad\"]],\"sort_by\":null}}]}},\"left\":[{\"type\":\"object\",\"name\":\"LinearAxis\",\"id\":\"p4817\",\"attributes\":{\"ticker\":{\"type\":\"object\",\"name\":\"BasicTicker\",\"id\":\"p4818\",\"attributes\":{\"mantissas\":[1,2,5]}},\"formatter\":{\"type\":\"object\",\"name\":\"BasicTickFormatter\",\"id\":\"p4819\"},\"major_label_policy\":{\"type\":\"object\",\"name\":\"AllLabels\",\"id\":\"p4820\"}}}],\"below\":[{\"type\":\"object\",\"name\":\"CategoricalAxis\",\"id\":\"p4812\",\"attributes\":{\"ticker\":{\"type\":\"object\",\"name\":\"CategoricalTicker\",\"id\":\"p4813\"},\"formatter\":{\"type\":\"object\",\"name\":\"CategoricalTickFormatter\",\"id\":\"p4814\"},\"major_label_policy\":{\"type\":\"object\",\"name\":\"AllLabels\",\"id\":\"p4815\"}}}],\"center\":[{\"type\":\"object\",\"name\":\"Grid\",\"id\":\"p4816\",\"attributes\":{\"axis\":{\"id\":\"p4812\"}}},{\"type\":\"object\",\"name\":\"Grid\",\"id\":\"p4821\",\"attributes\":{\"dimension\":1,\"axis\":{\"id\":\"p4817\"}}}]}}]}};\n  const render_items = [{\"docid\":\"040f21fd-0418-4c36-a995-0300ee726fb3\",\"roots\":{\"p4799\":\"ef413649-1589-4fdf-9e9e-a7a114074809\"},\"root_ids\":[\"p4799\"]}];\n  void root.Bokeh.embed.embed_items_notebook(docs_json, render_items);\n  }\n  if (root.Bokeh !== undefined) {\n    embed_document(root);\n  } else {\n    let attempts = 0;\n    const timer = setInterval(function(root) {\n      if (root.Bokeh !== undefined) {\n        clearInterval(timer);\n        embed_document(root);\n      } else {\n        attempts++;\n        if (attempts > 100) {\n          clearInterval(timer);\n          console.log(\"Bokeh: ERROR: Unable to run BokehJS code because BokehJS library is missing\");\n        }\n      }\n    }, 10, root)\n  }\n})(window);",
      "application/vnd.bokehjs_exec.v0+json": ""
     },
     "metadata": {
      "application/vnd.bokehjs_exec.v0+json": {
       "id": "p4799"
      }
     },
     "output_type": "display_data"
    },
    {
     "data": {
      "text/html": [
       "\n",
       "  <div id=\"a9100f9b-4148-41e0-8dbb-3a1407227f13\" data-root-id=\"p4852\" style=\"display: contents;\"></div>\n"
      ]
     },
     "metadata": {},
     "output_type": "display_data"
    },
    {
     "data": {
      "application/javascript": "(function(root) {\n  function embed_document(root) {\n  const docs_json = {\"623aa63f-e9e4-401f-89f4-1479ddbc0212\":{\"version\":\"3.8.0\",\"title\":\"Bokeh Application\",\"config\":{\"type\":\"object\",\"name\":\"DocumentConfig\",\"id\":\"p4897\",\"attributes\":{\"notifications\":{\"type\":\"object\",\"name\":\"Notifications\",\"id\":\"p4898\"}}},\"roots\":[{\"type\":\"object\",\"name\":\"Figure\",\"id\":\"p4852\",\"attributes\":{\"height\":350,\"x_range\":{\"type\":\"object\",\"name\":\"FactorRange\",\"id\":\"p4862\",\"attributes\":{\"factors\":[\"2,023\",\"2,024\"]}},\"y_range\":{\"type\":\"object\",\"name\":\"DataRange1d\",\"id\":\"p4854\"},\"x_scale\":{\"type\":\"object\",\"name\":\"CategoricalScale\",\"id\":\"p4863\"},\"y_scale\":{\"type\":\"object\",\"name\":\"LinearScale\",\"id\":\"p4864\"},\"title\":{\"type\":\"object\",\"name\":\"Title\",\"id\":\"p4855\",\"attributes\":{\"text\":\"Distribuci\\u00f3n Anual de Visitas\",\"text_font_size\":\"14pt\"}},\"renderers\":[{\"type\":\"object\",\"name\":\"GlyphRenderer\",\"id\":\"p4893\",\"attributes\":{\"data_source\":{\"type\":\"object\",\"name\":\"ColumnDataSource\",\"id\":\"p4849\",\"attributes\":{\"selected\":{\"type\":\"object\",\"name\":\"Selection\",\"id\":\"p4850\",\"attributes\":{\"indices\":[],\"line_indices\":[]}},\"selection_policy\":{\"type\":\"object\",\"name\":\"UnionRenderers\",\"id\":\"p4851\"},\"data\":{\"type\":\"map\",\"entries\":[[\"index\",{\"type\":\"ndarray\",\"array\":{\"type\":\"bytes\",\"data\":\"H4sIAAEAAAAC/2NgYGBgBGIADLie3QgAAAA=\"},\"shape\":[2],\"dtype\":\"int32\",\"order\":\"little\"}],[\"A\\u00f1o\",{\"type\":\"ndarray\",\"array\":[\"2,023\",\"2,024\"],\"shape\":[2],\"dtype\":\"object\",\"order\":\"little\"}],[\"Cantidad\",{\"type\":\"ndarray\",\"array\":{\"type\":\"bytes\",\"data\":\"H4sIAAEAAAAC/9PhZmB4xcbAAABkIbN0CAAAAA==\"},\"shape\":[2],\"dtype\":\"int32\",\"order\":\"little\"}]]}}},\"view\":{\"type\":\"object\",\"name\":\"CDSView\",\"id\":\"p4894\",\"attributes\":{\"filter\":{\"type\":\"object\",\"name\":\"AllIndices\",\"id\":\"p4895\"}}},\"glyph\":{\"type\":\"object\",\"name\":\"VBar\",\"id\":\"p4890\",\"attributes\":{\"x\":{\"type\":\"field\",\"field\":\"A\\u00f1o\"},\"width\":{\"type\":\"value\",\"value\":0.8},\"top\":{\"type\":\"field\",\"field\":\"Cantidad\"},\"line_color\":{\"type\":\"value\",\"value\":\"darkgreen\"},\"line_alpha\":{\"type\":\"value\",\"value\":0.7},\"fill_color\":{\"type\":\"value\",\"value\":\"darkgreen\"},\"fill_alpha\":{\"type\":\"value\",\"value\":0.7},\"hatch_color\":{\"type\":\"value\",\"value\":\"darkgreen\"},\"hatch_alpha\":{\"type\":\"value\",\"value\":0.7}}},\"nonselection_glyph\":{\"type\":\"object\",\"name\":\"VBar\",\"id\":\"p4891\",\"attributes\":{\"x\":{\"type\":\"field\",\"field\":\"A\\u00f1o\"},\"width\":{\"type\":\"value\",\"value\":0.8},\"top\":{\"type\":\"field\",\"field\":\"Cantidad\"},\"line_color\":{\"type\":\"value\",\"value\":\"darkgreen\"},\"line_alpha\":{\"type\":\"value\",\"value\":0.1},\"fill_color\":{\"type\":\"value\",\"value\":\"darkgreen\"},\"fill_alpha\":{\"type\":\"value\",\"value\":0.1},\"hatch_color\":{\"type\":\"value\",\"value\":\"darkgreen\"},\"hatch_alpha\":{\"type\":\"value\",\"value\":0.1}}},\"muted_glyph\":{\"type\":\"object\",\"name\":\"VBar\",\"id\":\"p4892\",\"attributes\":{\"x\":{\"type\":\"field\",\"field\":\"A\\u00f1o\"},\"width\":{\"type\":\"value\",\"value\":0.8},\"top\":{\"type\":\"field\",\"field\":\"Cantidad\"},\"line_color\":{\"type\":\"value\",\"value\":\"darkgreen\"},\"line_alpha\":{\"type\":\"value\",\"value\":0.2},\"fill_color\":{\"type\":\"value\",\"value\":\"darkgreen\"},\"fill_alpha\":{\"type\":\"value\",\"value\":0.2},\"hatch_color\":{\"type\":\"value\",\"value\":\"darkgreen\"},\"hatch_alpha\":{\"type\":\"value\",\"value\":0.2}}}}}],\"toolbar\":{\"type\":\"object\",\"name\":\"Toolbar\",\"id\":\"p4861\",\"attributes\":{\"tools\":[{\"type\":\"object\",\"name\":\"PanTool\",\"id\":\"p4875\"},{\"type\":\"object\",\"name\":\"WheelZoomTool\",\"id\":\"p4876\",\"attributes\":{\"renderers\":\"auto\"}},{\"type\":\"object\",\"name\":\"BoxZoomTool\",\"id\":\"p4877\",\"attributes\":{\"dimensions\":\"both\",\"overlay\":{\"type\":\"object\",\"name\":\"BoxAnnotation\",\"id\":\"p4878\",\"attributes\":{\"syncable\":false,\"line_color\":\"black\",\"line_alpha\":1.0,\"line_width\":2,\"line_dash\":[4,4],\"fill_color\":\"lightgrey\",\"fill_alpha\":0.5,\"level\":\"overlay\",\"visible\":false,\"left\":{\"type\":\"number\",\"value\":\"nan\"},\"right\":{\"type\":\"number\",\"value\":\"nan\"},\"top\":{\"type\":\"number\",\"value\":\"nan\"},\"bottom\":{\"type\":\"number\",\"value\":\"nan\"},\"left_units\":\"canvas\",\"right_units\":\"canvas\",\"top_units\":\"canvas\",\"bottom_units\":\"canvas\",\"handles\":{\"type\":\"object\",\"name\":\"BoxInteractionHandles\",\"id\":\"p4884\",\"attributes\":{\"all\":{\"type\":\"object\",\"name\":\"AreaVisuals\",\"id\":\"p4883\",\"attributes\":{\"fill_color\":\"white\",\"hover_fill_color\":\"lightgray\"}}}}}}}},{\"type\":\"object\",\"name\":\"ResetTool\",\"id\":\"p4885\"},{\"type\":\"object\",\"name\":\"SaveTool\",\"id\":\"p4886\"},{\"type\":\"object\",\"name\":\"HoverTool\",\"id\":\"p4896\",\"attributes\":{\"renderers\":\"auto\",\"tooltips\":[[\"A\\u00f1o\",\"@A\\u00f1o\"],[\"Visitas\",\"@Cantidad\"]],\"sort_by\":null}}]}},\"left\":[{\"type\":\"object\",\"name\":\"LinearAxis\",\"id\":\"p4870\",\"attributes\":{\"ticker\":{\"type\":\"object\",\"name\":\"BasicTicker\",\"id\":\"p4871\",\"attributes\":{\"mantissas\":[1,2,5]}},\"formatter\":{\"type\":\"object\",\"name\":\"BasicTickFormatter\",\"id\":\"p4872\"},\"major_label_policy\":{\"type\":\"object\",\"name\":\"AllLabels\",\"id\":\"p4873\"}}}],\"below\":[{\"type\":\"object\",\"name\":\"CategoricalAxis\",\"id\":\"p4865\",\"attributes\":{\"ticker\":{\"type\":\"object\",\"name\":\"CategoricalTicker\",\"id\":\"p4866\"},\"formatter\":{\"type\":\"object\",\"name\":\"CategoricalTickFormatter\",\"id\":\"p4867\"},\"major_label_policy\":{\"type\":\"object\",\"name\":\"AllLabels\",\"id\":\"p4868\"}}}],\"center\":[{\"type\":\"object\",\"name\":\"Grid\",\"id\":\"p4869\",\"attributes\":{\"axis\":{\"id\":\"p4865\"}}},{\"type\":\"object\",\"name\":\"Grid\",\"id\":\"p4874\",\"attributes\":{\"dimension\":1,\"axis\":{\"id\":\"p4870\"}}}]}}]}};\n  const render_items = [{\"docid\":\"623aa63f-e9e4-401f-89f4-1479ddbc0212\",\"roots\":{\"p4852\":\"a9100f9b-4148-41e0-8dbb-3a1407227f13\"},\"root_ids\":[\"p4852\"]}];\n  void root.Bokeh.embed.embed_items_notebook(docs_json, render_items);\n  }\n  if (root.Bokeh !== undefined) {\n    embed_document(root);\n  } else {\n    let attempts = 0;\n    const timer = setInterval(function(root) {\n      if (root.Bokeh !== undefined) {\n        clearInterval(timer);\n        embed_document(root);\n      } else {\n        attempts++;\n        if (attempts > 100) {\n          clearInterval(timer);\n          console.log(\"Bokeh: ERROR: Unable to run BokehJS code because BokehJS library is missing\");\n        }\n      }\n    }, 10, root)\n  }\n})(window);",
      "application/vnd.bokehjs_exec.v0+json": ""
     },
     "metadata": {
      "application/vnd.bokehjs_exec.v0+json": {
       "id": "p4852"
      }
     },
     "output_type": "display_data"
    },
    {
     "data": {
      "text/html": [
       "\n",
       "  <div id=\"d61ff275-92d8-4079-a721-4eed1d6c15dd\" data-root-id=\"p4904\" style=\"display: contents;\"></div>\n"
      ]
     },
     "metadata": {},
     "output_type": "display_data"
    },
    {
     "data": {
      "application/javascript": "(function(root) {\n  function embed_document(root) {\n  const docs_json = {\"cc45227a-1b50-4def-a8f5-fb5c83e3ab14\":{\"version\":\"3.8.0\",\"title\":\"Bokeh Application\",\"config\":{\"type\":\"object\",\"name\":\"DocumentConfig\",\"id\":\"p4949\",\"attributes\":{\"notifications\":{\"type\":\"object\",\"name\":\"Notifications\",\"id\":\"p4950\"}}},\"roots\":[{\"type\":\"object\",\"name\":\"Figure\",\"id\":\"p4904\",\"attributes\":{\"height\":400,\"x_range\":{\"type\":\"object\",\"name\":\"DataRange1d\",\"id\":\"p4906\"},\"y_range\":{\"type\":\"object\",\"name\":\"FactorRange\",\"id\":\"p4914\",\"attributes\":{\"factors\":[\"BOGOTA\",\"MEDELLIN\",\"BUCARAMANGA\",\"DUITAMA\",\"TUNJA\",\"VILLAVICENCIO\",\"CALI\",\"SOGAMOSO\",\"YOPAL\",\"IBAGUE\"]}},\"x_scale\":{\"type\":\"object\",\"name\":\"LinearScale\",\"id\":\"p4915\"},\"y_scale\":{\"type\":\"object\",\"name\":\"CategoricalScale\",\"id\":\"p4916\"},\"title\":{\"type\":\"object\",\"name\":\"Title\",\"id\":\"p4907\",\"attributes\":{\"text\":\"Top 10 Ciudades de Origen (Datos Limpios)\",\"text_font_size\":\"14pt\"}},\"renderers\":[{\"type\":\"object\",\"name\":\"GlyphRenderer\",\"id\":\"p4945\",\"attributes\":{\"data_source\":{\"type\":\"object\",\"name\":\"ColumnDataSource\",\"id\":\"p4901\",\"attributes\":{\"selected\":{\"type\":\"object\",\"name\":\"Selection\",\"id\":\"p4902\",\"attributes\":{\"indices\":[],\"line_indices\":[]}},\"selection_policy\":{\"type\":\"object\",\"name\":\"UnionRenderers\",\"id\":\"p4903\"},\"data\":{\"type\":\"map\",\"entries\":[[\"index\",{\"type\":\"ndarray\",\"array\":{\"type\":\"bytes\",\"data\":\"H4sIAAEAAAAC/w3DiQ0AIAwEoNP6df+FhYQkGU7L5fZ4fbYfAnnvjSgAAAA=\"},\"shape\":[10],\"dtype\":\"int32\",\"order\":\"little\"}],[\"Ciudad\",{\"type\":\"ndarray\",\"array\":[\"BOGOTA\",\"MEDELLIN\",\"BUCARAMANGA\",\"DUITAMA\",\"TUNJA\",\"VILLAVICENCIO\",\"CALI\",\"SOGAMOSO\",\"YOPAL\",\"IBAGUE\"],\"shape\":[10],\"dtype\":\"object\",\"order\":\"little\"}],[\"Cantidad\",{\"type\":\"ndarray\",\"array\":{\"type\":\"bytes\",\"data\":\"H4sIAAEAAAAC/2tmY2DwY2Rg2MrAwDAdiCuAOAmIE4A4BoijgdgFiAFPbIY0KAAAAA==\"},\"shape\":[10],\"dtype\":\"int32\",\"order\":\"little\"}]]}}},\"view\":{\"type\":\"object\",\"name\":\"CDSView\",\"id\":\"p4946\",\"attributes\":{\"filter\":{\"type\":\"object\",\"name\":\"AllIndices\",\"id\":\"p4947\"}}},\"glyph\":{\"type\":\"object\",\"name\":\"HBar\",\"id\":\"p4942\",\"attributes\":{\"y\":{\"type\":\"field\",\"field\":\"Ciudad\"},\"height\":{\"type\":\"value\",\"value\":0.8},\"right\":{\"type\":\"field\",\"field\":\"Cantidad\"},\"line_color\":{\"type\":\"value\",\"value\":\"green\"},\"line_alpha\":{\"type\":\"value\",\"value\":0.7},\"fill_color\":{\"type\":\"value\",\"value\":\"green\"},\"fill_alpha\":{\"type\":\"value\",\"value\":0.7},\"hatch_color\":{\"type\":\"value\",\"value\":\"green\"},\"hatch_alpha\":{\"type\":\"value\",\"value\":0.7}}},\"nonselection_glyph\":{\"type\":\"object\",\"name\":\"HBar\",\"id\":\"p4943\",\"attributes\":{\"y\":{\"type\":\"field\",\"field\":\"Ciudad\"},\"height\":{\"type\":\"value\",\"value\":0.8},\"right\":{\"type\":\"field\",\"field\":\"Cantidad\"},\"line_color\":{\"type\":\"value\",\"value\":\"green\"},\"line_alpha\":{\"type\":\"value\",\"value\":0.1},\"fill_color\":{\"type\":\"value\",\"value\":\"green\"},\"fill_alpha\":{\"type\":\"value\",\"value\":0.1},\"hatch_color\":{\"type\":\"value\",\"value\":\"green\"},\"hatch_alpha\":{\"type\":\"value\",\"value\":0.1}}},\"muted_glyph\":{\"type\":\"object\",\"name\":\"HBar\",\"id\":\"p4944\",\"attributes\":{\"y\":{\"type\":\"field\",\"field\":\"Ciudad\"},\"height\":{\"type\":\"value\",\"value\":0.8},\"right\":{\"type\":\"field\",\"field\":\"Cantidad\"},\"line_color\":{\"type\":\"value\",\"value\":\"green\"},\"line_alpha\":{\"type\":\"value\",\"value\":0.2},\"fill_color\":{\"type\":\"value\",\"value\":\"green\"},\"fill_alpha\":{\"type\":\"value\",\"value\":0.2},\"hatch_color\":{\"type\":\"value\",\"value\":\"green\"},\"hatch_alpha\":{\"type\":\"value\",\"value\":0.2}}}}}],\"toolbar\":{\"type\":\"object\",\"name\":\"Toolbar\",\"id\":\"p4913\",\"attributes\":{\"tools\":[{\"type\":\"object\",\"name\":\"PanTool\",\"id\":\"p4927\"},{\"type\":\"object\",\"name\":\"WheelZoomTool\",\"id\":\"p4928\",\"attributes\":{\"renderers\":\"auto\"}},{\"type\":\"object\",\"name\":\"BoxZoomTool\",\"id\":\"p4929\",\"attributes\":{\"dimensions\":\"both\",\"overlay\":{\"type\":\"object\",\"name\":\"BoxAnnotation\",\"id\":\"p4930\",\"attributes\":{\"syncable\":false,\"line_color\":\"black\",\"line_alpha\":1.0,\"line_width\":2,\"line_dash\":[4,4],\"fill_color\":\"lightgrey\",\"fill_alpha\":0.5,\"level\":\"overlay\",\"visible\":false,\"left\":{\"type\":\"number\",\"value\":\"nan\"},\"right\":{\"type\":\"number\",\"value\":\"nan\"},\"top\":{\"type\":\"number\",\"value\":\"nan\"},\"bottom\":{\"type\":\"number\",\"value\":\"nan\"},\"left_units\":\"canvas\",\"right_units\":\"canvas\",\"top_units\":\"canvas\",\"bottom_units\":\"canvas\",\"handles\":{\"type\":\"object\",\"name\":\"BoxInteractionHandles\",\"id\":\"p4936\",\"attributes\":{\"all\":{\"type\":\"object\",\"name\":\"AreaVisuals\",\"id\":\"p4935\",\"attributes\":{\"fill_color\":\"white\",\"hover_fill_color\":\"lightgray\"}}}}}}}},{\"type\":\"object\",\"name\":\"ResetTool\",\"id\":\"p4937\"},{\"type\":\"object\",\"name\":\"SaveTool\",\"id\":\"p4938\"},{\"type\":\"object\",\"name\":\"HoverTool\",\"id\":\"p4948\",\"attributes\":{\"renderers\":\"auto\",\"tooltips\":[[\"Ciudad\",\"@Ciudad\"],[\"Visitantes\",\"@Cantidad\"]],\"sort_by\":null}}]}},\"left\":[{\"type\":\"object\",\"name\":\"CategoricalAxis\",\"id\":\"p4922\",\"attributes\":{\"ticker\":{\"type\":\"object\",\"name\":\"CategoricalTicker\",\"id\":\"p4923\"},\"formatter\":{\"type\":\"object\",\"name\":\"CategoricalTickFormatter\",\"id\":\"p4924\"},\"major_label_policy\":{\"type\":\"object\",\"name\":\"AllLabels\",\"id\":\"p4925\"}}}],\"below\":[{\"type\":\"object\",\"name\":\"LinearAxis\",\"id\":\"p4917\",\"attributes\":{\"ticker\":{\"type\":\"object\",\"name\":\"BasicTicker\",\"id\":\"p4918\",\"attributes\":{\"mantissas\":[1,2,5]}},\"formatter\":{\"type\":\"object\",\"name\":\"BasicTickFormatter\",\"id\":\"p4919\"},\"major_label_policy\":{\"type\":\"object\",\"name\":\"AllLabels\",\"id\":\"p4920\"}}}],\"center\":[{\"type\":\"object\",\"name\":\"Grid\",\"id\":\"p4921\",\"attributes\":{\"axis\":{\"id\":\"p4917\"}}},{\"type\":\"object\",\"name\":\"Grid\",\"id\":\"p4926\",\"attributes\":{\"dimension\":1,\"axis\":{\"id\":\"p4922\"}}}]}}]}};\n  const render_items = [{\"docid\":\"cc45227a-1b50-4def-a8f5-fb5c83e3ab14\",\"roots\":{\"p4904\":\"d61ff275-92d8-4079-a721-4eed1d6c15dd\"},\"root_ids\":[\"p4904\"]}];\n  void root.Bokeh.embed.embed_items_notebook(docs_json, render_items);\n  }\n  if (root.Bokeh !== undefined) {\n    embed_document(root);\n  } else {\n    let attempts = 0;\n    const timer = setInterval(function(root) {\n      if (root.Bokeh !== undefined) {\n        clearInterval(timer);\n        embed_document(root);\n      } else {\n        attempts++;\n        if (attempts > 100) {\n          clearInterval(timer);\n          console.log(\"Bokeh: ERROR: Unable to run BokehJS code because BokehJS library is missing\");\n        }\n      }\n    }, 10, root)\n  }\n})(window);",
      "application/vnd.bokehjs_exec.v0+json": ""
     },
     "metadata": {
      "application/vnd.bokehjs_exec.v0+json": {
       "id": "p4904"
      }
     },
     "output_type": "display_data"
    },
    {
     "data": {
      "text/html": [
       "\n",
       "  <div id=\"d82c89fd-6558-4a7f-911b-a3b4fd9bdbf1\" data-root-id=\"p4956\" style=\"display: contents;\"></div>\n"
      ]
     },
     "metadata": {},
     "output_type": "display_data"
    },
    {
     "data": {
      "application/javascript": "(function(root) {\n  function embed_document(root) {\n  const docs_json = {\"5b1f3136-254d-4325-b761-bce4bcc5fa78\":{\"version\":\"3.8.0\",\"title\":\"Bokeh Application\",\"config\":{\"type\":\"object\",\"name\":\"DocumentConfig\",\"id\":\"p5001\",\"attributes\":{\"notifications\":{\"type\":\"object\",\"name\":\"Notifications\",\"id\":\"p5002\"}}},\"roots\":[{\"type\":\"object\",\"name\":\"Figure\",\"id\":\"p4956\",\"attributes\":{\"height\":400,\"x_range\":{\"type\":\"object\",\"name\":\"DataRange1d\",\"id\":\"p4958\"},\"y_range\":{\"type\":\"object\",\"name\":\"FactorRange\",\"id\":\"p4966\",\"attributes\":{\"factors\":[\"PAIPA\",\"AQUITANIA\",\"VILLA DE LEYVA\",\"DUITAMA\",\"TUNJA\",\"IZA\",\"MONGUI\",\"TOTA\",\"NOBSA\",\"SOGAMOSO\"]}},\"x_scale\":{\"type\":\"object\",\"name\":\"LinearScale\",\"id\":\"p4967\"},\"y_scale\":{\"type\":\"object\",\"name\":\"CategoricalScale\",\"id\":\"p4968\"},\"title\":{\"type\":\"object\",\"name\":\"Title\",\"id\":\"p4959\",\"attributes\":{\"text\":\"Top 10 Ciudades de Destino (Datos Limpios)\",\"text_font_size\":\"14pt\"}},\"renderers\":[{\"type\":\"object\",\"name\":\"GlyphRenderer\",\"id\":\"p4997\",\"attributes\":{\"data_source\":{\"type\":\"object\",\"name\":\"ColumnDataSource\",\"id\":\"p4953\",\"attributes\":{\"selected\":{\"type\":\"object\",\"name\":\"Selection\",\"id\":\"p4954\",\"attributes\":{\"indices\":[],\"line_indices\":[]}},\"selection_policy\":{\"type\":\"object\",\"name\":\"UnionRenderers\",\"id\":\"p4955\"},\"data\":{\"type\":\"map\",\"entries\":[[\"index\",{\"type\":\"ndarray\",\"array\":{\"type\":\"bytes\",\"data\":\"H4sIAAEAAAAC/w3DiQ0AIAwEoNP6df+FhYQkGU7L5fZ4fbYfAnnvjSgAAAA=\"},\"shape\":[10],\"dtype\":\"int32\",\"order\":\"little\"}],[\"Ciudad\",{\"type\":\"ndarray\",\"array\":[\"PAIPA\",\"AQUITANIA\",\"VILLA DE LEYVA\",\"DUITAMA\",\"TUNJA\",\"IZA\",\"MONGUI\",\"TOTA\",\"NOBSA\",\"SOGAMOSO\"],\"shape\":[10],\"dtype\":\"object\",\"order\":\"little\"}],[\"Cantidad\",{\"type\":\"ndarray\",\"array\":{\"type\":\"bytes\",\"data\":\"H4sIAAEAAAAC//NlYWA4ysTAsA+IVwLxbCBmBeJpjAwMtkCsBcQCQAwAaY4IHCgAAAA=\"},\"shape\":[10],\"dtype\":\"int32\",\"order\":\"little\"}]]}}},\"view\":{\"type\":\"object\",\"name\":\"CDSView\",\"id\":\"p4998\",\"attributes\":{\"filter\":{\"type\":\"object\",\"name\":\"AllIndices\",\"id\":\"p4999\"}}},\"glyph\":{\"type\":\"object\",\"name\":\"HBar\",\"id\":\"p4994\",\"attributes\":{\"y\":{\"type\":\"field\",\"field\":\"Ciudad\"},\"height\":{\"type\":\"value\",\"value\":0.8},\"right\":{\"type\":\"field\",\"field\":\"Cantidad\"},\"line_color\":{\"type\":\"value\",\"value\":\"orange\"},\"line_alpha\":{\"type\":\"value\",\"value\":0.7},\"fill_color\":{\"type\":\"value\",\"value\":\"orange\"},\"fill_alpha\":{\"type\":\"value\",\"value\":0.7},\"hatch_color\":{\"type\":\"value\",\"value\":\"orange\"},\"hatch_alpha\":{\"type\":\"value\",\"value\":0.7}}},\"nonselection_glyph\":{\"type\":\"object\",\"name\":\"HBar\",\"id\":\"p4995\",\"attributes\":{\"y\":{\"type\":\"field\",\"field\":\"Ciudad\"},\"height\":{\"type\":\"value\",\"value\":0.8},\"right\":{\"type\":\"field\",\"field\":\"Cantidad\"},\"line_color\":{\"type\":\"value\",\"value\":\"orange\"},\"line_alpha\":{\"type\":\"value\",\"value\":0.1},\"fill_color\":{\"type\":\"value\",\"value\":\"orange\"},\"fill_alpha\":{\"type\":\"value\",\"value\":0.1},\"hatch_color\":{\"type\":\"value\",\"value\":\"orange\"},\"hatch_alpha\":{\"type\":\"value\",\"value\":0.1}}},\"muted_glyph\":{\"type\":\"object\",\"name\":\"HBar\",\"id\":\"p4996\",\"attributes\":{\"y\":{\"type\":\"field\",\"field\":\"Ciudad\"},\"height\":{\"type\":\"value\",\"value\":0.8},\"right\":{\"type\":\"field\",\"field\":\"Cantidad\"},\"line_color\":{\"type\":\"value\",\"value\":\"orange\"},\"line_alpha\":{\"type\":\"value\",\"value\":0.2},\"fill_color\":{\"type\":\"value\",\"value\":\"orange\"},\"fill_alpha\":{\"type\":\"value\",\"value\":0.2},\"hatch_color\":{\"type\":\"value\",\"value\":\"orange\"},\"hatch_alpha\":{\"type\":\"value\",\"value\":0.2}}}}}],\"toolbar\":{\"type\":\"object\",\"name\":\"Toolbar\",\"id\":\"p4965\",\"attributes\":{\"tools\":[{\"type\":\"object\",\"name\":\"PanTool\",\"id\":\"p4979\"},{\"type\":\"object\",\"name\":\"WheelZoomTool\",\"id\":\"p4980\",\"attributes\":{\"renderers\":\"auto\"}},{\"type\":\"object\",\"name\":\"BoxZoomTool\",\"id\":\"p4981\",\"attributes\":{\"dimensions\":\"both\",\"overlay\":{\"type\":\"object\",\"name\":\"BoxAnnotation\",\"id\":\"p4982\",\"attributes\":{\"syncable\":false,\"line_color\":\"black\",\"line_alpha\":1.0,\"line_width\":2,\"line_dash\":[4,4],\"fill_color\":\"lightgrey\",\"fill_alpha\":0.5,\"level\":\"overlay\",\"visible\":false,\"left\":{\"type\":\"number\",\"value\":\"nan\"},\"right\":{\"type\":\"number\",\"value\":\"nan\"},\"top\":{\"type\":\"number\",\"value\":\"nan\"},\"bottom\":{\"type\":\"number\",\"value\":\"nan\"},\"left_units\":\"canvas\",\"right_units\":\"canvas\",\"top_units\":\"canvas\",\"bottom_units\":\"canvas\",\"handles\":{\"type\":\"object\",\"name\":\"BoxInteractionHandles\",\"id\":\"p4988\",\"attributes\":{\"all\":{\"type\":\"object\",\"name\":\"AreaVisuals\",\"id\":\"p4987\",\"attributes\":{\"fill_color\":\"white\",\"hover_fill_color\":\"lightgray\"}}}}}}}},{\"type\":\"object\",\"name\":\"ResetTool\",\"id\":\"p4989\"},{\"type\":\"object\",\"name\":\"SaveTool\",\"id\":\"p4990\"},{\"type\":\"object\",\"name\":\"HoverTool\",\"id\":\"p5000\",\"attributes\":{\"renderers\":\"auto\",\"tooltips\":[[\"Ciudad\",\"@Ciudad\"],[\"Visitas\",\"@Cantidad\"]],\"sort_by\":null}}]}},\"left\":[{\"type\":\"object\",\"name\":\"CategoricalAxis\",\"id\":\"p4974\",\"attributes\":{\"ticker\":{\"type\":\"object\",\"name\":\"CategoricalTicker\",\"id\":\"p4975\"},\"formatter\":{\"type\":\"object\",\"name\":\"CategoricalTickFormatter\",\"id\":\"p4976\"},\"major_label_policy\":{\"type\":\"object\",\"name\":\"AllLabels\",\"id\":\"p4977\"}}}],\"below\":[{\"type\":\"object\",\"name\":\"LinearAxis\",\"id\":\"p4969\",\"attributes\":{\"ticker\":{\"type\":\"object\",\"name\":\"BasicTicker\",\"id\":\"p4970\",\"attributes\":{\"mantissas\":[1,2,5]}},\"formatter\":{\"type\":\"object\",\"name\":\"BasicTickFormatter\",\"id\":\"p4971\"},\"major_label_policy\":{\"type\":\"object\",\"name\":\"AllLabels\",\"id\":\"p4972\"}}}],\"center\":[{\"type\":\"object\",\"name\":\"Grid\",\"id\":\"p4973\",\"attributes\":{\"axis\":{\"id\":\"p4969\"}}},{\"type\":\"object\",\"name\":\"Grid\",\"id\":\"p4978\",\"attributes\":{\"dimension\":1,\"axis\":{\"id\":\"p4974\"}}}]}}]}};\n  const render_items = [{\"docid\":\"5b1f3136-254d-4325-b761-bce4bcc5fa78\",\"roots\":{\"p4956\":\"d82c89fd-6558-4a7f-911b-a3b4fd9bdbf1\"},\"root_ids\":[\"p4956\"]}];\n  void root.Bokeh.embed.embed_items_notebook(docs_json, render_items);\n  }\n  if (root.Bokeh !== undefined) {\n    embed_document(root);\n  } else {\n    let attempts = 0;\n    const timer = setInterval(function(root) {\n      if (root.Bokeh !== undefined) {\n        clearInterval(timer);\n        embed_document(root);\n      } else {\n        attempts++;\n        if (attempts > 100) {\n          clearInterval(timer);\n          console.log(\"Bokeh: ERROR: Unable to run BokehJS code because BokehJS library is missing\");\n        }\n      }\n    }, 10, root)\n  }\n})(window);",
      "application/vnd.bokehjs_exec.v0+json": ""
     },
     "metadata": {
      "application/vnd.bokehjs_exec.v0+json": {
       "id": "p4956"
      }
     },
     "output_type": "display_data"
    },
    {
     "data": {
      "text/html": [
       "\n",
       "  <div id=\"e4b81a18-ce37-4d2a-842d-2e18f5ac4bbc\" data-root-id=\"p5008\" style=\"display: contents;\"></div>\n"
      ]
     },
     "metadata": {},
     "output_type": "display_data"
    },
    {
     "data": {
      "application/javascript": "(function(root) {\n  function embed_document(root) {\n  const docs_json = {\"5c479945-198e-4cdb-a91d-1ba471182218\":{\"version\":\"3.8.0\",\"title\":\"Bokeh Application\",\"config\":{\"type\":\"object\",\"name\":\"DocumentConfig\",\"id\":\"p5052\",\"attributes\":{\"notifications\":{\"type\":\"object\",\"name\":\"Notifications\",\"id\":\"p5053\"}}},\"roots\":[{\"type\":\"object\",\"name\":\"Figure\",\"id\":\"p5008\",\"attributes\":{\"height\":400,\"x_range\":{\"type\":\"object\",\"name\":\"DataRange1d\",\"id\":\"p5009\"},\"y_range\":{\"type\":\"object\",\"name\":\"DataRange1d\",\"id\":\"p5010\"},\"x_scale\":{\"type\":\"object\",\"name\":\"LinearScale\",\"id\":\"p5018\"},\"y_scale\":{\"type\":\"object\",\"name\":\"LinearScale\",\"id\":\"p5019\"},\"title\":{\"type\":\"object\",\"name\":\"Title\",\"id\":\"p5011\",\"attributes\":{\"text\":\"Distribuci\\u00f3n por N\\u00famero de Destinos Visitados\",\"text_font_size\":\"14pt\"}},\"renderers\":[{\"type\":\"object\",\"name\":\"GlyphRenderer\",\"id\":\"p5048\",\"attributes\":{\"data_source\":{\"type\":\"object\",\"name\":\"ColumnDataSource\",\"id\":\"p5005\",\"attributes\":{\"selected\":{\"type\":\"object\",\"name\":\"Selection\",\"id\":\"p5006\",\"attributes\":{\"indices\":[],\"line_indices\":[]}},\"selection_policy\":{\"type\":\"object\",\"name\":\"UnionRenderers\",\"id\":\"p5007\"},\"data\":{\"type\":\"map\",\"entries\":[[\"index\",{\"type\":\"ndarray\",\"array\":{\"type\":\"bytes\",\"data\":\"H4sIAAEAAAAC/2NgYGBgBGImIGYGYhYgZgViAD34DIUYAAAA\"},\"shape\":[6],\"dtype\":\"int32\",\"order\":\"little\"}],[\"Num_Destinos\",{\"type\":\"ndarray\",\"array\":{\"type\":\"bytes\",\"data\":\"H4sIAAEAAAAC/2NgYGBgBGImIGYGYhYgZgViAD34DIUYAAAA\"},\"shape\":[6],\"dtype\":\"int32\",\"order\":\"little\"}],[\"Cantidad\",{\"type\":\"ndarray\",\"array\":{\"type\":\"bytes\",\"data\":\"H4sIAAEAAAAC/5NlZ2B4w8zA8JaRgeEmEPsD8Q8gBgDzR+RlGAAAAA==\"},\"shape\":[6],\"dtype\":\"int32\",\"order\":\"little\"}]]}}},\"view\":{\"type\":\"object\",\"name\":\"CDSView\",\"id\":\"p5049\",\"attributes\":{\"filter\":{\"type\":\"object\",\"name\":\"AllIndices\",\"id\":\"p5050\"}}},\"glyph\":{\"type\":\"object\",\"name\":\"VBar\",\"id\":\"p5045\",\"attributes\":{\"x\":{\"type\":\"field\",\"field\":\"Num_Destinos\"},\"width\":{\"type\":\"value\",\"value\":0.8},\"top\":{\"type\":\"field\",\"field\":\"Cantidad\"},\"line_color\":{\"type\":\"value\",\"value\":\"coral\"},\"line_alpha\":{\"type\":\"value\",\"value\":0.8},\"fill_color\":{\"type\":\"value\",\"value\":\"coral\"},\"fill_alpha\":{\"type\":\"value\",\"value\":0.8},\"hatch_color\":{\"type\":\"value\",\"value\":\"coral\"},\"hatch_alpha\":{\"type\":\"value\",\"value\":0.8}}},\"nonselection_glyph\":{\"type\":\"object\",\"name\":\"VBar\",\"id\":\"p5046\",\"attributes\":{\"x\":{\"type\":\"field\",\"field\":\"Num_Destinos\"},\"width\":{\"type\":\"value\",\"value\":0.8},\"top\":{\"type\":\"field\",\"field\":\"Cantidad\"},\"line_color\":{\"type\":\"value\",\"value\":\"coral\"},\"line_alpha\":{\"type\":\"value\",\"value\":0.1},\"fill_color\":{\"type\":\"value\",\"value\":\"coral\"},\"fill_alpha\":{\"type\":\"value\",\"value\":0.1},\"hatch_color\":{\"type\":\"value\",\"value\":\"coral\"},\"hatch_alpha\":{\"type\":\"value\",\"value\":0.1}}},\"muted_glyph\":{\"type\":\"object\",\"name\":\"VBar\",\"id\":\"p5047\",\"attributes\":{\"x\":{\"type\":\"field\",\"field\":\"Num_Destinos\"},\"width\":{\"type\":\"value\",\"value\":0.8},\"top\":{\"type\":\"field\",\"field\":\"Cantidad\"},\"line_color\":{\"type\":\"value\",\"value\":\"coral\"},\"line_alpha\":{\"type\":\"value\",\"value\":0.2},\"fill_color\":{\"type\":\"value\",\"value\":\"coral\"},\"fill_alpha\":{\"type\":\"value\",\"value\":0.2},\"hatch_color\":{\"type\":\"value\",\"value\":\"coral\"},\"hatch_alpha\":{\"type\":\"value\",\"value\":0.2}}}}}],\"toolbar\":{\"type\":\"object\",\"name\":\"Toolbar\",\"id\":\"p5017\",\"attributes\":{\"tools\":[{\"type\":\"object\",\"name\":\"PanTool\",\"id\":\"p5030\"},{\"type\":\"object\",\"name\":\"WheelZoomTool\",\"id\":\"p5031\",\"attributes\":{\"renderers\":\"auto\"}},{\"type\":\"object\",\"name\":\"BoxZoomTool\",\"id\":\"p5032\",\"attributes\":{\"dimensions\":\"both\",\"overlay\":{\"type\":\"object\",\"name\":\"BoxAnnotation\",\"id\":\"p5033\",\"attributes\":{\"syncable\":false,\"line_color\":\"black\",\"line_alpha\":1.0,\"line_width\":2,\"line_dash\":[4,4],\"fill_color\":\"lightgrey\",\"fill_alpha\":0.5,\"level\":\"overlay\",\"visible\":false,\"left\":{\"type\":\"number\",\"value\":\"nan\"},\"right\":{\"type\":\"number\",\"value\":\"nan\"},\"top\":{\"type\":\"number\",\"value\":\"nan\"},\"bottom\":{\"type\":\"number\",\"value\":\"nan\"},\"left_units\":\"canvas\",\"right_units\":\"canvas\",\"top_units\":\"canvas\",\"bottom_units\":\"canvas\",\"handles\":{\"type\":\"object\",\"name\":\"BoxInteractionHandles\",\"id\":\"p5039\",\"attributes\":{\"all\":{\"type\":\"object\",\"name\":\"AreaVisuals\",\"id\":\"p5038\",\"attributes\":{\"fill_color\":\"white\",\"hover_fill_color\":\"lightgray\"}}}}}}}},{\"type\":\"object\",\"name\":\"ResetTool\",\"id\":\"p5040\"},{\"type\":\"object\",\"name\":\"SaveTool\",\"id\":\"p5041\"},{\"type\":\"object\",\"name\":\"HoverTool\",\"id\":\"p5051\",\"attributes\":{\"renderers\":\"auto\",\"tooltips\":[[\"Destinos\",\"@Num_Destinos\"],[\"Turistas\",\"@Cantidad\"]],\"sort_by\":null}}]}},\"left\":[{\"type\":\"object\",\"name\":\"LinearAxis\",\"id\":\"p5025\",\"attributes\":{\"ticker\":{\"type\":\"object\",\"name\":\"BasicTicker\",\"id\":\"p5026\",\"attributes\":{\"mantissas\":[1,2,5]}},\"formatter\":{\"type\":\"object\",\"name\":\"BasicTickFormatter\",\"id\":\"p5027\"},\"axis_label\":\"N\\u00famero de Turistas\",\"major_label_policy\":{\"type\":\"object\",\"name\":\"AllLabels\",\"id\":\"p5028\"}}}],\"below\":[{\"type\":\"object\",\"name\":\"LinearAxis\",\"id\":\"p5020\",\"attributes\":{\"ticker\":{\"type\":\"object\",\"name\":\"BasicTicker\",\"id\":\"p5021\",\"attributes\":{\"mantissas\":[1,2,5]}},\"formatter\":{\"type\":\"object\",\"name\":\"BasicTickFormatter\",\"id\":\"p5022\"},\"axis_label\":\"N\\u00famero de Destinos\",\"major_label_policy\":{\"type\":\"object\",\"name\":\"AllLabels\",\"id\":\"p5023\"}}}],\"center\":[{\"type\":\"object\",\"name\":\"Grid\",\"id\":\"p5024\",\"attributes\":{\"axis\":{\"id\":\"p5020\"}}},{\"type\":\"object\",\"name\":\"Grid\",\"id\":\"p5029\",\"attributes\":{\"dimension\":1,\"axis\":{\"id\":\"p5025\"}}}]}}]}};\n  const render_items = [{\"docid\":\"5c479945-198e-4cdb-a91d-1ba471182218\",\"roots\":{\"p5008\":\"e4b81a18-ce37-4d2a-842d-2e18f5ac4bbc\"},\"root_ids\":[\"p5008\"]}];\n  void root.Bokeh.embed.embed_items_notebook(docs_json, render_items);\n  }\n  if (root.Bokeh !== undefined) {\n    embed_document(root);\n  } else {\n    let attempts = 0;\n    const timer = setInterval(function(root) {\n      if (root.Bokeh !== undefined) {\n        clearInterval(timer);\n        embed_document(root);\n      } else {\n        attempts++;\n        if (attempts > 100) {\n          clearInterval(timer);\n          console.log(\"Bokeh: ERROR: Unable to run BokehJS code because BokehJS library is missing\");\n        }\n      }\n    }, 10, root)\n  }\n})(window);",
      "application/vnd.bokehjs_exec.v0+json": ""
     },
     "metadata": {
      "application/vnd.bokehjs_exec.v0+json": {
       "id": "p5008"
      }
     },
     "output_type": "display_data"
    },
    {
     "name": "stderr",
     "output_type": "stream",
     "text": [
      "WARNING:bokeh.core.validation.check:W-1008 (PALETTE_LENGTH_FACTORS_MISMATCH): Palette length does not match number of factors: ['TURISMO RELIGIOSO', 'TRANSITO Y OTROS'] will be assigned to `nan_color` gray\n"
     ]
    },
    {
     "data": {
      "text/html": [
       "\n",
       "  <div id=\"a55ac4b6-2e83-46f5-ad82-6f61ea2b10a9\" data-root-id=\"p5060\" style=\"display: contents;\"></div>\n"
      ]
     },
     "metadata": {},
     "output_type": "display_data"
    },
    {
     "data": {
      "application/javascript": "(function(root) {\n  function embed_document(root) {\n  const docs_json = {\"74a66619-7bc2-4c29-862e-a0f3ba7080d7\":{\"version\":\"3.8.0\",\"title\":\"Bokeh Application\",\"config\":{\"type\":\"object\",\"name\":\"DocumentConfig\",\"id\":\"p5106\",\"attributes\":{\"notifications\":{\"type\":\"object\",\"name\":\"Notifications\",\"id\":\"p5107\"}}},\"roots\":[{\"type\":\"object\",\"name\":\"Figure\",\"id\":\"p5060\",\"attributes\":{\"height\":400,\"x_range\":{\"type\":\"object\",\"name\":\"FactorRange\",\"id\":\"p5070\",\"attributes\":{\"factors\":[\"TURISMO LOCAL Y SERVICIOS TURISTICOS\",\"TURISMO DE NATURALEZA Y AVENTURA\",\"TURISMO CULTURAL Y PATRIMONIAL\",\"VACACIONES Y RECREACION\",\"SALUD Y BIENESTAR\",\"EDUCACION Y FORMACION\",\"NEGOCIOS Y TRABAJO\",\"MOTIVOS PERSONALES Y FAMILIARES\",\"GASTRONOMIA\",\"TURISMO RELIGIOSO\",\"TRANSITO Y OTROS\"]}},\"y_range\":{\"type\":\"object\",\"name\":\"DataRange1d\",\"id\":\"p5062\"},\"x_scale\":{\"type\":\"object\",\"name\":\"CategoricalScale\",\"id\":\"p5071\"},\"y_scale\":{\"type\":\"object\",\"name\":\"LinearScale\",\"id\":\"p5072\"},\"title\":{\"type\":\"object\",\"name\":\"Title\",\"id\":\"p5063\",\"attributes\":{\"text\":\"Distribuci\\u00f3n de Motivos de Viaje (Datos Limpios)\",\"text_font_size\":\"14pt\"}},\"renderers\":[{\"type\":\"object\",\"name\":\"GlyphRenderer\",\"id\":\"p5102\",\"attributes\":{\"data_source\":{\"type\":\"object\",\"name\":\"ColumnDataSource\",\"id\":\"p5057\",\"attributes\":{\"selected\":{\"type\":\"object\",\"name\":\"Selection\",\"id\":\"p5058\",\"attributes\":{\"indices\":[],\"line_indices\":[]}},\"selection_policy\":{\"type\":\"object\",\"name\":\"UnionRenderers\",\"id\":\"p5059\"},\"data\":{\"type\":\"map\",\"entries\":[[\"index\",{\"type\":\"ndarray\",\"array\":{\"type\":\"bytes\",\"data\":\"H4sIAAEAAAAC/w3DiQ0AIAwEoPOtuv/AQkKSNLvD6XJbHq/PD5K0P/UsAAAA\"},\"shape\":[11],\"dtype\":\"int32\",\"order\":\"little\"}],[\"Motivo\",{\"type\":\"ndarray\",\"array\":[\"TURISMO LOCAL Y SERVICIOS TURISTICOS\",\"TURISMO DE NATURALEZA Y AVENTURA\",\"TURISMO CULTURAL Y PATRIMONIAL\",\"VACACIONES Y RECREACION\",\"SALUD Y BIENESTAR\",\"EDUCACION Y FORMACION\",\"NEGOCIOS Y TRABAJO\",\"MOTIVOS PERSONALES Y FAMILIARES\",\"GASTRONOMIA\",\"TURISMO RELIGIOSO\",\"TRANSITO Y OTROS\"],\"shape\":[11],\"dtype\":\"object\",\"order\":\"little\"}],[\"Cantidad\",{\"type\":\"ndarray\",\"array\":{\"type\":\"bytes\",\"data\":\"H4sIAAEAAAAC/7vIwsBwDogjgFiAmYEhm4GBIRyIdYGYB4rZgJgJiAFsZ37+LAAAAA==\"},\"shape\":[11],\"dtype\":\"int32\",\"order\":\"little\"}]]}}},\"view\":{\"type\":\"object\",\"name\":\"CDSView\",\"id\":\"p5103\",\"attributes\":{\"filter\":{\"type\":\"object\",\"name\":\"AllIndices\",\"id\":\"p5104\"}}},\"glyph\":{\"type\":\"object\",\"name\":\"VBar\",\"id\":\"p5099\",\"attributes\":{\"x\":{\"type\":\"field\",\"field\":\"Motivo\"},\"width\":{\"type\":\"value\",\"value\":0.8},\"top\":{\"type\":\"field\",\"field\":\"Cantidad\"},\"line_color\":{\"type\":\"field\",\"field\":\"Motivo\",\"transform\":{\"type\":\"object\",\"name\":\"CategoricalColorMapper\",\"id\":\"p5095\",\"attributes\":{\"palette\":[\"#440154\",\"#472A79\",\"#3C4D8A\",\"#2E6C8E\",\"#23898D\",\"#20A585\",\"#45BF6F\",\"#88D547\",\"#D7E219\"],\"factors\":[\"TURISMO LOCAL Y SERVICIOS TURISTICOS\",\"TURISMO DE NATURALEZA Y AVENTURA\",\"TURISMO CULTURAL Y PATRIMONIAL\",\"VACACIONES Y RECREACION\",\"SALUD Y BIENESTAR\",\"EDUCACION Y FORMACION\",\"NEGOCIOS Y TRABAJO\",\"MOTIVOS PERSONALES Y FAMILIARES\",\"GASTRONOMIA\",\"TURISMO RELIGIOSO\",\"TRANSITO Y OTROS\"]}}},\"fill_color\":{\"type\":\"field\",\"field\":\"Motivo\",\"transform\":{\"id\":\"p5095\"}},\"hatch_color\":{\"type\":\"field\",\"field\":\"Motivo\",\"transform\":{\"id\":\"p5095\"}}}},\"nonselection_glyph\":{\"type\":\"object\",\"name\":\"VBar\",\"id\":\"p5100\",\"attributes\":{\"x\":{\"type\":\"field\",\"field\":\"Motivo\"},\"width\":{\"type\":\"value\",\"value\":0.8},\"top\":{\"type\":\"field\",\"field\":\"Cantidad\"},\"line_color\":{\"type\":\"field\",\"field\":\"Motivo\",\"transform\":{\"id\":\"p5095\"}},\"line_alpha\":{\"type\":\"value\",\"value\":0.1},\"fill_color\":{\"type\":\"field\",\"field\":\"Motivo\",\"transform\":{\"id\":\"p5095\"}},\"fill_alpha\":{\"type\":\"value\",\"value\":0.1},\"hatch_color\":{\"type\":\"field\",\"field\":\"Motivo\",\"transform\":{\"id\":\"p5095\"}},\"hatch_alpha\":{\"type\":\"value\",\"value\":0.1}}},\"muted_glyph\":{\"type\":\"object\",\"name\":\"VBar\",\"id\":\"p5101\",\"attributes\":{\"x\":{\"type\":\"field\",\"field\":\"Motivo\"},\"width\":{\"type\":\"value\",\"value\":0.8},\"top\":{\"type\":\"field\",\"field\":\"Cantidad\"},\"line_color\":{\"type\":\"field\",\"field\":\"Motivo\",\"transform\":{\"id\":\"p5095\"}},\"line_alpha\":{\"type\":\"value\",\"value\":0.2},\"fill_color\":{\"type\":\"field\",\"field\":\"Motivo\",\"transform\":{\"id\":\"p5095\"}},\"fill_alpha\":{\"type\":\"value\",\"value\":0.2},\"hatch_color\":{\"type\":\"field\",\"field\":\"Motivo\",\"transform\":{\"id\":\"p5095\"}},\"hatch_alpha\":{\"type\":\"value\",\"value\":0.2}}}}}],\"toolbar\":{\"type\":\"object\",\"name\":\"Toolbar\",\"id\":\"p5069\",\"attributes\":{\"tools\":[{\"type\":\"object\",\"name\":\"PanTool\",\"id\":\"p5083\"},{\"type\":\"object\",\"name\":\"WheelZoomTool\",\"id\":\"p5084\",\"attributes\":{\"renderers\":\"auto\"}},{\"type\":\"object\",\"name\":\"BoxZoomTool\",\"id\":\"p5085\",\"attributes\":{\"dimensions\":\"both\",\"overlay\":{\"type\":\"object\",\"name\":\"BoxAnnotation\",\"id\":\"p5086\",\"attributes\":{\"syncable\":false,\"line_color\":\"black\",\"line_alpha\":1.0,\"line_width\":2,\"line_dash\":[4,4],\"fill_color\":\"lightgrey\",\"fill_alpha\":0.5,\"level\":\"overlay\",\"visible\":false,\"left\":{\"type\":\"number\",\"value\":\"nan\"},\"right\":{\"type\":\"number\",\"value\":\"nan\"},\"top\":{\"type\":\"number\",\"value\":\"nan\"},\"bottom\":{\"type\":\"number\",\"value\":\"nan\"},\"left_units\":\"canvas\",\"right_units\":\"canvas\",\"top_units\":\"canvas\",\"bottom_units\":\"canvas\",\"handles\":{\"type\":\"object\",\"name\":\"BoxInteractionHandles\",\"id\":\"p5092\",\"attributes\":{\"all\":{\"type\":\"object\",\"name\":\"AreaVisuals\",\"id\":\"p5091\",\"attributes\":{\"fill_color\":\"white\",\"hover_fill_color\":\"lightgray\"}}}}}}}},{\"type\":\"object\",\"name\":\"ResetTool\",\"id\":\"p5093\"},{\"type\":\"object\",\"name\":\"SaveTool\",\"id\":\"p5094\"},{\"type\":\"object\",\"name\":\"HoverTool\",\"id\":\"p5105\",\"attributes\":{\"renderers\":\"auto\",\"tooltips\":[[\"Motivo\",\"@Motivo\"],[\"Cantidad\",\"@Cantidad\"]],\"sort_by\":null}}]}},\"left\":[{\"type\":\"object\",\"name\":\"LinearAxis\",\"id\":\"p5078\",\"attributes\":{\"ticker\":{\"type\":\"object\",\"name\":\"BasicTicker\",\"id\":\"p5079\",\"attributes\":{\"mantissas\":[1,2,5]}},\"formatter\":{\"type\":\"object\",\"name\":\"BasicTickFormatter\",\"id\":\"p5080\"},\"major_label_policy\":{\"type\":\"object\",\"name\":\"AllLabels\",\"id\":\"p5081\"}}}],\"below\":[{\"type\":\"object\",\"name\":\"CategoricalAxis\",\"id\":\"p5073\",\"attributes\":{\"ticker\":{\"type\":\"object\",\"name\":\"CategoricalTicker\",\"id\":\"p5074\"},\"formatter\":{\"type\":\"object\",\"name\":\"CategoricalTickFormatter\",\"id\":\"p5075\"},\"major_label_orientation\":1.2,\"major_label_policy\":{\"type\":\"object\",\"name\":\"AllLabels\",\"id\":\"p5076\"}}}],\"center\":[{\"type\":\"object\",\"name\":\"Grid\",\"id\":\"p5077\",\"attributes\":{\"axis\":{\"id\":\"p5073\"}}},{\"type\":\"object\",\"name\":\"Grid\",\"id\":\"p5082\",\"attributes\":{\"dimension\":1,\"axis\":{\"id\":\"p5078\"}}}]}}]}};\n  const render_items = [{\"docid\":\"74a66619-7bc2-4c29-862e-a0f3ba7080d7\",\"roots\":{\"p5060\":\"a55ac4b6-2e83-46f5-ad82-6f61ea2b10a9\"},\"root_ids\":[\"p5060\"]}];\n  void root.Bokeh.embed.embed_items_notebook(docs_json, render_items);\n  }\n  if (root.Bokeh !== undefined) {\n    embed_document(root);\n  } else {\n    let attempts = 0;\n    const timer = setInterval(function(root) {\n      if (root.Bokeh !== undefined) {\n        clearInterval(timer);\n        embed_document(root);\n      } else {\n        attempts++;\n        if (attempts > 100) {\n          clearInterval(timer);\n          console.log(\"Bokeh: ERROR: Unable to run BokehJS code because BokehJS library is missing\");\n        }\n      }\n    }, 10, root)\n  }\n})(window);",
      "application/vnd.bokehjs_exec.v0+json": ""
     },
     "metadata": {
      "application/vnd.bokehjs_exec.v0+json": {
       "id": "p5060"
      }
     },
     "output_type": "display_data"
    },
    {
     "name": "stderr",
     "output_type": "stream",
     "text": [
      "BokehDeprecationWarning: 'circle() method with size value' was deprecated in Bokeh 3.4.0 and will be removed, use 'scatter(size=...) instead' instead.\n"
     ]
    },
    {
     "data": {
      "text/html": [
       "\n",
       "  <div id=\"c45d1c3f-959a-4c4d-a687-e70501ddae32\" data-root-id=\"p5113\" style=\"display: contents;\"></div>\n"
      ]
     },
     "metadata": {},
     "output_type": "display_data"
    },
    {
     "data": {
      "application/javascript": "(function(root) {\n  function embed_document(root) {\n  const docs_json = {\"a752c310-04b3-4118-9a7a-42a4adc025a2\":{\"version\":\"3.8.0\",\"title\":\"Bokeh Application\",\"config\":{\"type\":\"object\",\"name\":\"DocumentConfig\",\"id\":\"p5166\",\"attributes\":{\"notifications\":{\"type\":\"object\",\"name\":\"Notifications\",\"id\":\"p5167\"}}},\"roots\":[{\"type\":\"object\",\"name\":\"Figure\",\"id\":\"p5113\",\"attributes\":{\"height\":400,\"x_range\":{\"type\":\"object\",\"name\":\"DataRange1d\",\"id\":\"p5114\"},\"y_range\":{\"type\":\"object\",\"name\":\"DataRange1d\",\"id\":\"p5115\"},\"x_scale\":{\"type\":\"object\",\"name\":\"LinearScale\",\"id\":\"p5123\"},\"y_scale\":{\"type\":\"object\",\"name\":\"LinearScale\",\"id\":\"p5124\"},\"title\":{\"type\":\"object\",\"name\":\"Title\",\"id\":\"p5116\",\"attributes\":{\"text\":\"Distribuci\\u00f3n de Duraci\\u00f3n del Viaje (D\\u00edas)\",\"text_font_size\":\"14pt\"}},\"renderers\":[{\"type\":\"object\",\"name\":\"GlyphRenderer\",\"id\":\"p5153\",\"attributes\":{\"data_source\":{\"type\":\"object\",\"name\":\"ColumnDataSource\",\"id\":\"p5110\",\"attributes\":{\"selected\":{\"type\":\"object\",\"name\":\"Selection\",\"id\":\"p5111\",\"attributes\":{\"indices\":[],\"line_indices\":[]}},\"selection_policy\":{\"type\":\"object\",\"name\":\"UnionRenderers\",\"id\":\"p5112\"},\"data\":{\"type\":\"map\",\"entries\":[[\"index\",{\"type\":\"ndarray\",\"array\":{\"type\":\"bytes\",\"data\":\"H4sIAAEAAAAC/2NgYGBgBGImIGYGYhYgZgViNiBmB2IA3CMHeSAAAAA=\"},\"shape\":[8],\"dtype\":\"int32\",\"order\":\"little\"}],[\"Dias\",{\"type\":\"ndarray\",\"array\":{\"type\":\"bytes\",\"data\":\"H4sIAAEAAAAC/2NgQAYf7KEMBwjFAaUFoLQIlJaB0noOAANJk7VAAAAA\"},\"shape\":[8],\"dtype\":\"float64\",\"order\":\"little\"}],[\"Cantidad\",{\"type\":\"ndarray\",\"array\":{\"type\":\"bytes\",\"data\":\"H4sIAAEAAAAC/2NmYGCYw8rAkMzMwHAcSP8H8pkYGRi4gNgRyAYAv2HsViAAAAA=\"},\"shape\":[8],\"dtype\":\"int32\",\"order\":\"little\"}]]}}},\"view\":{\"type\":\"object\",\"name\":\"CDSView\",\"id\":\"p5154\",\"attributes\":{\"filter\":{\"type\":\"object\",\"name\":\"AllIndices\",\"id\":\"p5155\"}}},\"glyph\":{\"type\":\"object\",\"name\":\"Line\",\"id\":\"p5150\",\"attributes\":{\"x\":{\"type\":\"field\",\"field\":\"Dias\"},\"y\":{\"type\":\"field\",\"field\":\"Cantidad\"},\"line_color\":\"purple\",\"line_width\":3}},\"nonselection_glyph\":{\"type\":\"object\",\"name\":\"Line\",\"id\":\"p5151\",\"attributes\":{\"x\":{\"type\":\"field\",\"field\":\"Dias\"},\"y\":{\"type\":\"field\",\"field\":\"Cantidad\"},\"line_color\":\"purple\",\"line_alpha\":0.1,\"line_width\":3}},\"muted_glyph\":{\"type\":\"object\",\"name\":\"Line\",\"id\":\"p5152\",\"attributes\":{\"x\":{\"type\":\"field\",\"field\":\"Dias\"},\"y\":{\"type\":\"field\",\"field\":\"Cantidad\"},\"line_color\":\"purple\",\"line_alpha\":0.2,\"line_width\":3}}}},{\"type\":\"object\",\"name\":\"GlyphRenderer\",\"id\":\"p5162\",\"attributes\":{\"data_source\":{\"id\":\"p5110\"},\"view\":{\"type\":\"object\",\"name\":\"CDSView\",\"id\":\"p5163\",\"attributes\":{\"filter\":{\"type\":\"object\",\"name\":\"AllIndices\",\"id\":\"p5164\"}}},\"glyph\":{\"type\":\"object\",\"name\":\"Scatter\",\"id\":\"p5159\",\"attributes\":{\"x\":{\"type\":\"field\",\"field\":\"Dias\"},\"y\":{\"type\":\"field\",\"field\":\"Cantidad\"},\"size\":{\"type\":\"value\",\"value\":8},\"line_color\":{\"type\":\"value\",\"value\":\"purple\"},\"line_alpha\":{\"type\":\"value\",\"value\":0.7},\"fill_color\":{\"type\":\"value\",\"value\":\"purple\"},\"fill_alpha\":{\"type\":\"value\",\"value\":0.7},\"hatch_color\":{\"type\":\"value\",\"value\":\"purple\"},\"hatch_alpha\":{\"type\":\"value\",\"value\":0.7}}},\"nonselection_glyph\":{\"type\":\"object\",\"name\":\"Scatter\",\"id\":\"p5160\",\"attributes\":{\"x\":{\"type\":\"field\",\"field\":\"Dias\"},\"y\":{\"type\":\"field\",\"field\":\"Cantidad\"},\"size\":{\"type\":\"value\",\"value\":8},\"line_color\":{\"type\":\"value\",\"value\":\"purple\"},\"line_alpha\":{\"type\":\"value\",\"value\":0.1},\"fill_color\":{\"type\":\"value\",\"value\":\"purple\"},\"fill_alpha\":{\"type\":\"value\",\"value\":0.1},\"hatch_color\":{\"type\":\"value\",\"value\":\"purple\"},\"hatch_alpha\":{\"type\":\"value\",\"value\":0.1}}},\"muted_glyph\":{\"type\":\"object\",\"name\":\"Scatter\",\"id\":\"p5161\",\"attributes\":{\"x\":{\"type\":\"field\",\"field\":\"Dias\"},\"y\":{\"type\":\"field\",\"field\":\"Cantidad\"},\"size\":{\"type\":\"value\",\"value\":8},\"line_color\":{\"type\":\"value\",\"value\":\"purple\"},\"line_alpha\":{\"type\":\"value\",\"value\":0.2},\"fill_color\":{\"type\":\"value\",\"value\":\"purple\"},\"fill_alpha\":{\"type\":\"value\",\"value\":0.2},\"hatch_color\":{\"type\":\"value\",\"value\":\"purple\"},\"hatch_alpha\":{\"type\":\"value\",\"value\":0.2}}}}}],\"toolbar\":{\"type\":\"object\",\"name\":\"Toolbar\",\"id\":\"p5122\",\"attributes\":{\"tools\":[{\"type\":\"object\",\"name\":\"PanTool\",\"id\":\"p5135\"},{\"type\":\"object\",\"name\":\"WheelZoomTool\",\"id\":\"p5136\",\"attributes\":{\"renderers\":\"auto\"}},{\"type\":\"object\",\"name\":\"BoxZoomTool\",\"id\":\"p5137\",\"attributes\":{\"dimensions\":\"both\",\"overlay\":{\"type\":\"object\",\"name\":\"BoxAnnotation\",\"id\":\"p5138\",\"attributes\":{\"syncable\":false,\"line_color\":\"black\",\"line_alpha\":1.0,\"line_width\":2,\"line_dash\":[4,4],\"fill_color\":\"lightgrey\",\"fill_alpha\":0.5,\"level\":\"overlay\",\"visible\":false,\"left\":{\"type\":\"number\",\"value\":\"nan\"},\"right\":{\"type\":\"number\",\"value\":\"nan\"},\"top\":{\"type\":\"number\",\"value\":\"nan\"},\"bottom\":{\"type\":\"number\",\"value\":\"nan\"},\"left_units\":\"canvas\",\"right_units\":\"canvas\",\"top_units\":\"canvas\",\"bottom_units\":\"canvas\",\"handles\":{\"type\":\"object\",\"name\":\"BoxInteractionHandles\",\"id\":\"p5144\",\"attributes\":{\"all\":{\"type\":\"object\",\"name\":\"AreaVisuals\",\"id\":\"p5143\",\"attributes\":{\"fill_color\":\"white\",\"hover_fill_color\":\"lightgray\"}}}}}}}},{\"type\":\"object\",\"name\":\"ResetTool\",\"id\":\"p5145\"},{\"type\":\"object\",\"name\":\"SaveTool\",\"id\":\"p5146\"},{\"type\":\"object\",\"name\":\"HoverTool\",\"id\":\"p5165\",\"attributes\":{\"renderers\":\"auto\",\"tooltips\":[[\"D\\u00edas\",\"@Dias\"],[\"Cantidad\",\"@Cantidad\"]],\"sort_by\":null}}]}},\"left\":[{\"type\":\"object\",\"name\":\"LinearAxis\",\"id\":\"p5130\",\"attributes\":{\"ticker\":{\"type\":\"object\",\"name\":\"BasicTicker\",\"id\":\"p5131\",\"attributes\":{\"mantissas\":[1,2,5]}},\"formatter\":{\"type\":\"object\",\"name\":\"BasicTickFormatter\",\"id\":\"p5132\"},\"major_label_policy\":{\"type\":\"object\",\"name\":\"AllLabels\",\"id\":\"p5133\"}}}],\"below\":[{\"type\":\"object\",\"name\":\"LinearAxis\",\"id\":\"p5125\",\"attributes\":{\"ticker\":{\"type\":\"object\",\"name\":\"BasicTicker\",\"id\":\"p5126\",\"attributes\":{\"mantissas\":[1,2,5]}},\"formatter\":{\"type\":\"object\",\"name\":\"BasicTickFormatter\",\"id\":\"p5127\"},\"major_label_policy\":{\"type\":\"object\",\"name\":\"AllLabels\",\"id\":\"p5128\"}}}],\"center\":[{\"type\":\"object\",\"name\":\"Grid\",\"id\":\"p5129\",\"attributes\":{\"axis\":{\"id\":\"p5125\"}}},{\"type\":\"object\",\"name\":\"Grid\",\"id\":\"p5134\",\"attributes\":{\"dimension\":1,\"axis\":{\"id\":\"p5130\"}}}]}}]}};\n  const render_items = [{\"docid\":\"a752c310-04b3-4118-9a7a-42a4adc025a2\",\"roots\":{\"p5113\":\"c45d1c3f-959a-4c4d-a687-e70501ddae32\"},\"root_ids\":[\"p5113\"]}];\n  void root.Bokeh.embed.embed_items_notebook(docs_json, render_items);\n  }\n  if (root.Bokeh !== undefined) {\n    embed_document(root);\n  } else {\n    let attempts = 0;\n    const timer = setInterval(function(root) {\n      if (root.Bokeh !== undefined) {\n        clearInterval(timer);\n        embed_document(root);\n      } else {\n        attempts++;\n        if (attempts > 100) {\n          clearInterval(timer);\n          console.log(\"Bokeh: ERROR: Unable to run BokehJS code because BokehJS library is missing\");\n        }\n      }\n    }, 10, root)\n  }\n})(window);",
      "application/vnd.bokehjs_exec.v0+json": ""
     },
     "metadata": {
      "application/vnd.bokehjs_exec.v0+json": {
       "id": "p5113"
      }
     },
     "output_type": "display_data"
    },
    {
     "data": {
      "text/html": [
       "\n",
       "  <div id=\"e7a8ab79-b008-42a1-a4fe-567812e4c19a\" data-root-id=\"p5174\" style=\"display: contents;\"></div>\n"
      ]
     },
     "metadata": {},
     "output_type": "display_data"
    },
    {
     "data": {
      "application/javascript": "(function(root) {\n  function embed_document(root) {\n  const docs_json = {\"dd76a412-b0ee-4750-85b4-14ce806d759a\":{\"version\":\"3.8.0\",\"title\":\"Bokeh Application\",\"config\":{\"type\":\"object\",\"name\":\"DocumentConfig\",\"id\":\"p5218\",\"attributes\":{\"notifications\":{\"type\":\"object\",\"name\":\"Notifications\",\"id\":\"p5219\"}}},\"roots\":[{\"type\":\"object\",\"name\":\"Figure\",\"id\":\"p5174\",\"attributes\":{\"height\":400,\"x_range\":{\"type\":\"object\",\"name\":\"DataRange1d\",\"id\":\"p5175\"},\"y_range\":{\"type\":\"object\",\"name\":\"DataRange1d\",\"id\":\"p5176\"},\"x_scale\":{\"type\":\"object\",\"name\":\"LinearScale\",\"id\":\"p5184\"},\"y_scale\":{\"type\":\"object\",\"name\":\"LinearScale\",\"id\":\"p5185\"},\"title\":{\"type\":\"object\",\"name\":\"Title\",\"id\":\"p5177\",\"attributes\":{\"text\":\"Distribuci\\u00f3n del Tama\\u00f1o de Grupos de Viaje\",\"text_font_size\":\"14pt\"}},\"renderers\":[{\"type\":\"object\",\"name\":\"GlyphRenderer\",\"id\":\"p5214\",\"attributes\":{\"data_source\":{\"type\":\"object\",\"name\":\"ColumnDataSource\",\"id\":\"p5171\",\"attributes\":{\"selected\":{\"type\":\"object\",\"name\":\"Selection\",\"id\":\"p5172\",\"attributes\":{\"indices\":[],\"line_indices\":[]}},\"selection_policy\":{\"type\":\"object\",\"name\":\"UnionRenderers\",\"id\":\"p5173\"},\"data\":{\"type\":\"map\",\"entries\":[[\"index\",{\"type\":\"ndarray\",\"array\":{\"type\":\"bytes\",\"data\":\"H4sIAAEAAAAC/w3DhzYCUAAA0GckZESikrIrsiIiq6IkIRn9/5e495wbQghjjjvhpBGnjDrtjLPGnHPeBReNu+SyCVdMuuqaKdNmXDfrhjnzbrrltjvuuue+BYuWPPDQskcee+KpZ1Y898Kql15Z89ob6956570PPtqwacsnn23b8cWur/Z8s++7H3468Muh3/74658j/wFiv0kjZAEAAA==\"},\"shape\":[89],\"dtype\":\"int32\",\"order\":\"little\"}],[\"Tama\\u00f1o_Grupo\",{\"type\":\"ndarray\",\"array\":{\"type\":\"bytes\",\"data\":\"H4sIAAEAAAAC/03My0pCURSA4TV02KBBAwcSERESZdld3ZpFZVe7QA28RASR5CucR/ORegQH+xM6k+/8a511Iv4/fy0vKVPiEpe5wjIrXOUa17nBTVa5xW3usMZd7rHOfR7wkEc85glP2WCTLaZswWhrRkczzjSjy3NzxoVmXPKK1+z5buGN+a1m3GnGfTY96EfNgrO+/ZM541lzxvSiGa/mLBhv5u964G7h0HyUrbAY23/Yf/rPlz3jW/9kRxN3jF930zQHCBNSm8gCAAA=\"},\"shape\":[89],\"dtype\":\"float64\",\"order\":\"little\"}],[\"Cantidad\",{\"type\":\"ndarray\",\"array\":{\"type\":\"bytes\",\"data\":\"H4sIAAEAAAAC/22NwQ3CMBRDnf9bFaRCW0R7pBNwhTFYgHlYpEt0Ko6c60hG+op6eIrj2M4bwEqsBn4JuDkwGvCl9yELuZMXmciTdKQlV1IRVjHkDdLrPpITachZ3lG9nLvozBsH5WblXF7efoR3V69RNwVthZdErdOC92cIfqV/9nba0LFCu7QHnYrMBqcQgNJkAQAA\"},\"shape\":[89],\"dtype\":\"int32\",\"order\":\"little\"}]]}}},\"view\":{\"type\":\"object\",\"name\":\"CDSView\",\"id\":\"p5215\",\"attributes\":{\"filter\":{\"type\":\"object\",\"name\":\"AllIndices\",\"id\":\"p5216\"}}},\"glyph\":{\"type\":\"object\",\"name\":\"VBar\",\"id\":\"p5211\",\"attributes\":{\"x\":{\"type\":\"field\",\"field\":\"Tama\\u00f1o_Grupo\"},\"width\":{\"type\":\"value\",\"value\":0.8},\"top\":{\"type\":\"field\",\"field\":\"Cantidad\"},\"line_color\":{\"type\":\"value\",\"value\":\"teal\"},\"line_alpha\":{\"type\":\"value\",\"value\":0.7},\"fill_color\":{\"type\":\"value\",\"value\":\"teal\"},\"fill_alpha\":{\"type\":\"value\",\"value\":0.7},\"hatch_color\":{\"type\":\"value\",\"value\":\"teal\"},\"hatch_alpha\":{\"type\":\"value\",\"value\":0.7}}},\"nonselection_glyph\":{\"type\":\"object\",\"name\":\"VBar\",\"id\":\"p5212\",\"attributes\":{\"x\":{\"type\":\"field\",\"field\":\"Tama\\u00f1o_Grupo\"},\"width\":{\"type\":\"value\",\"value\":0.8},\"top\":{\"type\":\"field\",\"field\":\"Cantidad\"},\"line_color\":{\"type\":\"value\",\"value\":\"teal\"},\"line_alpha\":{\"type\":\"value\",\"value\":0.1},\"fill_color\":{\"type\":\"value\",\"value\":\"teal\"},\"fill_alpha\":{\"type\":\"value\",\"value\":0.1},\"hatch_color\":{\"type\":\"value\",\"value\":\"teal\"},\"hatch_alpha\":{\"type\":\"value\",\"value\":0.1}}},\"muted_glyph\":{\"type\":\"object\",\"name\":\"VBar\",\"id\":\"p5213\",\"attributes\":{\"x\":{\"type\":\"field\",\"field\":\"Tama\\u00f1o_Grupo\"},\"width\":{\"type\":\"value\",\"value\":0.8},\"top\":{\"type\":\"field\",\"field\":\"Cantidad\"},\"line_color\":{\"type\":\"value\",\"value\":\"teal\"},\"line_alpha\":{\"type\":\"value\",\"value\":0.2},\"fill_color\":{\"type\":\"value\",\"value\":\"teal\"},\"fill_alpha\":{\"type\":\"value\",\"value\":0.2},\"hatch_color\":{\"type\":\"value\",\"value\":\"teal\"},\"hatch_alpha\":{\"type\":\"value\",\"value\":0.2}}}}}],\"toolbar\":{\"type\":\"object\",\"name\":\"Toolbar\",\"id\":\"p5183\",\"attributes\":{\"tools\":[{\"type\":\"object\",\"name\":\"PanTool\",\"id\":\"p5196\"},{\"type\":\"object\",\"name\":\"WheelZoomTool\",\"id\":\"p5197\",\"attributes\":{\"renderers\":\"auto\"}},{\"type\":\"object\",\"name\":\"BoxZoomTool\",\"id\":\"p5198\",\"attributes\":{\"dimensions\":\"both\",\"overlay\":{\"type\":\"object\",\"name\":\"BoxAnnotation\",\"id\":\"p5199\",\"attributes\":{\"syncable\":false,\"line_color\":\"black\",\"line_alpha\":1.0,\"line_width\":2,\"line_dash\":[4,4],\"fill_color\":\"lightgrey\",\"fill_alpha\":0.5,\"level\":\"overlay\",\"visible\":false,\"left\":{\"type\":\"number\",\"value\":\"nan\"},\"right\":{\"type\":\"number\",\"value\":\"nan\"},\"top\":{\"type\":\"number\",\"value\":\"nan\"},\"bottom\":{\"type\":\"number\",\"value\":\"nan\"},\"left_units\":\"canvas\",\"right_units\":\"canvas\",\"top_units\":\"canvas\",\"bottom_units\":\"canvas\",\"handles\":{\"type\":\"object\",\"name\":\"BoxInteractionHandles\",\"id\":\"p5205\",\"attributes\":{\"all\":{\"type\":\"object\",\"name\":\"AreaVisuals\",\"id\":\"p5204\",\"attributes\":{\"fill_color\":\"white\",\"hover_fill_color\":\"lightgray\"}}}}}}}},{\"type\":\"object\",\"name\":\"ResetTool\",\"id\":\"p5206\"},{\"type\":\"object\",\"name\":\"SaveTool\",\"id\":\"p5207\"},{\"type\":\"object\",\"name\":\"HoverTool\",\"id\":\"p5217\",\"attributes\":{\"renderers\":\"auto\",\"tooltips\":[[\"Tama\\u00f1o de Grupo\",\"@Tama\\u00f1o_Grupo\"],[\"N\\u00famero de Grupos\",\"@Cantidad\"]],\"sort_by\":null}}]}},\"left\":[{\"type\":\"object\",\"name\":\"LinearAxis\",\"id\":\"p5191\",\"attributes\":{\"ticker\":{\"type\":\"object\",\"name\":\"BasicTicker\",\"id\":\"p5192\",\"attributes\":{\"mantissas\":[1,2,5]}},\"formatter\":{\"type\":\"object\",\"name\":\"BasicTickFormatter\",\"id\":\"p5193\"},\"major_label_policy\":{\"type\":\"object\",\"name\":\"AllLabels\",\"id\":\"p5194\"}}}],\"below\":[{\"type\":\"object\",\"name\":\"LinearAxis\",\"id\":\"p5186\",\"attributes\":{\"ticker\":{\"type\":\"object\",\"name\":\"BasicTicker\",\"id\":\"p5187\",\"attributes\":{\"mantissas\":[1,2,5]}},\"formatter\":{\"type\":\"object\",\"name\":\"BasicTickFormatter\",\"id\":\"p5188\"},\"major_label_policy\":{\"type\":\"object\",\"name\":\"AllLabels\",\"id\":\"p5189\"}}}],\"center\":[{\"type\":\"object\",\"name\":\"Grid\",\"id\":\"p5190\",\"attributes\":{\"axis\":{\"id\":\"p5186\"}}},{\"type\":\"object\",\"name\":\"Grid\",\"id\":\"p5195\",\"attributes\":{\"dimension\":1,\"axis\":{\"id\":\"p5191\"}}}]}}]}};\n  const render_items = [{\"docid\":\"dd76a412-b0ee-4750-85b4-14ce806d759a\",\"roots\":{\"p5174\":\"e7a8ab79-b008-42a1-a4fe-567812e4c19a\"},\"root_ids\":[\"p5174\"]}];\n  void root.Bokeh.embed.embed_items_notebook(docs_json, render_items);\n  }\n  if (root.Bokeh !== undefined) {\n    embed_document(root);\n  } else {\n    let attempts = 0;\n    const timer = setInterval(function(root) {\n      if (root.Bokeh !== undefined) {\n        clearInterval(timer);\n        embed_document(root);\n      } else {\n        attempts++;\n        if (attempts > 100) {\n          clearInterval(timer);\n          console.log(\"Bokeh: ERROR: Unable to run BokehJS code because BokehJS library is missing\");\n        }\n      }\n    }, 10, root)\n  }\n})(window);",
      "application/vnd.bokehjs_exec.v0+json": ""
     },
     "metadata": {
      "application/vnd.bokehjs_exec.v0+json": {
       "id": "p5174"
      }
     },
     "output_type": "display_data"
    },
    {
     "data": {
      "text/html": [
       "\n",
       "  <div id=\"d56d2baa-24fa-41cf-864b-eb40fc840b42\" data-root-id=\"p5226\" style=\"display: contents;\"></div>\n"
      ]
     },
     "metadata": {},
     "output_type": "display_data"
    },
    {
     "data": {
      "application/javascript": "(function(root) {\n  function embed_document(root) {\n  const docs_json = {\"dd9ba5ec-04b5-4f66-8d7d-5a1177e367c6\":{\"version\":\"3.8.0\",\"title\":\"Bokeh Application\",\"config\":{\"type\":\"object\",\"name\":\"DocumentConfig\",\"id\":\"p5271\",\"attributes\":{\"notifications\":{\"type\":\"object\",\"name\":\"Notifications\",\"id\":\"p5272\"}}},\"roots\":[{\"type\":\"object\",\"name\":\"Figure\",\"id\":\"p5226\",\"attributes\":{\"height\":400,\"x_range\":{\"type\":\"object\",\"name\":\"DataRange1d\",\"id\":\"p5228\"},\"y_range\":{\"type\":\"object\",\"name\":\"FactorRange\",\"id\":\"p5236\",\"attributes\":{\"factors\":[\"Colombiano\",\"Estados Unidos\",\"M\\u00e9xico\",\"Espa\\u00f1a\",\"Venezuela\",\"Extranjero\",\"Francia\",\"Ecuador\",\"Argentina\",\"Per\\u00fa\"]}},\"x_scale\":{\"type\":\"object\",\"name\":\"LinearScale\",\"id\":\"p5237\"},\"y_scale\":{\"type\":\"object\",\"name\":\"CategoricalScale\",\"id\":\"p5238\"},\"title\":{\"type\":\"object\",\"name\":\"Title\",\"id\":\"p5229\",\"attributes\":{\"text\":\"Top 10 Pa\\u00edses de Procedencia\",\"text_font_size\":\"14pt\"}},\"renderers\":[{\"type\":\"object\",\"name\":\"GlyphRenderer\",\"id\":\"p5267\",\"attributes\":{\"data_source\":{\"type\":\"object\",\"name\":\"ColumnDataSource\",\"id\":\"p5223\",\"attributes\":{\"selected\":{\"type\":\"object\",\"name\":\"Selection\",\"id\":\"p5224\",\"attributes\":{\"indices\":[],\"line_indices\":[]}},\"selection_policy\":{\"type\":\"object\",\"name\":\"UnionRenderers\",\"id\":\"p5225\"},\"data\":{\"type\":\"map\",\"entries\":[[\"index\",{\"type\":\"ndarray\",\"array\":{\"type\":\"bytes\",\"data\":\"H4sIAAEAAAAC/w3DiQ0AIAwEoNP6df+FhYQkGU7L5fZ4fbYfAnnvjSgAAAA=\"},\"shape\":[10],\"dtype\":\"int32\",\"order\":\"little\"}],[\"Pais\",{\"type\":\"ndarray\",\"array\":[\"Colombiano\",\"Estados Unidos\",\"M\\u00e9xico\",\"Espa\\u00f1a\",\"Venezuela\",\"Extranjero\",\"Francia\",\"Ecuador\",\"Argentina\",\"Per\\u00fa\"],\"shape\":[10],\"dtype\":\"object\",\"order\":\"little\"}],[\"Cantidad\",{\"type\":\"ndarray\",\"array\":{\"type\":\"bytes\",\"data\":\"H4sIAAEAAAAC/9MRZGBQYWBgkAViaSAWAmKgEAMPEHMDMRcQcwAxAG/bO+YoAAAA\"},\"shape\":[10],\"dtype\":\"int32\",\"order\":\"little\"}]]}}},\"view\":{\"type\":\"object\",\"name\":\"CDSView\",\"id\":\"p5268\",\"attributes\":{\"filter\":{\"type\":\"object\",\"name\":\"AllIndices\",\"id\":\"p5269\"}}},\"glyph\":{\"type\":\"object\",\"name\":\"HBar\",\"id\":\"p5264\",\"attributes\":{\"y\":{\"type\":\"field\",\"field\":\"Pais\"},\"height\":{\"type\":\"value\",\"value\":0.8},\"right\":{\"type\":\"field\",\"field\":\"Cantidad\"},\"line_color\":{\"type\":\"value\",\"value\":\"red\"},\"line_alpha\":{\"type\":\"value\",\"value\":0.7},\"fill_color\":{\"type\":\"value\",\"value\":\"red\"},\"fill_alpha\":{\"type\":\"value\",\"value\":0.7},\"hatch_color\":{\"type\":\"value\",\"value\":\"red\"},\"hatch_alpha\":{\"type\":\"value\",\"value\":0.7}}},\"nonselection_glyph\":{\"type\":\"object\",\"name\":\"HBar\",\"id\":\"p5265\",\"attributes\":{\"y\":{\"type\":\"field\",\"field\":\"Pais\"},\"height\":{\"type\":\"value\",\"value\":0.8},\"right\":{\"type\":\"field\",\"field\":\"Cantidad\"},\"line_color\":{\"type\":\"value\",\"value\":\"red\"},\"line_alpha\":{\"type\":\"value\",\"value\":0.1},\"fill_color\":{\"type\":\"value\",\"value\":\"red\"},\"fill_alpha\":{\"type\":\"value\",\"value\":0.1},\"hatch_color\":{\"type\":\"value\",\"value\":\"red\"},\"hatch_alpha\":{\"type\":\"value\",\"value\":0.1}}},\"muted_glyph\":{\"type\":\"object\",\"name\":\"HBar\",\"id\":\"p5266\",\"attributes\":{\"y\":{\"type\":\"field\",\"field\":\"Pais\"},\"height\":{\"type\":\"value\",\"value\":0.8},\"right\":{\"type\":\"field\",\"field\":\"Cantidad\"},\"line_color\":{\"type\":\"value\",\"value\":\"red\"},\"line_alpha\":{\"type\":\"value\",\"value\":0.2},\"fill_color\":{\"type\":\"value\",\"value\":\"red\"},\"fill_alpha\":{\"type\":\"value\",\"value\":0.2},\"hatch_color\":{\"type\":\"value\",\"value\":\"red\"},\"hatch_alpha\":{\"type\":\"value\",\"value\":0.2}}}}}],\"toolbar\":{\"type\":\"object\",\"name\":\"Toolbar\",\"id\":\"p5235\",\"attributes\":{\"tools\":[{\"type\":\"object\",\"name\":\"PanTool\",\"id\":\"p5249\"},{\"type\":\"object\",\"name\":\"WheelZoomTool\",\"id\":\"p5250\",\"attributes\":{\"renderers\":\"auto\"}},{\"type\":\"object\",\"name\":\"BoxZoomTool\",\"id\":\"p5251\",\"attributes\":{\"dimensions\":\"both\",\"overlay\":{\"type\":\"object\",\"name\":\"BoxAnnotation\",\"id\":\"p5252\",\"attributes\":{\"syncable\":false,\"line_color\":\"black\",\"line_alpha\":1.0,\"line_width\":2,\"line_dash\":[4,4],\"fill_color\":\"lightgrey\",\"fill_alpha\":0.5,\"level\":\"overlay\",\"visible\":false,\"left\":{\"type\":\"number\",\"value\":\"nan\"},\"right\":{\"type\":\"number\",\"value\":\"nan\"},\"top\":{\"type\":\"number\",\"value\":\"nan\"},\"bottom\":{\"type\":\"number\",\"value\":\"nan\"},\"left_units\":\"canvas\",\"right_units\":\"canvas\",\"top_units\":\"canvas\",\"bottom_units\":\"canvas\",\"handles\":{\"type\":\"object\",\"name\":\"BoxInteractionHandles\",\"id\":\"p5258\",\"attributes\":{\"all\":{\"type\":\"object\",\"name\":\"AreaVisuals\",\"id\":\"p5257\",\"attributes\":{\"fill_color\":\"white\",\"hover_fill_color\":\"lightgray\"}}}}}}}},{\"type\":\"object\",\"name\":\"ResetTool\",\"id\":\"p5259\"},{\"type\":\"object\",\"name\":\"SaveTool\",\"id\":\"p5260\"},{\"type\":\"object\",\"name\":\"HoverTool\",\"id\":\"p5270\",\"attributes\":{\"renderers\":\"auto\",\"tooltips\":[[\"Pa\\u00eds\",\"@Pais\"],[\"Visitantes\",\"@Cantidad\"]],\"sort_by\":null}}]}},\"left\":[{\"type\":\"object\",\"name\":\"CategoricalAxis\",\"id\":\"p5244\",\"attributes\":{\"ticker\":{\"type\":\"object\",\"name\":\"CategoricalTicker\",\"id\":\"p5245\"},\"formatter\":{\"type\":\"object\",\"name\":\"CategoricalTickFormatter\",\"id\":\"p5246\"},\"major_label_policy\":{\"type\":\"object\",\"name\":\"AllLabels\",\"id\":\"p5247\"}}}],\"below\":[{\"type\":\"object\",\"name\":\"LinearAxis\",\"id\":\"p5239\",\"attributes\":{\"ticker\":{\"type\":\"object\",\"name\":\"BasicTicker\",\"id\":\"p5240\",\"attributes\":{\"mantissas\":[1,2,5]}},\"formatter\":{\"type\":\"object\",\"name\":\"BasicTickFormatter\",\"id\":\"p5241\"},\"major_label_policy\":{\"type\":\"object\",\"name\":\"AllLabels\",\"id\":\"p5242\"}}}],\"center\":[{\"type\":\"object\",\"name\":\"Grid\",\"id\":\"p5243\",\"attributes\":{\"axis\":{\"id\":\"p5239\"}}},{\"type\":\"object\",\"name\":\"Grid\",\"id\":\"p5248\",\"attributes\":{\"dimension\":1,\"axis\":{\"id\":\"p5244\"}}}]}}]}};\n  const render_items = [{\"docid\":\"dd9ba5ec-04b5-4f66-8d7d-5a1177e367c6\",\"roots\":{\"p5226\":\"d56d2baa-24fa-41cf-864b-eb40fc840b42\"},\"root_ids\":[\"p5226\"]}];\n  void root.Bokeh.embed.embed_items_notebook(docs_json, render_items);\n  }\n  if (root.Bokeh !== undefined) {\n    embed_document(root);\n  } else {\n    let attempts = 0;\n    const timer = setInterval(function(root) {\n      if (root.Bokeh !== undefined) {\n        clearInterval(timer);\n        embed_document(root);\n      } else {\n        attempts++;\n        if (attempts > 100) {\n          clearInterval(timer);\n          console.log(\"Bokeh: ERROR: Unable to run BokehJS code because BokehJS library is missing\");\n        }\n      }\n    }, 10, root)\n  }\n})(window);",
      "application/vnd.bokehjs_exec.v0+json": ""
     },
     "metadata": {
      "application/vnd.bokehjs_exec.v0+json": {
       "id": "p5226"
      }
     },
     "output_type": "display_data"
    }
   ],
   "source": [
    "# DATA ANALYSIS AND INTERACTIVE VISUALIZATIONS\n",
    "\n",
    "# Temporal analysis - Monthly distribution\n",
    "month_counts = df['MES'].value_counts().sort_index()\n",
    "month_data = month_counts.reset_index()\n",
    "month_data.columns = ['Mes', 'Cantidad']\n",
    "source_month = ColumnDataSource(month_data)\n",
    "\n",
    "p2 = figure(x_range=[str(x) for x in month_data['Mes']], height=350, \n",
    "           title='Distribución Mensual de Visitas',\n",
    "           tools='pan,wheel_zoom,box_zoom,reset,save')\n",
    "\n",
    "p2.vbar(x='Mes', top='Cantidad', width=0.8, source=source_month, color='navy', alpha=0.7)\n",
    "p2.add_tools(HoverTool(tooltips=[('Mes', '@Mes'), ('Visitas', '@Cantidad')]))\n",
    "p2.title.text_font_size = \"14pt\"\n",
    "show(p2)\n",
    "\n",
    "# Yearly distribution  \n",
    "year_counts = df['AÑO'].value_counts().sort_index()\n",
    "year_data = year_counts.reset_index()\n",
    "year_data.columns = ['Año', 'Cantidad']\n",
    "source_year = ColumnDataSource(year_data)\n",
    "\n",
    "p3 = figure(x_range=[str(x) for x in year_data['Año']], height=350, \n",
    "           title='Distribución Anual de Visitas',\n",
    "           tools='pan,wheel_zoom,box_zoom,reset,save')\n",
    "\n",
    "p3.vbar(x='Año', top='Cantidad', width=0.8, source=source_year, color='darkgreen', alpha=0.7)\n",
    "p3.add_tools(HoverTool(tooltips=[('Año', '@Año'), ('Visitas', '@Cantidad')]))\n",
    "p3.title.text_font_size = \"14pt\"\n",
    "show(p3)\n",
    "\n",
    "# Cities analysis (using cleaned data) - Origin cities\n",
    "origin_counts = df['CIUDAD_ORIGEN_CLEAN'].value_counts()\n",
    "origin_data = origin_counts.head(10).reset_index()\n",
    "origin_data.columns = ['Ciudad', 'Cantidad']\n",
    "source_origin = ColumnDataSource(origin_data)\n",
    "\n",
    "p4 = figure(y_range=origin_data['Ciudad'], height=400, \n",
    "           title='Top 10 Ciudades de Origen (Datos Limpios)',\n",
    "           tools='pan,wheel_zoom,box_zoom,reset,save')\n",
    "\n",
    "p4.hbar(y='Ciudad', right='Cantidad', height=0.8, source=source_origin, \n",
    "        color='green', alpha=0.7)\n",
    "p4.add_tools(HoverTool(tooltips=[('Ciudad', '@Ciudad'), ('Visitantes', '@Cantidad')]))\n",
    "p4.title.text_font_size = \"14pt\"\n",
    "show(p4)\n",
    "\n",
    "# Destination cities analysis (using cleaned data)\n",
    "destination_cols_clean = ['CIUDAD DE DESTINO 1_CLEAN', 'CIUDAD DE DESTINO 2_CLEAN', \n",
    "                         'CIUDAD DE DESTINO 3_CLEAN', 'CIUDAD DE DESTINO 4_CLEAN', \n",
    "                         'CIUDAD DE DESTINO 5_CLEAN']\n",
    "all_destinations = []\n",
    "for col in destination_cols_clean:\n",
    "    destinations = df[col].dropna()\n",
    "    destinations = destinations[destinations != 'NA']\n",
    "    all_destinations.extend(destinations.tolist())\n",
    "\n",
    "destination_counts = pd.Series(all_destinations).value_counts()\n",
    "destination_data = destination_counts.head(10).reset_index()\n",
    "destination_data.columns = ['Ciudad', 'Cantidad']\n",
    "source_dest = ColumnDataSource(destination_data)\n",
    "\n",
    "p5 = figure(y_range=destination_data['Ciudad'], height=400, \n",
    "           title='Top 10 Ciudades de Destino (Datos Limpios)',\n",
    "           tools='pan,wheel_zoom,box_zoom,reset,save')\n",
    "\n",
    "p5.hbar(y='Ciudad', right='Cantidad', height=0.8, source=source_dest, \n",
    "        color='orange', alpha=0.7)\n",
    "p5.add_tools(HoverTool(tooltips=[('Ciudad', '@Ciudad'), ('Visitas', '@Cantidad')]))\n",
    "p5.title.text_font_size = \"14pt\"\n",
    "show(p5)\n",
    "\n",
    "# Calculate popularity by number of destinations visited\n",
    "df['num_destinations'] = 0\n",
    "for col in destination_cols_clean:\n",
    "    df['num_destinations'] += ((df[col].notna()) & (df[col] != 'NA')).astype(int)\n",
    "\n",
    "destination_popularity = df['num_destinations'].value_counts().sort_index()\n",
    "multi_dest_data = destination_popularity.reset_index()\n",
    "multi_dest_data.columns = ['Num_Destinos', 'Cantidad']\n",
    "source_multi = ColumnDataSource(multi_dest_data)\n",
    "\n",
    "p6 = figure(title=\"Distribución por Número de Destinos Visitados\",\n",
    "            x_axis_label='Número de Destinos', y_axis_label='Número de Turistas',\n",
    "            width=600, height=400,\n",
    "            tools=\"pan,wheel_zoom,box_zoom,reset,save\")\n",
    "\n",
    "p6.vbar(x='Num_Destinos', top='Cantidad', width=0.8, source=source_multi, \n",
    "         color='coral', alpha=0.8)\n",
    "p6.add_tools(HoverTool(tooltips=[('Destinos', '@Num_Destinos'), \n",
    "                                 ('Turistas', '@Cantidad')]))\n",
    "p6.title.text_font_size = \"14pt\"\n",
    "show(p6)\n",
    "\n",
    "# Travel motivation analysis (using cleaned data)\n",
    "travel_reason = df['MOTIVO_CLEAN'].value_counts()\n",
    "reason_data = travel_reason.reset_index()\n",
    "reason_data.columns = ['Motivo', 'Cantidad']\n",
    "source_reason = ColumnDataSource(reason_data)\n",
    "\n",
    "p7 = figure(x_range=reason_data['Motivo'], height=400, \n",
    "           title='Distribución de Motivos de Viaje (Datos Limpios)',\n",
    "           tools='pan,wheel_zoom,box_zoom,reset,save')\n",
    "\n",
    "p7.vbar(x='Motivo', top='Cantidad', width=0.8, source=source_reason,\n",
    "        color=factor_cmap('Motivo', palette=Viridis256[::30], \n",
    "                         factors=reason_data['Motivo'].tolist()))\n",
    "p7.add_tools(HoverTool(tooltips=[('Motivo', '@Motivo'), ('Cantidad', '@Cantidad')]))\n",
    "p7.xaxis.major_label_orientation = 1.2\n",
    "p7.title.text_font_size = \"14pt\"\n",
    "show(p7)\n",
    "\n",
    "# Transportation mode analysis (using cleaned data)\n",
    "# transport = df['TRANSPORTE_CLEAN'].value_counts()\n",
    "# transport_data = transport.reset_index()\n",
    "# transport_data.columns = ['Transporte', 'Cantidad']\n",
    "# source_transport = ColumnDataSource(transport_data)\n",
    "\n",
    "# p8 = figure(x_range=transport_data['Transporte'], height=400, \n",
    "#            title='Distribución de Medios de Transporte (Datos Limpios)',\n",
    "#            tools='pan,wheel_zoom,box_zoom,reset,save')\n",
    "\n",
    "# p8.vbar(x='Transporte', top='Cantidad', width=0.8, source=source_transport, \n",
    "#         color=factor_cmap('Transporte', palette=Category20[:len(transport_data)], \n",
    "#                          factors=transport_data['Transporte'].tolist()), alpha=0.7)\n",
    "# p8.add_tools(HoverTool(tooltips=[('Transporte', '@Transporte'), ('Cantidad', '@Cantidad')]))\n",
    "# p8.xaxis.major_label_orientation = 1.2\n",
    "# p8.title.text_font_size = \"14pt\"\n",
    "# show(p8)\n",
    "\n",
    "# Trip duration analysis\n",
    "duration_stats = df['TIEMPO DE PERMANENCIA EN DIAS'].describe()\n",
    "duration_counts = df['TIEMPO DE PERMANENCIA EN DIAS'].value_counts().sort_index()\n",
    "duration_data = duration_counts.reset_index()\n",
    "duration_data.columns = ['Dias', 'Cantidad']\n",
    "source_duration = ColumnDataSource(duration_data)\n",
    "\n",
    "p9 = figure(height=400, title='Distribución de Duración del Viaje (Días)',\n",
    "           tools='pan,wheel_zoom,box_zoom,reset,save')\n",
    "\n",
    "p9.line(x='Dias', y='Cantidad', source=source_duration, line_width=3, color='purple')\n",
    "p9.circle(x='Dias', y='Cantidad', source=source_duration, size=8, color='purple', alpha=0.7)\n",
    "p9.add_tools(HoverTool(tooltips=[('Días', '@Dias'), ('Cantidad', '@Cantidad')]))\n",
    "p9.title.text_font_size = \"14pt\"\n",
    "show(p9)\n",
    "\n",
    "# Group size analysis (how many people travel together)\n",
    "travelers_stats = df['CANTIDAD DE VIAJEROS'].describe()\n",
    "travelers_counts = df['CANTIDAD DE VIAJEROS'].value_counts().sort_index()\n",
    "travelers_data = travelers_counts.reset_index()\n",
    "travelers_data.columns = ['Tamaño_Grupo', 'Cantidad']\n",
    "source_travelers = ColumnDataSource(travelers_data)\n",
    "\n",
    "p10 = figure(height=400, title='Distribución del Tamaño de Grupos de Viaje',\n",
    "           tools='pan,wheel_zoom,box_zoom,reset,save')\n",
    "\n",
    "p10.vbar(x='Tamaño_Grupo', top='Cantidad', width=0.8, source=source_travelers, color='teal', alpha=0.7)\n",
    "p10.add_tools(HoverTool(tooltips=[('Tamaño de Grupo', '@Tamaño_Grupo'), ('Número de Grupos', '@Cantidad')]))\n",
    "p10.title.text_font_size = \"14pt\"\n",
    "show(p10)\n",
    "\n",
    "# Country of origin analysis\n",
    "# country_counts = df['PAIS DE PROCEDENCIA'].value_counts()\n",
    "# country_data = country_counts.head(10).reset_index()\n",
    "# country_data.columns = ['Pais', 'Cantidad']\n",
    "# source_country = ColumnDataSource(country_data)\n",
    "\n",
    "# p11 = figure(y_range=country_data['Pais'], height=400, \n",
    "#            title='Top 10 Países de Procedencia',\n",
    "#            tools='pan,wheel_zoom,box_zoom,reset,save')\n",
    "\n",
    "# p11.hbar(y='Pais', right='Cantidad', height=0.8, source=source_country, \n",
    "#          color='red', alpha=0.7)\n",
    "# p11.add_tools(HoverTool(tooltips=[('País', '@Pais'), ('Visitantes', '@Cantidad')]))\n",
    "# p11.title.text_font_size = \"14pt\"\n",
    "# show(p11)\n"
   ]
  }
 ],
 "metadata": {
  "kernelspec": {
   "display_name": "Python 3 (ipykernel)",
   "language": "python",
   "name": "python3"
  },
  "language_info": {
   "codemirror_mode": {
    "name": "ipython",
    "version": 3
   },
   "file_extension": ".py",
   "mimetype": "text/x-python",
   "name": "python",
   "nbconvert_exporter": "python",
   "pygments_lexer": "ipython3",
   "version": "3.11.9"
  }
 },
 "nbformat": 4,
 "nbformat_minor": 5
}
